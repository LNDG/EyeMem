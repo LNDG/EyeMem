{
 "cells": [
  {
   "cell_type": "code",
   "execution_count": 1,
   "metadata": {},
   "outputs": [
    {
     "name": "stdout",
     "output_type": "stream",
     "text": [
      "Warning: model_gui funciton unavailable.  To use model_gui, please import ddm.plot before matplotlib.pyplot.\n"
     ]
    }
   ],
   "source": [
    "import scipy.io\n",
    "import seaborn as sns\n",
    "import numpy as np\n",
    "import ddm.plot # needs to be imported before matplotlib\n",
    "import matplotlib.pyplot as plt\n",
    "import pandas as pd\n",
    "import os, sys \n",
    "import ddm.models\n",
    "from itertools import product\n",
    "from ddm import Sample, Model, Fittable, Solution, Fitted, InitialCondition\n",
    "from ddm.functions import fit_adjust_model, display_model, fit_model, dependence_hit_boundary\n",
    "from ddm.models import DriftConstant, NoiseConstant,  BoundCollapsingExponential, LossRobustBIC, OverlayNonDecision,  ICRange\n",
    "from scipy import stats\n",
    "from scipy.stats import zscore\n",
    "from scipy.stats import ttest_ind\n",
    "from ddm.fitresult import FitResult, FitResultEmpty"
   ]
  },
  {
   "cell_type": "code",
   "execution_count": 2,
   "metadata": {},
   "outputs": [
    {
     "data": {
      "text/html": [
       "<div>\n",
       "<style scoped>\n",
       "    .dataframe tbody tr th:only-of-type {\n",
       "        vertical-align: middle;\n",
       "    }\n",
       "\n",
       "    .dataframe tbody tr th {\n",
       "        vertical-align: top;\n",
       "    }\n",
       "\n",
       "    .dataframe thead th {\n",
       "        text-align: right;\n",
       "    }\n",
       "</style>\n",
       "<table border=\"1\" class=\"dataframe\">\n",
       "  <thead>\n",
       "    <tr style=\"text-align: right;\">\n",
       "      <th></th>\n",
       "      <th>subj_idx</th>\n",
       "      <th>category</th>\n",
       "      <th>stim</th>\n",
       "      <th>response</th>\n",
       "      <th>accuracy</th>\n",
       "      <th>rt</th>\n",
       "      <th>age</th>\n",
       "      <th>z_rt</th>\n",
       "    </tr>\n",
       "  </thead>\n",
       "  <tbody>\n",
       "    <tr>\n",
       "      <th>0</th>\n",
       "      <td>9</td>\n",
       "      <td>3</td>\n",
       "      <td>1</td>\n",
       "      <td>2.0</td>\n",
       "      <td>1</td>\n",
       "      <td>0.739</td>\n",
       "      <td>0</td>\n",
       "      <td>-0.796713</td>\n",
       "    </tr>\n",
       "    <tr>\n",
       "      <th>1</th>\n",
       "      <td>9</td>\n",
       "      <td>3</td>\n",
       "      <td>1</td>\n",
       "      <td>2.0</td>\n",
       "      <td>1</td>\n",
       "      <td>0.859</td>\n",
       "      <td>0</td>\n",
       "      <td>-0.455187</td>\n",
       "    </tr>\n",
       "    <tr>\n",
       "      <th>2</th>\n",
       "      <td>9</td>\n",
       "      <td>3</td>\n",
       "      <td>1</td>\n",
       "      <td>1.0</td>\n",
       "      <td>0</td>\n",
       "      <td>0.716</td>\n",
       "      <td>0</td>\n",
       "      <td>-0.862172</td>\n",
       "    </tr>\n",
       "    <tr>\n",
       "      <th>3</th>\n",
       "      <td>9</td>\n",
       "      <td>3</td>\n",
       "      <td>0</td>\n",
       "      <td>1.0</td>\n",
       "      <td>0</td>\n",
       "      <td>1.153</td>\n",
       "      <td>0</td>\n",
       "      <td>0.381551</td>\n",
       "    </tr>\n",
       "    <tr>\n",
       "      <th>4</th>\n",
       "      <td>9</td>\n",
       "      <td>3</td>\n",
       "      <td>0</td>\n",
       "      <td>2.0</td>\n",
       "      <td>0</td>\n",
       "      <td>0.665</td>\n",
       "      <td>0</td>\n",
       "      <td>-1.007320</td>\n",
       "    </tr>\n",
       "    <tr>\n",
       "      <th>...</th>\n",
       "      <td>...</td>\n",
       "      <td>...</td>\n",
       "      <td>...</td>\n",
       "      <td>...</td>\n",
       "      <td>...</td>\n",
       "      <td>...</td>\n",
       "      <td>...</td>\n",
       "      <td>...</td>\n",
       "    </tr>\n",
       "    <tr>\n",
       "      <th>26007</th>\n",
       "      <td>101</td>\n",
       "      <td>3</td>\n",
       "      <td>0</td>\n",
       "      <td>2.0</td>\n",
       "      <td>1</td>\n",
       "      <td>1.008</td>\n",
       "      <td>1</td>\n",
       "      <td>-0.031126</td>\n",
       "    </tr>\n",
       "    <tr>\n",
       "      <th>26008</th>\n",
       "      <td>101</td>\n",
       "      <td>3</td>\n",
       "      <td>1</td>\n",
       "      <td>1.0</td>\n",
       "      <td>1</td>\n",
       "      <td>0.838</td>\n",
       "      <td>1</td>\n",
       "      <td>-0.514954</td>\n",
       "    </tr>\n",
       "    <tr>\n",
       "      <th>26009</th>\n",
       "      <td>101</td>\n",
       "      <td>3</td>\n",
       "      <td>1</td>\n",
       "      <td>1.0</td>\n",
       "      <td>1</td>\n",
       "      <td>0.609</td>\n",
       "      <td>1</td>\n",
       "      <td>-1.166699</td>\n",
       "    </tr>\n",
       "    <tr>\n",
       "      <th>26010</th>\n",
       "      <td>101</td>\n",
       "      <td>3</td>\n",
       "      <td>0</td>\n",
       "      <td>1.0</td>\n",
       "      <td>0</td>\n",
       "      <td>0.712</td>\n",
       "      <td>1</td>\n",
       "      <td>-0.873556</td>\n",
       "    </tr>\n",
       "    <tr>\n",
       "      <th>26011</th>\n",
       "      <td>101</td>\n",
       "      <td>3</td>\n",
       "      <td>0</td>\n",
       "      <td>2.0</td>\n",
       "      <td>1</td>\n",
       "      <td>0.884</td>\n",
       "      <td>1</td>\n",
       "      <td>-0.384036</td>\n",
       "    </tr>\n",
       "  </tbody>\n",
       "</table>\n",
       "<p>25549 rows × 8 columns</p>\n",
       "</div>"
      ],
      "text/plain": [
       "       subj_idx  category  stim  response  accuracy     rt  age      z_rt\n",
       "0             9         3     1       2.0         1  0.739    0 -0.796713\n",
       "1             9         3     1       2.0         1  0.859    0 -0.455187\n",
       "2             9         3     1       1.0         0  0.716    0 -0.862172\n",
       "3             9         3     0       1.0         0  1.153    0  0.381551\n",
       "4             9         3     0       2.0         0  0.665    0 -1.007320\n",
       "...         ...       ...   ...       ...       ...    ...  ...       ...\n",
       "26007       101         3     0       2.0         1  1.008    1 -0.031126\n",
       "26008       101         3     1       1.0         1  0.838    1 -0.514954\n",
       "26009       101         3     1       1.0         1  0.609    1 -1.166699\n",
       "26010       101         3     0       1.0         0  0.712    1 -0.873556\n",
       "26011       101         3     0       2.0         1  0.884    1 -0.384036\n",
       "\n",
       "[25549 rows x 8 columns]"
      ]
     },
     "execution_count": 2,
     "metadata": {},
     "output_type": "execute_result"
    }
   ],
   "source": [
    "df = pd.read_csv(\"/Users/terlau/LNDG/EyeMem/EyeMem_1/DDM/EyeMem_hddm_test.csv\")\n",
    "# Clean from Invalid Reaction Times \n",
    "data=df.loc[~df['rt'].isnull()]\n",
    "# remove trials with RTs faster than 0.2 seconds\n",
    "data = data[~(data['rt'] < 0.2)]  \n",
    "#data['rt'] = data[data[\"rt\"] > 1.65] # Remove trials greater than 1650ms\n",
    "data['z_rt'] = stats.zscore(data['rt'])\n",
    "# keep only trials within +3 to -3 standard deviations\n",
    "data = data[np.abs(data['z_rt']) < 3]\n",
    "#data = data[np.abs(data['rt']-data['rt'].mean()) <= (3*data['rt'].std())]\n",
    "\n",
    "# create a lst with unique sub ids\n",
    "SubjectList = np.unique(data['subj_idx'])\n",
    "data"
   ]
  },
  {
   "cell_type": "code",
   "execution_count": 3,
   "metadata": {},
   "outputs": [
    {
     "name": "stdout",
     "output_type": "stream",
     "text": [
      "2.072\n",
      "0.231\n",
      "age\n",
      "0    1.057011\n",
      "1    0.953713\n",
      "Name: rt, dtype: float64\n",
      "age\n",
      "0    0.739870\n",
      "1    0.672684\n",
      "Name: accuracy, dtype: float64\n"
     ]
    },
    {
     "data": {
      "image/png": "[encoded data removed]",
      "text/plain": [
       "<Figure size 432x288 with 1 Axes>"
      ]
     },
     "metadata": {
      "needs_background": "light"
     },
     "output_type": "display_data"
    }
   ],
   "source": [
    "print(data['rt'].max())\n",
    "print(data['rt'].min())\n",
    "df_age= data.groupby('age')\n",
    "print(df_age['rt'].mean())\n",
    "print(df_age['accuracy'].mean())\n",
    "sns.histplot(data=data, x=\"rt\", hue=\"age\")\n",
    "plt.show()\n"
   ]
  },
  {
   "cell_type": "code",
   "execution_count": 4,
   "metadata": {},
   "outputs": [
    {
     "data": {
      "text/plain": [
       "subj_idx    0\n",
       "category    0\n",
       "stim        0\n",
       "response    0\n",
       "accuracy    0\n",
       "rt          0\n",
       "age         0\n",
       "z_rt        0\n",
       "dtype: int64"
      ]
     },
     "execution_count": 4,
     "metadata": {},
     "output_type": "execute_result"
    }
   ],
   "source": [
    "data.isnull().sum()"
   ]
  },
  {
   "cell_type": "code",
   "execution_count": 7,
   "metadata": {},
   "outputs": [],
   "source": [
    "from ddm import Drift\n",
    "class DriftCategoryRespBias(Drift):\n",
    "    name = \"Drift depends linearly on category, with a response bias\"\n",
    "    required_parameters = [\"driftcat\", \"respbias\"] # <-- Parameters we want to include in the model\n",
    "    required_conditions = [\"category\", \"resp\"] # <-- Task parameters (\"conditions\"). Should be the same name as in the sample.\n",
    "    \n",
    "    # We must always define the get_drift function, which is used to compute the instantaneous value of drift.\n",
    "    def get_drift(self, conditions, **kwargs):\n",
    "        # respbias is the fittable object (-1 to 1) multiplied with 1 or -1 dependent on \"yes\" or \"no\"\n",
    "        resp_bias = self.respbias * (1 if conditions['resp'] == 1 else -1)\n",
    "        return self.driftcat * conditions['category'] + resp_bias"
   ]
  },
  {
   "cell_type": "code",
   "execution_count": 5,
   "metadata": {},
   "outputs": [],
   "source": [
    "#from ddm import Drift\n",
    "class DriftRespBias(Drift):\n",
    "    name = \"Drift bias\"\n",
    "    required_parameters = [\"drift\", \"respbias\"] # <-- Parameters we want to include in the model\n",
    "    required_conditions = [\"resp\"] # <-- Task parameters (\"conditions\"). Should be the same name as in the sample.\n",
    "    \n",
    "    # We must always define the get_drift function, which is used to compute the instantaneous value of drift.\n",
    "    def get_drift(self, conditions, **kwargs):\n",
    "        # respbias is the fittable object (-1 to 1) multiplied with 1 or -1 dependent on \"yes\" or \"no\"\n",
    "        resp_bias = self.respbias * (1 if conditions['resp'] == 1 else -1)\n",
    "        #the fitted drift rate with the added resp_bias\n",
    "        return self.drift + resp_bias\n"
   ]
  },
  {
   "cell_type": "markdown",
   "metadata": {},
   "source": [
    "When fitting both the initial condition and the bound height, it can be preferable to express the initial condition as a proportion of the total distance between the bounds. This ensures that the initial condition will always stay within the bounds, preventing errors in fitting."
   ]
  },
  {
   "cell_type": "code",
   "execution_count": 8,
   "metadata": {},
   "outputs": [],
   "source": [
    "class ICPointRespRatio(InitialCondition):\n",
    "    name = \"A response-biased starting point expressed as a proportion of the distance between the bounds.\"\n",
    "    required_parameters = [\"x0\"]\n",
    "    required_conditions = [\"resp\"]\n",
    "    def get_IC(self, x, dx, conditions):\n",
    "        x0 = self.x0/2 + .5 #rescale to between 0 and 1\n",
    "        # resp bias > .5 for yes, resp bias < .5 for no response. \n",
    "        # positive bias for \"yes\" response conditions, negative for \"no\" \n",
    "        if not conditions['resp'] == 1:\n",
    "            x0 = 1-x0\n",
    "       \n",
    "        shift_i = int((len(x)-1)*x0)\n",
    "        assert shift_i >= 0 and shift_i < len(x), \"Invalid initial conditions\"\n",
    "        pdf = np.zeros(len(x))\n",
    "        pdf[shift_i] = 1. # Initial condition at x=x0*2*B.\n",
    "        return pdf    \n",
    "\n"
   ]
  },
  {
   "cell_type": "code",
   "execution_count": 9,
   "metadata": {},
   "outputs": [],
   "source": [
    "def setup_model():\n",
    "    \"\"\"\n",
    "    Function to setup model. \n",
    "    \"\"\"\n",
    "    model = Model(name='Cat dep drift + biases model',\n",
    "            #drift=DriftConstant(drift=1),#Fittable(minval=0, maxval=4)\n",
    "            drift = DriftCategoryRespBias(driftcat=Fittable(minval=0, maxval=4),respbias=Fittable(minval=-1, maxval=1)),\n",
    "            #drift=DriftRespBias(drift=Fittable(minval=0, maxval=4),respbias=Fittable(minval=-1, maxval=1)),\n",
    "            noise=NoiseConstant(noise=1),\n",
    "            bound = BoundCollapsingExponential(B=Fittable(minval=0, maxval=6),tau=Fittable(minval=0.001,maxval=5)),\n",
    "            #bound=BoundConstant(B=Fittable(minval=0, maxval=2)),\n",
    "            IC=ICPointRespRatio(x0=Fittable(minval=-1, maxval=1)),\n",
    "            #IC = ICPointResp(x0=0)\n",
    "            overlay=OverlayNonDecision(nondectime=Fittable(minval=0, maxval=2)),\n",
    "            dx=.01, dt=.01, T_dur=2.5)      \n",
    "      \n",
    "    return model\n"
   ]
  },
  {
   "cell_type": "markdown",
   "metadata": {},
   "source": [
    "Analytic solutions are only possible in a select number of special cases; in particular, it works for simple DDM and for linearly collapsing bounds and arbitrary single-point initial conditions. (See Anderson (1960) for implementation details.) For most reasonably complex models, the method will fail. Check whether a solution is possible with has_analytic_solution()"
   ]
  },
  {
   "cell_type": "code",
   "execution_count": 11,
   "metadata": {},
   "outputs": [
    {
     "name": "stdout",
     "output_type": "stream",
     "text": [
      "2.0\n",
      "mean decision time 0.7958405172413793\n",
      "condition names ['subj_idx', 'category', 'stim', 'response', 'age', 'z_rt', 'resp']\n",
      "probability of correct and error trials 0.7759197324414716 0.22408026755852842\n",
      "probability of undecided trials 0.0\n",
      "False\n",
      "False\n"
     ]
    },
    {
     "name": "stderr",
     "output_type": "stream",
     "text": [
      "<ipython-input-11-7dace5c40c8a>:22: SettingWithCopyWarning: \n",
      "A value is trying to be set on a copy of a slice from a DataFrame.\n",
      "Try using .loc[row_indexer,col_indexer] = value instead\n",
      "\n",
      "See the caveats in the documentation: https://pandas.pydata.org/pandas-docs/stable/user_guide/indexing.html#returning-a-view-versus-a-copy\n",
      "  sub_df['resp']=np.where(sub_df[\"response\"] == resp[0],1,0)\n"
     ]
    },
    {
     "name": "stdout",
     "output_type": "stream",
     "text": [
      "Params [3.29221912e-01 4.88545641e-02 1.23000002e+00 2.64501224e+00\n",
      " 2.10013497e-03 4.81843413e-01] gave -65.6036298104182\n",
      "Fitted FitResult(fitting_method='differential_evolution', method='auto', loss='BIC', value=-65.6036298104182, nparams=6, samplesize=299, mess='')\n",
      "9\n",
      "1.0\n",
      "mean decision time 0.799344978165939\n",
      "condition names ['subj_idx', 'category', 'stim', 'response', 'age', 'z_rt', 'resp']\n",
      "probability of correct and error trials 0.7658862876254181 0.23411371237458195\n",
      "probability of undecided trials 0.0\n",
      "False\n",
      "False\n"
     ]
    },
    {
     "name": "stderr",
     "output_type": "stream",
     "text": [
      "<ipython-input-11-7dace5c40c8a>:22: SettingWithCopyWarning: \n",
      "A value is trying to be set on a copy of a slice from a DataFrame.\n",
      "Try using .loc[row_indexer,col_indexer] = value instead\n",
      "\n",
      "See the caveats in the documentation: https://pandas.pydata.org/pandas-docs/stable/user_guide/indexing.html#returning-a-view-versus-a-copy\n",
      "  sub_df['resp']=np.where(sub_df[\"response\"] == resp[0],1,0)\n"
     ]
    },
    {
     "name": "stdout",
     "output_type": "stream",
     "text": [
      "Params [0.33482604 0.20895622 0.68269922 0.90662674 0.02487432 0.5371242 ] gave 51.388917219757026\n",
      "Fitted FitResult(fitting_method='differential_evolution', method='auto', loss='BIC', value=51.388917219757026, nparams=6, samplesize=299, mess='')\n",
      "10\n"
     ]
    },
    {
     "name": "stderr",
     "output_type": "stream",
     "text": [
      "/Users/terlau/miniconda3/envs/mpi/lib/python3.8/site-packages/ddm/plot.py:184: MatplotlibDeprecationWarning: Adding an axes using the same arguments as a previous axes currently reuses the earlier instance.  In a future version, a new instance will always be created and returned.  Meanwhile, this warning can be suppressed, and the future behavior ensured, by passing a unique label to each axes instance.\n",
      "  ax1 = fig.add_axes([.12, .56, .85, .43])\n",
      "/Users/terlau/miniconda3/envs/mpi/lib/python3.8/site-packages/ddm/plot.py:185: MatplotlibDeprecationWarning: Adding an axes using the same arguments as a previous axes currently reuses the earlier instance.  In a future version, a new instance will always be created and returned.  Meanwhile, this warning can be suppressed, and the future behavior ensured, by passing a unique label to each axes instance.\n",
      "  ax2 = fig.add_axes([.12, .13, .85, .43])\n"
     ]
    },
    {
     "name": "stdout",
     "output_type": "stream",
     "text": [
      "2.0\n",
      "mean decision time 0.909747619047619\n",
      "condition names ['subj_idx', 'category', 'stim', 'response', 'age', 'z_rt', 'resp']\n",
      "probability of correct and error trials 0.711864406779661 0.288135593220339\n",
      "probability of undecided trials 0.0\n",
      "False\n",
      "False\n"
     ]
    },
    {
     "name": "stderr",
     "output_type": "stream",
     "text": [
      "<ipython-input-11-7dace5c40c8a>:22: SettingWithCopyWarning: \n",
      "A value is trying to be set on a copy of a slice from a DataFrame.\n",
      "Try using .loc[row_indexer,col_indexer] = value instead\n",
      "\n",
      "See the caveats in the documentation: https://pandas.pydata.org/pandas-docs/stable/user_guide/indexing.html#returning-a-view-versus-a-copy\n",
      "  sub_df['resp']=np.where(sub_df[\"response\"] == resp[0],1,0)\n"
     ]
    },
    {
     "name": "stdout",
     "output_type": "stream",
     "text": [
      "Params [ 0.25963637  0.40340532  0.67990079  0.5553806  -0.06733314  0.61140345] gave 182.649934318648\n",
      "Fitted FitResult(fitting_method='differential_evolution', method='auto', loss='BIC', value=182.649934318648, nparams=6, samplesize=295, mess='')\n",
      "12\n"
     ]
    },
    {
     "name": "stderr",
     "output_type": "stream",
     "text": [
      "/Users/terlau/miniconda3/envs/mpi/lib/python3.8/site-packages/ddm/plot.py:184: MatplotlibDeprecationWarning: Adding an axes using the same arguments as a previous axes currently reuses the earlier instance.  In a future version, a new instance will always be created and returned.  Meanwhile, this warning can be suppressed, and the future behavior ensured, by passing a unique label to each axes instance.\n",
      "  ax1 = fig.add_axes([.12, .56, .85, .43])\n",
      "/Users/terlau/miniconda3/envs/mpi/lib/python3.8/site-packages/ddm/plot.py:185: MatplotlibDeprecationWarning: Adding an axes using the same arguments as a previous axes currently reuses the earlier instance.  In a future version, a new instance will always be created and returned.  Meanwhile, this warning can be suppressed, and the future behavior ensured, by passing a unique label to each axes instance.\n",
      "  ax2 = fig.add_axes([.12, .13, .85, .43])\n"
     ]
    },
    {
     "name": "stdout",
     "output_type": "stream",
     "text": [
      "2.0\n",
      "mean decision time 1.0317857142857143\n",
      "condition names ['subj_idx', 'category', 'stim', 'response', 'age', 'z_rt', 'resp']\n",
      "probability of correct and error trials 0.6148648648648649 0.38513513513513514\n",
      "probability of undecided trials 0.0\n",
      "False\n",
      "False\n"
     ]
    },
    {
     "name": "stderr",
     "output_type": "stream",
     "text": [
      "<ipython-input-11-7dace5c40c8a>:22: SettingWithCopyWarning: \n",
      "A value is trying to be set on a copy of a slice from a DataFrame.\n",
      "Try using .loc[row_indexer,col_indexer] = value instead\n",
      "\n",
      "See the caveats in the documentation: https://pandas.pydata.org/pandas-docs/stable/user_guide/indexing.html#returning-a-view-versus-a-copy\n",
      "  sub_df['resp']=np.where(sub_df[\"response\"] == resp[0],1,0)\n"
     ]
    },
    {
     "name": "stdout",
     "output_type": "stream",
     "text": [
      "Params [ 0.09927584 -0.02242226  1.01999987  1.14856256  0.04826918  0.60831002] gave 303.77936706862994\n",
      "Fitted FitResult(fitting_method='differential_evolution', method='auto', loss='BIC', value=303.77936706862994, nparams=6, samplesize=296, mess='')\n",
      "13\n"
     ]
    },
    {
     "name": "stderr",
     "output_type": "stream",
     "text": [
      "/Users/terlau/miniconda3/envs/mpi/lib/python3.8/site-packages/ddm/plot.py:184: MatplotlibDeprecationWarning: Adding an axes using the same arguments as a previous axes currently reuses the earlier instance.  In a future version, a new instance will always be created and returned.  Meanwhile, this warning can be suppressed, and the future behavior ensured, by passing a unique label to each axes instance.\n",
      "  ax1 = fig.add_axes([.12, .56, .85, .43])\n",
      "/Users/terlau/miniconda3/envs/mpi/lib/python3.8/site-packages/ddm/plot.py:185: MatplotlibDeprecationWarning: Adding an axes using the same arguments as a previous axes currently reuses the earlier instance.  In a future version, a new instance will always be created and returned.  Meanwhile, this warning can be suppressed, and the future behavior ensured, by passing a unique label to each axes instance.\n",
      "  ax2 = fig.add_axes([.12, .13, .85, .43])\n"
     ]
    },
    {
     "name": "stdout",
     "output_type": "stream",
     "text": [
      "2.0\n",
      "mean decision time 0.8245\n",
      "condition names ['subj_idx', 'category', 'stim', 'response', 'age', 'z_rt', 'resp']\n",
      "probability of correct and error trials 0.6758620689655173 0.32413793103448274\n",
      "probability of undecided trials 0.0\n",
      "False\n",
      "False\n"
     ]
    },
    {
     "name": "stderr",
     "output_type": "stream",
     "text": [
      "<ipython-input-11-7dace5c40c8a>:22: SettingWithCopyWarning: \n",
      "A value is trying to be set on a copy of a slice from a DataFrame.\n",
      "Try using .loc[row_indexer,col_indexer] = value instead\n",
      "\n",
      "See the caveats in the documentation: https://pandas.pydata.org/pandas-docs/stable/user_guide/indexing.html#returning-a-view-versus-a-copy\n",
      "  sub_df['resp']=np.where(sub_df[\"response\"] == resp[0],1,0)\n"
     ]
    },
    {
     "name": "stdout",
     "output_type": "stream",
     "text": [
      "Params [ 0.18411848 -0.07846329  0.69677805  0.51583295  0.06529184  0.50425273] gave 188.19812362073176\n",
      "Fitted FitResult(fitting_method='differential_evolution', method='auto', loss='BIC', value=188.19812362073176, nparams=6, samplesize=290, mess='')\n",
      "14\n"
     ]
    },
    {
     "name": "stderr",
     "output_type": "stream",
     "text": [
      "/Users/terlau/miniconda3/envs/mpi/lib/python3.8/site-packages/ddm/plot.py:184: MatplotlibDeprecationWarning: Adding an axes using the same arguments as a previous axes currently reuses the earlier instance.  In a future version, a new instance will always be created and returned.  Meanwhile, this warning can be suppressed, and the future behavior ensured, by passing a unique label to each axes instance.\n",
      "  ax1 = fig.add_axes([.12, .56, .85, .43])\n",
      "/Users/terlau/miniconda3/envs/mpi/lib/python3.8/site-packages/ddm/plot.py:185: MatplotlibDeprecationWarning: Adding an axes using the same arguments as a previous axes currently reuses the earlier instance.  In a future version, a new instance will always be created and returned.  Meanwhile, this warning can be suppressed, and the future behavior ensured, by passing a unique label to each axes instance.\n",
      "  ax2 = fig.add_axes([.12, .13, .85, .43])\n"
     ]
    },
    {
     "name": "stdout",
     "output_type": "stream",
     "text": [
      "2.0\n",
      "mean decision time 1.6195568181818183\n",
      "condition names ['subj_idx', 'category', 'stim', 'response', 'age', 'z_rt', 'resp']\n",
      "probability of correct and error trials 0.6518518518518519 0.34814814814814815\n",
      "probability of undecided trials 0.0\n",
      "False\n",
      "False\n"
     ]
    },
    {
     "name": "stderr",
     "output_type": "stream",
     "text": [
      "<ipython-input-11-7dace5c40c8a>:22: SettingWithCopyWarning: \n",
      "A value is trying to be set on a copy of a slice from a DataFrame.\n",
      "Try using .loc[row_indexer,col_indexer] = value instead\n",
      "\n",
      "See the caveats in the documentation: https://pandas.pydata.org/pandas-docs/stable/user_guide/indexing.html#returning-a-view-versus-a-copy\n",
      "  sub_df['resp']=np.where(sub_df[\"response\"] == resp[0],1,0)\n"
     ]
    },
    {
     "name": "stdout",
     "output_type": "stream",
     "text": [
      "Params [0.09968666 0.01346202 4.85907651 2.07462813 0.01807446 0.72607305] gave 319.21868383072814\n",
      "Fitted FitResult(fitting_method='differential_evolution', method='auto', loss='BIC', value=319.21868383072814, nparams=6, samplesize=270, mess='')\n",
      "15\n"
     ]
    },
    {
     "name": "stderr",
     "output_type": "stream",
     "text": [
      "/Users/terlau/miniconda3/envs/mpi/lib/python3.8/site-packages/ddm/plot.py:184: MatplotlibDeprecationWarning: Adding an axes using the same arguments as a previous axes currently reuses the earlier instance.  In a future version, a new instance will always be created and returned.  Meanwhile, this warning can be suppressed, and the future behavior ensured, by passing a unique label to each axes instance.\n",
      "  ax1 = fig.add_axes([.12, .56, .85, .43])\n",
      "/Users/terlau/miniconda3/envs/mpi/lib/python3.8/site-packages/ddm/plot.py:185: MatplotlibDeprecationWarning: Adding an axes using the same arguments as a previous axes currently reuses the earlier instance.  In a future version, a new instance will always be created and returned.  Meanwhile, this warning can be suppressed, and the future behavior ensured, by passing a unique label to each axes instance.\n",
      "  ax2 = fig.add_axes([.12, .13, .85, .43])\n"
     ]
    },
    {
     "name": "stdout",
     "output_type": "stream",
     "text": [
      "1.0\n",
      "mean decision time 0.9783575129533679\n",
      "condition names ['subj_idx', 'category', 'stim', 'response', 'age', 'z_rt', 'resp']\n",
      "probability of correct and error trials 0.6454849498327759 0.35451505016722407\n",
      "probability of undecided trials 0.0\n",
      "False\n",
      "False\n"
     ]
    },
    {
     "name": "stderr",
     "output_type": "stream",
     "text": [
      "<ipython-input-11-7dace5c40c8a>:22: SettingWithCopyWarning: \n",
      "A value is trying to be set on a copy of a slice from a DataFrame.\n",
      "Try using .loc[row_indexer,col_indexer] = value instead\n",
      "\n",
      "See the caveats in the documentation: https://pandas.pydata.org/pandas-docs/stable/user_guide/indexing.html#returning-a-view-versus-a-copy\n",
      "  sub_df['resp']=np.where(sub_df[\"response\"] == resp[0],1,0)\n"
     ]
    },
    {
     "name": "stdout",
     "output_type": "stream",
     "text": [
      "Params [ 0.10549647  0.06631411  1.39155766  1.09507653 -0.02552243  0.38772516] gave 386.783423876121\n",
      "Fitted FitResult(fitting_method='differential_evolution', method='auto', loss='BIC', value=386.783423876121, nparams=6, samplesize=299, mess='')\n",
      "16\n"
     ]
    },
    {
     "name": "stderr",
     "output_type": "stream",
     "text": [
      "/Users/terlau/miniconda3/envs/mpi/lib/python3.8/site-packages/ddm/plot.py:184: MatplotlibDeprecationWarning: Adding an axes using the same arguments as a previous axes currently reuses the earlier instance.  In a future version, a new instance will always be created and returned.  Meanwhile, this warning can be suppressed, and the future behavior ensured, by passing a unique label to each axes instance.\n",
      "  ax1 = fig.add_axes([.12, .56, .85, .43])\n",
      "/Users/terlau/miniconda3/envs/mpi/lib/python3.8/site-packages/ddm/plot.py:185: MatplotlibDeprecationWarning: Adding an axes using the same arguments as a previous axes currently reuses the earlier instance.  In a future version, a new instance will always be created and returned.  Meanwhile, this warning can be suppressed, and the future behavior ensured, by passing a unique label to each axes instance.\n",
      "  ax2 = fig.add_axes([.12, .13, .85, .43])\n"
     ]
    },
    {
     "name": "stdout",
     "output_type": "stream",
     "text": [
      "1.0\n",
      "mean decision time 1.4361052631578946\n",
      "condition names ['subj_idx', 'category', 'stim', 'response', 'age', 'z_rt', 'resp']\n",
      "probability of correct and error trials 0.8 0.2\n",
      "probability of undecided trials 0.0\n",
      "False\n",
      "False\n"
     ]
    },
    {
     "name": "stderr",
     "output_type": "stream",
     "text": [
      "<ipython-input-11-7dace5c40c8a>:22: SettingWithCopyWarning: \n",
      "A value is trying to be set on a copy of a slice from a DataFrame.\n",
      "Try using .loc[row_indexer,col_indexer] = value instead\n",
      "\n",
      "See the caveats in the documentation: https://pandas.pydata.org/pandas-docs/stable/user_guide/indexing.html#returning-a-view-versus-a-copy\n",
      "  sub_df['resp']=np.where(sub_df[\"response\"] == resp[0],1,0)\n"
     ]
    },
    {
     "name": "stdout",
     "output_type": "stream",
     "text": [
      "Params [ 0.18939919 -0.10000112  5.87999998  1.43921434  0.04088359  0.21223745] gave 454.3354333192692\n",
      "Fitted FitResult(fitting_method='differential_evolution', method='auto', loss='BIC', value=454.3354333192692, nparams=6, samplesize=285, mess='')\n",
      "17\n"
     ]
    },
    {
     "name": "stderr",
     "output_type": "stream",
     "text": [
      "/Users/terlau/miniconda3/envs/mpi/lib/python3.8/site-packages/ddm/plot.py:184: MatplotlibDeprecationWarning: Adding an axes using the same arguments as a previous axes currently reuses the earlier instance.  In a future version, a new instance will always be created and returned.  Meanwhile, this warning can be suppressed, and the future behavior ensured, by passing a unique label to each axes instance.\n",
      "  ax1 = fig.add_axes([.12, .56, .85, .43])\n",
      "/Users/terlau/miniconda3/envs/mpi/lib/python3.8/site-packages/ddm/plot.py:185: MatplotlibDeprecationWarning: Adding an axes using the same arguments as a previous axes currently reuses the earlier instance.  In a future version, a new instance will always be created and returned.  Meanwhile, this warning can be suppressed, and the future behavior ensured, by passing a unique label to each axes instance.\n",
      "  ax2 = fig.add_axes([.12, .13, .85, .43])\n"
     ]
    },
    {
     "name": "stdout",
     "output_type": "stream",
     "text": [
      "1.0\n",
      "mean decision time 0.9089064039408866\n",
      "condition names ['subj_idx', 'category', 'stim', 'response', 'age', 'z_rt', 'resp']\n",
      "probability of correct and error trials 0.6789297658862876 0.3210702341137124\n",
      "probability of undecided trials 0.0\n",
      "False\n",
      "False\n"
     ]
    },
    {
     "name": "stderr",
     "output_type": "stream",
     "text": [
      "<ipython-input-11-7dace5c40c8a>:22: SettingWithCopyWarning: \n",
      "A value is trying to be set on a copy of a slice from a DataFrame.\n",
      "Try using .loc[row_indexer,col_indexer] = value instead\n",
      "\n",
      "See the caveats in the documentation: https://pandas.pydata.org/pandas-docs/stable/user_guide/indexing.html#returning-a-view-versus-a-copy\n",
      "  sub_df['resp']=np.where(sub_df[\"response\"] == resp[0],1,0)\n"
     ]
    },
    {
     "name": "stdout",
     "output_type": "stream",
     "text": [
      "Params [ 0.17621566 -0.43793359  0.78933736  0.98363858  0.15690454  0.60985553] gave 187.0141930871688\n",
      "Fitted FitResult(fitting_method='differential_evolution', method='auto', loss='BIC', value=187.0141930871688, nparams=6, samplesize=299, mess='')\n",
      "18\n"
     ]
    },
    {
     "name": "stderr",
     "output_type": "stream",
     "text": [
      "/Users/terlau/miniconda3/envs/mpi/lib/python3.8/site-packages/ddm/plot.py:184: MatplotlibDeprecationWarning: Adding an axes using the same arguments as a previous axes currently reuses the earlier instance.  In a future version, a new instance will always be created and returned.  Meanwhile, this warning can be suppressed, and the future behavior ensured, by passing a unique label to each axes instance.\n",
      "  ax1 = fig.add_axes([.12, .56, .85, .43])\n",
      "/Users/terlau/miniconda3/envs/mpi/lib/python3.8/site-packages/ddm/plot.py:185: MatplotlibDeprecationWarning: Adding an axes using the same arguments as a previous axes currently reuses the earlier instance.  In a future version, a new instance will always be created and returned.  Meanwhile, this warning can be suppressed, and the future behavior ensured, by passing a unique label to each axes instance.\n",
      "  ax2 = fig.add_axes([.12, .13, .85, .43])\n"
     ]
    },
    {
     "name": "stdout",
     "output_type": "stream",
     "text": [
      "1.0\n",
      "mean decision time 1.0673333333333332\n",
      "condition names ['subj_idx', 'category', 'stim', 'response', 'age', 'z_rt', 'resp']\n",
      "probability of correct and error trials 0.673469387755102 0.32653061224489793\n",
      "probability of undecided trials 0.0\n",
      "False\n",
      "False\n"
     ]
    },
    {
     "name": "stderr",
     "output_type": "stream",
     "text": [
      "<ipython-input-11-7dace5c40c8a>:22: SettingWithCopyWarning: \n",
      "A value is trying to be set on a copy of a slice from a DataFrame.\n",
      "Try using .loc[row_indexer,col_indexer] = value instead\n",
      "\n",
      "See the caveats in the documentation: https://pandas.pydata.org/pandas-docs/stable/user_guide/indexing.html#returning-a-view-versus-a-copy\n",
      "  sub_df['resp']=np.where(sub_df[\"response\"] == resp[0],1,0)\n"
     ]
    },
    {
     "name": "stdout",
     "output_type": "stream",
     "text": [
      "Params [ 1.49758036e-01 -3.66772406e-04  1.00999992e+00  5.15386688e-01\n",
      "  9.78300605e-02  5.10560526e-01] gave 507.59206133290985\n",
      "Fitted FitResult(fitting_method='differential_evolution', method='auto', loss='BIC', value=507.59206133290985, nparams=6, samplesize=294, mess='')\n",
      "20\n"
     ]
    },
    {
     "name": "stderr",
     "output_type": "stream",
     "text": [
      "/Users/terlau/miniconda3/envs/mpi/lib/python3.8/site-packages/ddm/plot.py:184: MatplotlibDeprecationWarning: Adding an axes using the same arguments as a previous axes currently reuses the earlier instance.  In a future version, a new instance will always be created and returned.  Meanwhile, this warning can be suppressed, and the future behavior ensured, by passing a unique label to each axes instance.\n",
      "  ax1 = fig.add_axes([.12, .56, .85, .43])\n",
      "/Users/terlau/miniconda3/envs/mpi/lib/python3.8/site-packages/ddm/plot.py:185: MatplotlibDeprecationWarning: Adding an axes using the same arguments as a previous axes currently reuses the earlier instance.  In a future version, a new instance will always be created and returned.  Meanwhile, this warning can be suppressed, and the future behavior ensured, by passing a unique label to each axes instance.\n",
      "  ax2 = fig.add_axes([.12, .13, .85, .43])\n"
     ]
    },
    {
     "name": "stdout",
     "output_type": "stream",
     "text": [
      "1.0\n",
      "mean decision time 0.9477675438596491\n",
      "condition names ['subj_idx', 'category', 'stim', 'response', 'age', 'z_rt', 'resp']\n",
      "probability of correct and error trials 0.7625418060200669 0.23745819397993312\n",
      "probability of undecided trials 0.0\n",
      "False\n",
      "False\n"
     ]
    },
    {
     "name": "stderr",
     "output_type": "stream",
     "text": [
      "<ipython-input-11-7dace5c40c8a>:22: SettingWithCopyWarning: \n",
      "A value is trying to be set on a copy of a slice from a DataFrame.\n",
      "Try using .loc[row_indexer,col_indexer] = value instead\n",
      "\n",
      "See the caveats in the documentation: https://pandas.pydata.org/pandas-docs/stable/user_guide/indexing.html#returning-a-view-versus-a-copy\n",
      "  sub_df['resp']=np.where(sub_df[\"response\"] == resp[0],1,0)\n"
     ]
    },
    {
     "name": "stdout",
     "output_type": "stream",
     "text": [
      "Params [ 0.27633569  0.24572736  1.01000003  0.9724131  -0.01571284  0.53876196] gave 247.4036785167657\n",
      "Fitted FitResult(fitting_method='differential_evolution', method='auto', loss='BIC', value=247.4036785167657, nparams=6, samplesize=299, mess='')\n",
      "21\n"
     ]
    },
    {
     "name": "stderr",
     "output_type": "stream",
     "text": [
      "/Users/terlau/miniconda3/envs/mpi/lib/python3.8/site-packages/ddm/plot.py:184: MatplotlibDeprecationWarning: Adding an axes using the same arguments as a previous axes currently reuses the earlier instance.  In a future version, a new instance will always be created and returned.  Meanwhile, this warning can be suppressed, and the future behavior ensured, by passing a unique label to each axes instance.\n",
      "  ax1 = fig.add_axes([.12, .56, .85, .43])\n",
      "/Users/terlau/miniconda3/envs/mpi/lib/python3.8/site-packages/ddm/plot.py:185: MatplotlibDeprecationWarning: Adding an axes using the same arguments as a previous axes currently reuses the earlier instance.  In a future version, a new instance will always be created and returned.  Meanwhile, this warning can be suppressed, and the future behavior ensured, by passing a unique label to each axes instance.\n",
      "  ax2 = fig.add_axes([.12, .13, .85, .43])\n"
     ]
    },
    {
     "name": "stdout",
     "output_type": "stream",
     "text": [
      "1.0\n",
      "mean decision time 0.7907381974248928\n",
      "condition names ['subj_idx', 'category', 'stim', 'response', 'age', 'z_rt', 'resp']\n",
      "probability of correct and error trials 0.7792642140468228 0.22073578595317725\n",
      "probability of undecided trials 0.0\n",
      "False\n",
      "False\n"
     ]
    },
    {
     "name": "stderr",
     "output_type": "stream",
     "text": [
      "<ipython-input-11-7dace5c40c8a>:22: SettingWithCopyWarning: \n",
      "A value is trying to be set on a copy of a slice from a DataFrame.\n",
      "Try using .loc[row_indexer,col_indexer] = value instead\n",
      "\n",
      "See the caveats in the documentation: https://pandas.pydata.org/pandas-docs/stable/user_guide/indexing.html#returning-a-view-versus-a-copy\n",
      "  sub_df['resp']=np.where(sub_df[\"response\"] == resp[0],1,0)\n"
     ]
    },
    {
     "name": "stdout",
     "output_type": "stream",
     "text": [
      "Params [ 0.28531033 -0.13093104  0.91014418  1.42450317  0.0733986   0.47184684] gave 33.388216581410816\n",
      "Fitted FitResult(fitting_method='differential_evolution', method='auto', loss='BIC', value=33.388216581410816, nparams=6, samplesize=299, mess='')\n",
      "22\n"
     ]
    },
    {
     "name": "stderr",
     "output_type": "stream",
     "text": [
      "/Users/terlau/miniconda3/envs/mpi/lib/python3.8/site-packages/ddm/plot.py:184: MatplotlibDeprecationWarning: Adding an axes using the same arguments as a previous axes currently reuses the earlier instance.  In a future version, a new instance will always be created and returned.  Meanwhile, this warning can be suppressed, and the future behavior ensured, by passing a unique label to each axes instance.\n",
      "  ax1 = fig.add_axes([.12, .56, .85, .43])\n",
      "/Users/terlau/miniconda3/envs/mpi/lib/python3.8/site-packages/ddm/plot.py:185: MatplotlibDeprecationWarning: Adding an axes using the same arguments as a previous axes currently reuses the earlier instance.  In a future version, a new instance will always be created and returned.  Meanwhile, this warning can be suppressed, and the future behavior ensured, by passing a unique label to each axes instance.\n",
      "  ax2 = fig.add_axes([.12, .13, .85, .43])\n"
     ]
    },
    {
     "name": "stdout",
     "output_type": "stream",
     "text": [
      "2.0\n",
      "mean decision time 1.0328598130841122\n",
      "condition names ['subj_idx', 'category', 'stim', 'response', 'age', 'z_rt', 'resp']\n",
      "probability of correct and error trials 0.7508771929824561 0.24912280701754386\n",
      "probability of undecided trials 0.0\n",
      "False\n",
      "False\n"
     ]
    },
    {
     "name": "stderr",
     "output_type": "stream",
     "text": [
      "<ipython-input-11-7dace5c40c8a>:22: SettingWithCopyWarning: \n",
      "A value is trying to be set on a copy of a slice from a DataFrame.\n",
      "Try using .loc[row_indexer,col_indexer] = value instead\n",
      "\n",
      "See the caveats in the documentation: https://pandas.pydata.org/pandas-docs/stable/user_guide/indexing.html#returning-a-view-versus-a-copy\n",
      "  sub_df['resp']=np.where(sub_df[\"response\"] == resp[0],1,0)\n"
     ]
    },
    {
     "name": "stdout",
     "output_type": "stream",
     "text": [
      "Params [ 0.19706351 -0.08698587  1.00999993  0.57258278  0.08659322  0.48495009] gave 421.23144033958283\n",
      "Fitted FitResult(fitting_method='differential_evolution', method='auto', loss='BIC', value=421.23144033958283, nparams=6, samplesize=285, mess='')\n",
      "23\n"
     ]
    },
    {
     "name": "stderr",
     "output_type": "stream",
     "text": [
      "/Users/terlau/miniconda3/envs/mpi/lib/python3.8/site-packages/ddm/plot.py:184: MatplotlibDeprecationWarning: Adding an axes using the same arguments as a previous axes currently reuses the earlier instance.  In a future version, a new instance will always be created and returned.  Meanwhile, this warning can be suppressed, and the future behavior ensured, by passing a unique label to each axes instance.\n",
      "  ax1 = fig.add_axes([.12, .56, .85, .43])\n",
      "/Users/terlau/miniconda3/envs/mpi/lib/python3.8/site-packages/ddm/plot.py:185: MatplotlibDeprecationWarning: Adding an axes using the same arguments as a previous axes currently reuses the earlier instance.  In a future version, a new instance will always be created and returned.  Meanwhile, this warning can be suppressed, and the future behavior ensured, by passing a unique label to each axes instance.\n",
      "  ax2 = fig.add_axes([.12, .13, .85, .43])\n"
     ]
    },
    {
     "name": "stdout",
     "output_type": "stream",
     "text": [
      "2.0\n",
      "mean decision time 0.9073700440528635\n",
      "condition names ['subj_idx', 'category', 'stim', 'response', 'age', 'z_rt', 'resp']\n",
      "probability of correct and error trials 0.7643097643097643 0.2356902356902357\n",
      "probability of undecided trials 0.0\n",
      "False\n",
      "False\n"
     ]
    },
    {
     "name": "stderr",
     "output_type": "stream",
     "text": [
      "<ipython-input-11-7dace5c40c8a>:22: SettingWithCopyWarning: \n",
      "A value is trying to be set on a copy of a slice from a DataFrame.\n",
      "Try using .loc[row_indexer,col_indexer] = value instead\n",
      "\n",
      "See the caveats in the documentation: https://pandas.pydata.org/pandas-docs/stable/user_guide/indexing.html#returning-a-view-versus-a-copy\n",
      "  sub_df['resp']=np.where(sub_df[\"response\"] == resp[0],1,0)\n"
     ]
    },
    {
     "name": "stdout",
     "output_type": "stream",
     "text": [
      "Params [ 0.28070353 -0.20365004  0.77660338  0.63781868  0.0872163   0.56555062] gave 207.36507202272514\n",
      "Fitted FitResult(fitting_method='differential_evolution', method='auto', loss='BIC', value=207.36507202272514, nparams=6, samplesize=297, mess='')\n",
      "24\n"
     ]
    },
    {
     "name": "stderr",
     "output_type": "stream",
     "text": [
      "/Users/terlau/miniconda3/envs/mpi/lib/python3.8/site-packages/ddm/plot.py:184: MatplotlibDeprecationWarning: Adding an axes using the same arguments as a previous axes currently reuses the earlier instance.  In a future version, a new instance will always be created and returned.  Meanwhile, this warning can be suppressed, and the future behavior ensured, by passing a unique label to each axes instance.\n",
      "  ax1 = fig.add_axes([.12, .56, .85, .43])\n",
      "/Users/terlau/miniconda3/envs/mpi/lib/python3.8/site-packages/ddm/plot.py:185: MatplotlibDeprecationWarning: Adding an axes using the same arguments as a previous axes currently reuses the earlier instance.  In a future version, a new instance will always be created and returned.  Meanwhile, this warning can be suppressed, and the future behavior ensured, by passing a unique label to each axes instance.\n",
      "  ax2 = fig.add_axes([.12, .13, .85, .43])\n"
     ]
    },
    {
     "name": "stdout",
     "output_type": "stream",
     "text": [
      "2.0\n",
      "mean decision time 0.8714635193133047\n",
      "condition names ['subj_idx', 'category', 'stim', 'response', 'age', 'z_rt', 'resp']\n",
      "probability of correct and error trials 0.7818791946308725 0.2181208053691275\n",
      "probability of undecided trials 0.0\n",
      "False\n",
      "False\n"
     ]
    },
    {
     "name": "stderr",
     "output_type": "stream",
     "text": [
      "<ipython-input-11-7dace5c40c8a>:22: SettingWithCopyWarning: \n",
      "A value is trying to be set on a copy of a slice from a DataFrame.\n",
      "Try using .loc[row_indexer,col_indexer] = value instead\n",
      "\n",
      "See the caveats in the documentation: https://pandas.pydata.org/pandas-docs/stable/user_guide/indexing.html#returning-a-view-versus-a-copy\n",
      "  sub_df['resp']=np.where(sub_df[\"response\"] == resp[0],1,0)\n"
     ]
    },
    {
     "name": "stdout",
     "output_type": "stream",
     "text": [
      "Params [ 0.29532363 -0.09828945  0.92376152  1.04029502  0.10484711  0.50533569] gave 149.8826455701791\n",
      "Fitted FitResult(fitting_method='differential_evolution', method='auto', loss='BIC', value=149.8826455701791, nparams=6, samplesize=298, mess='')\n",
      "25\n"
     ]
    },
    {
     "name": "stderr",
     "output_type": "stream",
     "text": [
      "/Users/terlau/miniconda3/envs/mpi/lib/python3.8/site-packages/ddm/plot.py:184: MatplotlibDeprecationWarning: Adding an axes using the same arguments as a previous axes currently reuses the earlier instance.  In a future version, a new instance will always be created and returned.  Meanwhile, this warning can be suppressed, and the future behavior ensured, by passing a unique label to each axes instance.\n",
      "  ax1 = fig.add_axes([.12, .56, .85, .43])\n",
      "/Users/terlau/miniconda3/envs/mpi/lib/python3.8/site-packages/ddm/plot.py:185: MatplotlibDeprecationWarning: Adding an axes using the same arguments as a previous axes currently reuses the earlier instance.  In a future version, a new instance will always be created and returned.  Meanwhile, this warning can be suppressed, and the future behavior ensured, by passing a unique label to each axes instance.\n",
      "  ax2 = fig.add_axes([.12, .13, .85, .43])\n"
     ]
    },
    {
     "name": "stdout",
     "output_type": "stream",
     "text": [
      "2.0\n",
      "mean decision time 0.8769895833333333\n",
      "condition names ['subj_idx', 'category', 'stim', 'response', 'age', 'z_rt', 'resp']\n",
      "probability of correct and error trials 0.6464646464646465 0.35353535353535354\n",
      "probability of undecided trials 0.0\n",
      "False\n",
      "False\n"
     ]
    },
    {
     "name": "stderr",
     "output_type": "stream",
     "text": [
      "<ipython-input-11-7dace5c40c8a>:22: SettingWithCopyWarning: \n",
      "A value is trying to be set on a copy of a slice from a DataFrame.\n",
      "Try using .loc[row_indexer,col_indexer] = value instead\n",
      "\n",
      "See the caveats in the documentation: https://pandas.pydata.org/pandas-docs/stable/user_guide/indexing.html#returning-a-view-versus-a-copy\n",
      "  sub_df['resp']=np.where(sub_df[\"response\"] == resp[0],1,0)\n"
     ]
    },
    {
     "name": "stdout",
     "output_type": "stream",
     "text": [
      "Params [ 0.18147007 -0.24894662  0.84273703  0.70055736  0.02120898  0.48300714] gave 249.92782213321436\n",
      "Fitted FitResult(fitting_method='differential_evolution', method='auto', loss='BIC', value=249.92782213321436, nparams=6, samplesize=297, mess='')\n",
      "26\n"
     ]
    },
    {
     "name": "stderr",
     "output_type": "stream",
     "text": [
      "/Users/terlau/miniconda3/envs/mpi/lib/python3.8/site-packages/ddm/plot.py:184: MatplotlibDeprecationWarning: Adding an axes using the same arguments as a previous axes currently reuses the earlier instance.  In a future version, a new instance will always be created and returned.  Meanwhile, this warning can be suppressed, and the future behavior ensured, by passing a unique label to each axes instance.\n",
      "  ax1 = fig.add_axes([.12, .56, .85, .43])\n",
      "/Users/terlau/miniconda3/envs/mpi/lib/python3.8/site-packages/ddm/plot.py:185: MatplotlibDeprecationWarning: Adding an axes using the same arguments as a previous axes currently reuses the earlier instance.  In a future version, a new instance will always be created and returned.  Meanwhile, this warning can be suppressed, and the future behavior ensured, by passing a unique label to each axes instance.\n",
      "  ax2 = fig.add_axes([.12, .13, .85, .43])\n"
     ]
    },
    {
     "name": "stdout",
     "output_type": "stream",
     "text": [
      "2.0\n",
      "mean decision time 0.9425352112676058\n",
      "condition names ['subj_idx', 'category', 'stim', 'response', 'age', 'z_rt', 'resp']\n",
      "probability of correct and error trials 0.7123745819397993 0.28762541806020064\n",
      "probability of undecided trials 0.0\n",
      "False\n",
      "False\n"
     ]
    },
    {
     "name": "stderr",
     "output_type": "stream",
     "text": [
      "<ipython-input-11-7dace5c40c8a>:22: SettingWithCopyWarning: \n",
      "A value is trying to be set on a copy of a slice from a DataFrame.\n",
      "Try using .loc[row_indexer,col_indexer] = value instead\n",
      "\n",
      "See the caveats in the documentation: https://pandas.pydata.org/pandas-docs/stable/user_guide/indexing.html#returning-a-view-versus-a-copy\n",
      "  sub_df['resp']=np.where(sub_df[\"response\"] == resp[0],1,0)\n"
     ]
    },
    {
     "name": "stdout",
     "output_type": "stream",
     "text": [
      "Params [ 0.16906202 -0.32886648  0.85000005  0.64174932  0.15092245  0.55379706] gave 356.6669208024654\n",
      "Fitted FitResult(fitting_method='differential_evolution', method='auto', loss='BIC', value=356.6669208024654, nparams=6, samplesize=299, mess='')\n",
      "27\n"
     ]
    },
    {
     "name": "stderr",
     "output_type": "stream",
     "text": [
      "/Users/terlau/miniconda3/envs/mpi/lib/python3.8/site-packages/ddm/plot.py:184: MatplotlibDeprecationWarning: Adding an axes using the same arguments as a previous axes currently reuses the earlier instance.  In a future version, a new instance will always be created and returned.  Meanwhile, this warning can be suppressed, and the future behavior ensured, by passing a unique label to each axes instance.\n",
      "  ax1 = fig.add_axes([.12, .56, .85, .43])\n",
      "/Users/terlau/miniconda3/envs/mpi/lib/python3.8/site-packages/ddm/plot.py:185: MatplotlibDeprecationWarning: Adding an axes using the same arguments as a previous axes currently reuses the earlier instance.  In a future version, a new instance will always be created and returned.  Meanwhile, this warning can be suppressed, and the future behavior ensured, by passing a unique label to each axes instance.\n",
      "  ax2 = fig.add_axes([.12, .13, .85, .43])\n"
     ]
    },
    {
     "name": "stdout",
     "output_type": "stream",
     "text": [
      "2.0\n",
      "mean decision time 0.7568547486033518\n",
      "condition names ['subj_idx', 'category', 'stim', 'response', 'age', 'z_rt', 'resp']\n",
      "probability of correct and error trials 0.608843537414966 0.391156462585034\n",
      "probability of undecided trials 0.0\n",
      "False\n",
      "False\n"
     ]
    },
    {
     "name": "stderr",
     "output_type": "stream",
     "text": [
      "<ipython-input-11-7dace5c40c8a>:22: SettingWithCopyWarning: \n",
      "A value is trying to be set on a copy of a slice from a DataFrame.\n",
      "Try using .loc[row_indexer,col_indexer] = value instead\n",
      "\n",
      "See the caveats in the documentation: https://pandas.pydata.org/pandas-docs/stable/user_guide/indexing.html#returning-a-view-versus-a-copy\n",
      "  sub_df['resp']=np.where(sub_df[\"response\"] == resp[0],1,0)\n"
     ]
    },
    {
     "name": "stdout",
     "output_type": "stream",
     "text": [
      "Params [ 0.10422687 -0.07511342  1.159242    1.3718853  -0.01456551  0.29193286] gave 280.71299324374587\n",
      "Fitted FitResult(fitting_method='differential_evolution', method='auto', loss='BIC', value=280.71299324374587, nparams=6, samplesize=294, mess='')\n",
      "28\n"
     ]
    },
    {
     "name": "stderr",
     "output_type": "stream",
     "text": [
      "/Users/terlau/miniconda3/envs/mpi/lib/python3.8/site-packages/ddm/plot.py:184: MatplotlibDeprecationWarning: Adding an axes using the same arguments as a previous axes currently reuses the earlier instance.  In a future version, a new instance will always be created and returned.  Meanwhile, this warning can be suppressed, and the future behavior ensured, by passing a unique label to each axes instance.\n",
      "  ax1 = fig.add_axes([.12, .56, .85, .43])\n",
      "/Users/terlau/miniconda3/envs/mpi/lib/python3.8/site-packages/ddm/plot.py:185: MatplotlibDeprecationWarning: Adding an axes using the same arguments as a previous axes currently reuses the earlier instance.  In a future version, a new instance will always be created and returned.  Meanwhile, this warning can be suppressed, and the future behavior ensured, by passing a unique label to each axes instance.\n",
      "  ax2 = fig.add_axes([.12, .13, .85, .43])\n"
     ]
    },
    {
     "name": "stdout",
     "output_type": "stream",
     "text": [
      "1.0\n",
      "mean decision time 0.8353255813953487\n",
      "condition names ['subj_idx', 'category', 'stim', 'response', 'age', 'z_rt', 'resp']\n",
      "probability of correct and error trials 0.5850340136054422 0.41496598639455784\n",
      "probability of undecided trials 0.0\n",
      "False\n",
      "False\n"
     ]
    },
    {
     "name": "stderr",
     "output_type": "stream",
     "text": [
      "<ipython-input-11-7dace5c40c8a>:22: SettingWithCopyWarning: \n",
      "A value is trying to be set on a copy of a slice from a DataFrame.\n",
      "Try using .loc[row_indexer,col_indexer] = value instead\n",
      "\n",
      "See the caveats in the documentation: https://pandas.pydata.org/pandas-docs/stable/user_guide/indexing.html#returning-a-view-versus-a-copy\n",
      "  sub_df['resp']=np.where(sub_df[\"response\"] == resp[0],1,0)\n"
     ]
    },
    {
     "name": "stdout",
     "output_type": "stream",
     "text": [
      "Params [ 0.0570117  -0.14813738  5.17999997  2.77273767  0.02495136  0.1016404 ] gave 305.13408780071524\n",
      "Fitted FitResult(fitting_method='differential_evolution', method='auto', loss='BIC', value=305.13408780071524, nparams=6, samplesize=294, mess='')\n",
      "29\n"
     ]
    },
    {
     "name": "stderr",
     "output_type": "stream",
     "text": [
      "/Users/terlau/miniconda3/envs/mpi/lib/python3.8/site-packages/ddm/plot.py:184: MatplotlibDeprecationWarning: Adding an axes using the same arguments as a previous axes currently reuses the earlier instance.  In a future version, a new instance will always be created and returned.  Meanwhile, this warning can be suppressed, and the future behavior ensured, by passing a unique label to each axes instance.\n",
      "  ax1 = fig.add_axes([.12, .56, .85, .43])\n",
      "/Users/terlau/miniconda3/envs/mpi/lib/python3.8/site-packages/ddm/plot.py:185: MatplotlibDeprecationWarning: Adding an axes using the same arguments as a previous axes currently reuses the earlier instance.  In a future version, a new instance will always be created and returned.  Meanwhile, this warning can be suppressed, and the future behavior ensured, by passing a unique label to each axes instance.\n",
      "  ax2 = fig.add_axes([.12, .13, .85, .43])\n"
     ]
    },
    {
     "name": "stdout",
     "output_type": "stream",
     "text": [
      "2.0\n",
      "mean decision time 0.8310142180094786\n",
      "condition names ['subj_idx', 'category', 'stim', 'response', 'age', 'z_rt', 'resp']\n",
      "probability of correct and error trials 0.7152542372881356 0.2847457627118644\n",
      "probability of undecided trials 0.0\n",
      "False\n",
      "False\n"
     ]
    },
    {
     "name": "stderr",
     "output_type": "stream",
     "text": [
      "<ipython-input-11-7dace5c40c8a>:22: SettingWithCopyWarning: \n",
      "A value is trying to be set on a copy of a slice from a DataFrame.\n",
      "Try using .loc[row_indexer,col_indexer] = value instead\n",
      "\n",
      "See the caveats in the documentation: https://pandas.pydata.org/pandas-docs/stable/user_guide/indexing.html#returning-a-view-versus-a-copy\n",
      "  sub_df['resp']=np.where(sub_df[\"response\"] == resp[0],1,0)\n"
     ]
    },
    {
     "name": "stdout",
     "output_type": "stream",
     "text": [
      "Params [ 0.18901881 -0.11956223  2.41838545  3.33340291  0.03876544  0.40263147] gave 184.44748780511742\n",
      "Fitted FitResult(fitting_method='differential_evolution', method='auto', loss='BIC', value=184.44748780511742, nparams=6, samplesize=295, mess='')\n",
      "30\n"
     ]
    },
    {
     "name": "stderr",
     "output_type": "stream",
     "text": [
      "/Users/terlau/miniconda3/envs/mpi/lib/python3.8/site-packages/ddm/plot.py:184: MatplotlibDeprecationWarning: Adding an axes using the same arguments as a previous axes currently reuses the earlier instance.  In a future version, a new instance will always be created and returned.  Meanwhile, this warning can be suppressed, and the future behavior ensured, by passing a unique label to each axes instance.\n",
      "  ax1 = fig.add_axes([.12, .56, .85, .43])\n",
      "/Users/terlau/miniconda3/envs/mpi/lib/python3.8/site-packages/ddm/plot.py:185: MatplotlibDeprecationWarning: Adding an axes using the same arguments as a previous axes currently reuses the earlier instance.  In a future version, a new instance will always be created and returned.  Meanwhile, this warning can be suppressed, and the future behavior ensured, by passing a unique label to each axes instance.\n",
      "  ax2 = fig.add_axes([.12, .13, .85, .43])\n"
     ]
    },
    {
     "name": "stdout",
     "output_type": "stream",
     "text": [
      "1.0\n",
      "mean decision time 0.8708836206896552\n",
      "condition names ['subj_idx', 'category', 'stim', 'response', 'age', 'z_rt', 'resp']\n",
      "probability of correct and error trials 0.7811447811447811 0.21885521885521886\n",
      "probability of undecided trials 0.0\n",
      "False\n",
      "False\n"
     ]
    },
    {
     "name": "stderr",
     "output_type": "stream",
     "text": [
      "<ipython-input-11-7dace5c40c8a>:22: SettingWithCopyWarning: \n",
      "A value is trying to be set on a copy of a slice from a DataFrame.\n",
      "Try using .loc[row_indexer,col_indexer] = value instead\n",
      "\n",
      "See the caveats in the documentation: https://pandas.pydata.org/pandas-docs/stable/user_guide/indexing.html#returning-a-view-versus-a-copy\n",
      "  sub_df['resp']=np.where(sub_df[\"response\"] == resp[0],1,0)\n"
     ]
    },
    {
     "name": "stdout",
     "output_type": "stream",
     "text": [
      "Params [ 0.28892034 -0.13766544  0.83000015  1.08783146  0.10244808  0.55746233] gave 111.64550662482155\n",
      "Fitted FitResult(fitting_method='differential_evolution', method='auto', loss='BIC', value=111.64550662482155, nparams=6, samplesize=297, mess='')\n",
      "31\n"
     ]
    },
    {
     "name": "stderr",
     "output_type": "stream",
     "text": [
      "/Users/terlau/miniconda3/envs/mpi/lib/python3.8/site-packages/ddm/plot.py:184: MatplotlibDeprecationWarning: Adding an axes using the same arguments as a previous axes currently reuses the earlier instance.  In a future version, a new instance will always be created and returned.  Meanwhile, this warning can be suppressed, and the future behavior ensured, by passing a unique label to each axes instance.\n",
      "  ax1 = fig.add_axes([.12, .56, .85, .43])\n",
      "/Users/terlau/miniconda3/envs/mpi/lib/python3.8/site-packages/ddm/plot.py:185: MatplotlibDeprecationWarning: Adding an axes using the same arguments as a previous axes currently reuses the earlier instance.  In a future version, a new instance will always be created and returned.  Meanwhile, this warning can be suppressed, and the future behavior ensured, by passing a unique label to each axes instance.\n",
      "  ax2 = fig.add_axes([.12, .13, .85, .43])\n"
     ]
    },
    {
     "name": "stdout",
     "output_type": "stream",
     "text": [
      "1.0\n",
      "mean decision time 1.5404271844660196\n",
      "condition names ['subj_idx', 'category', 'stim', 'response', 'age', 'z_rt', 'resp']\n",
      "probability of correct and error trials 0.7686567164179104 0.23134328358208955\n",
      "probability of undecided trials 0.0\n",
      "False\n",
      "False\n"
     ]
    },
    {
     "name": "stderr",
     "output_type": "stream",
     "text": [
      "<ipython-input-11-7dace5c40c8a>:22: SettingWithCopyWarning: \n",
      "A value is trying to be set on a copy of a slice from a DataFrame.\n",
      "Try using .loc[row_indexer,col_indexer] = value instead\n",
      "\n",
      "See the caveats in the documentation: https://pandas.pydata.org/pandas-docs/stable/user_guide/indexing.html#returning-a-view-versus-a-copy\n",
      "  sub_df['resp']=np.where(sub_df[\"response\"] == resp[0],1,0)\n"
     ]
    },
    {
     "name": "stdout",
     "output_type": "stream",
     "text": [
      "Params [ 0.14937662  0.35889202  4.62788175  1.91584391 -0.06131767  0.63592887] gave 294.9223790772534\n",
      "Fitted FitResult(fitting_method='differential_evolution', method='auto', loss='BIC', value=294.9223790772534, nparams=6, samplesize=268, mess='')\n",
      "32\n"
     ]
    },
    {
     "name": "stderr",
     "output_type": "stream",
     "text": [
      "/Users/terlau/miniconda3/envs/mpi/lib/python3.8/site-packages/ddm/plot.py:184: MatplotlibDeprecationWarning: Adding an axes using the same arguments as a previous axes currently reuses the earlier instance.  In a future version, a new instance will always be created and returned.  Meanwhile, this warning can be suppressed, and the future behavior ensured, by passing a unique label to each axes instance.\n",
      "  ax1 = fig.add_axes([.12, .56, .85, .43])\n",
      "/Users/terlau/miniconda3/envs/mpi/lib/python3.8/site-packages/ddm/plot.py:185: MatplotlibDeprecationWarning: Adding an axes using the same arguments as a previous axes currently reuses the earlier instance.  In a future version, a new instance will always be created and returned.  Meanwhile, this warning can be suppressed, and the future behavior ensured, by passing a unique label to each axes instance.\n",
      "  ax2 = fig.add_axes([.12, .13, .85, .43])\n"
     ]
    },
    {
     "name": "stdout",
     "output_type": "stream",
     "text": [
      "1.0\n",
      "mean decision time 0.9750635593220339\n",
      "condition names ['subj_idx', 'category', 'stim', 'response', 'age', 'z_rt', 'resp']\n",
      "probability of correct and error trials 0.7892976588628763 0.21070234113712374\n",
      "probability of undecided trials 0.0\n",
      "False\n",
      "False\n"
     ]
    },
    {
     "name": "stderr",
     "output_type": "stream",
     "text": [
      "<ipython-input-11-7dace5c40c8a>:22: SettingWithCopyWarning: \n",
      "A value is trying to be set on a copy of a slice from a DataFrame.\n",
      "Try using .loc[row_indexer,col_indexer] = value instead\n",
      "\n",
      "See the caveats in the documentation: https://pandas.pydata.org/pandas-docs/stable/user_guide/indexing.html#returning-a-view-versus-a-copy\n",
      "  sub_df['resp']=np.where(sub_df[\"response\"] == resp[0],1,0)\n"
     ]
    },
    {
     "name": "stdout",
     "output_type": "stream",
     "text": [
      "Params [ 0.27550244  0.42201359  0.93005663  0.61235686 -0.17160282  0.5375308 ] gave 334.4444006119657\n",
      "Fitted FitResult(fitting_method='differential_evolution', method='auto', loss='BIC', value=334.4444006119657, nparams=6, samplesize=299, mess='')\n",
      "33\n"
     ]
    },
    {
     "name": "stderr",
     "output_type": "stream",
     "text": [
      "/Users/terlau/miniconda3/envs/mpi/lib/python3.8/site-packages/ddm/plot.py:184: MatplotlibDeprecationWarning: Adding an axes using the same arguments as a previous axes currently reuses the earlier instance.  In a future version, a new instance will always be created and returned.  Meanwhile, this warning can be suppressed, and the future behavior ensured, by passing a unique label to each axes instance.\n",
      "  ax1 = fig.add_axes([.12, .56, .85, .43])\n",
      "/Users/terlau/miniconda3/envs/mpi/lib/python3.8/site-packages/ddm/plot.py:185: MatplotlibDeprecationWarning: Adding an axes using the same arguments as a previous axes currently reuses the earlier instance.  In a future version, a new instance will always be created and returned.  Meanwhile, this warning can be suppressed, and the future behavior ensured, by passing a unique label to each axes instance.\n",
      "  ax2 = fig.add_axes([.12, .13, .85, .43])\n"
     ]
    },
    {
     "name": "stdout",
     "output_type": "stream",
     "text": [
      "1.0\n",
      "mean decision time 0.904448275862069\n",
      "condition names ['subj_idx', 'category', 'stim', 'response', 'age', 'z_rt', 'resp']\n",
      "probability of correct and error trials 0.6812080536912751 0.3187919463087248\n",
      "probability of undecided trials 0.0\n",
      "False\n",
      "False\n"
     ]
    },
    {
     "name": "stderr",
     "output_type": "stream",
     "text": [
      "<ipython-input-11-7dace5c40c8a>:22: SettingWithCopyWarning: \n",
      "A value is trying to be set on a copy of a slice from a DataFrame.\n",
      "Try using .loc[row_indexer,col_indexer] = value instead\n",
      "\n",
      "See the caveats in the documentation: https://pandas.pydata.org/pandas-docs/stable/user_guide/indexing.html#returning-a-view-versus-a-copy\n",
      "  sub_df['resp']=np.where(sub_df[\"response\"] == resp[0],1,0)\n"
     ]
    },
    {
     "name": "stdout",
     "output_type": "stream",
     "text": [
      "Params [ 0.21131619 -0.12483857  0.67076178  0.64349079  0.02288334  0.61366533] gave 147.98659534282788\n",
      "Fitted FitResult(fitting_method='differential_evolution', method='auto', loss='BIC', value=147.98659534282788, nparams=6, samplesize=298, mess='')\n",
      "34\n"
     ]
    },
    {
     "name": "stderr",
     "output_type": "stream",
     "text": [
      "/Users/terlau/miniconda3/envs/mpi/lib/python3.8/site-packages/ddm/plot.py:184: MatplotlibDeprecationWarning: Adding an axes using the same arguments as a previous axes currently reuses the earlier instance.  In a future version, a new instance will always be created and returned.  Meanwhile, this warning can be suppressed, and the future behavior ensured, by passing a unique label to each axes instance.\n",
      "  ax1 = fig.add_axes([.12, .56, .85, .43])\n",
      "/Users/terlau/miniconda3/envs/mpi/lib/python3.8/site-packages/ddm/plot.py:185: MatplotlibDeprecationWarning: Adding an axes using the same arguments as a previous axes currently reuses the earlier instance.  In a future version, a new instance will always be created and returned.  Meanwhile, this warning can be suppressed, and the future behavior ensured, by passing a unique label to each axes instance.\n",
      "  ax2 = fig.add_axes([.12, .13, .85, .43])\n"
     ]
    },
    {
     "name": "stdout",
     "output_type": "stream",
     "text": [
      "2.0\n",
      "mean decision time 1.0242981651376146\n",
      "condition names ['subj_idx', 'category', 'stim', 'response', 'age', 'z_rt', 'resp']\n",
      "probability of correct and error trials 0.7315436241610739 0.2684563758389262\n",
      "probability of undecided trials 0.0\n",
      "False\n",
      "False\n"
     ]
    },
    {
     "name": "stderr",
     "output_type": "stream",
     "text": [
      "<ipython-input-11-7dace5c40c8a>:22: SettingWithCopyWarning: \n",
      "A value is trying to be set on a copy of a slice from a DataFrame.\n",
      "Try using .loc[row_indexer,col_indexer] = value instead\n",
      "\n",
      "See the caveats in the documentation: https://pandas.pydata.org/pandas-docs/stable/user_guide/indexing.html#returning-a-view-versus-a-copy\n",
      "  sub_df['resp']=np.where(sub_df[\"response\"] == resp[0],1,0)\n"
     ]
    },
    {
     "name": "stdout",
     "output_type": "stream",
     "text": [
      "Params [0.23303656 0.08849091 0.87000001 1.11617976 0.00858814 0.6748024 ] gave 198.06364156741932\n",
      "Fitted FitResult(fitting_method='differential_evolution', method='auto', loss='BIC', value=198.06364156741932, nparams=6, samplesize=298, mess='')\n",
      "35\n"
     ]
    },
    {
     "name": "stderr",
     "output_type": "stream",
     "text": [
      "/Users/terlau/miniconda3/envs/mpi/lib/python3.8/site-packages/ddm/plot.py:184: MatplotlibDeprecationWarning: Adding an axes using the same arguments as a previous axes currently reuses the earlier instance.  In a future version, a new instance will always be created and returned.  Meanwhile, this warning can be suppressed, and the future behavior ensured, by passing a unique label to each axes instance.\n",
      "  ax1 = fig.add_axes([.12, .56, .85, .43])\n",
      "/Users/terlau/miniconda3/envs/mpi/lib/python3.8/site-packages/ddm/plot.py:185: MatplotlibDeprecationWarning: Adding an axes using the same arguments as a previous axes currently reuses the earlier instance.  In a future version, a new instance will always be created and returned.  Meanwhile, this warning can be suppressed, and the future behavior ensured, by passing a unique label to each axes instance.\n",
      "  ax2 = fig.add_axes([.12, .13, .85, .43])\n"
     ]
    },
    {
     "name": "stdout",
     "output_type": "stream",
     "text": [
      "2.0\n",
      "mean decision time 0.9865388601036269\n",
      "condition names ['subj_idx', 'category', 'stim', 'response', 'age', 'z_rt', 'resp']\n",
      "probability of correct and error trials 0.6498316498316499 0.3501683501683502\n",
      "probability of undecided trials 0.0\n",
      "False\n",
      "False\n"
     ]
    },
    {
     "name": "stderr",
     "output_type": "stream",
     "text": [
      "<ipython-input-11-7dace5c40c8a>:22: SettingWithCopyWarning: \n",
      "A value is trying to be set on a copy of a slice from a DataFrame.\n",
      "Try using .loc[row_indexer,col_indexer] = value instead\n",
      "\n",
      "See the caveats in the documentation: https://pandas.pydata.org/pandas-docs/stable/user_guide/indexing.html#returning-a-view-versus-a-copy\n",
      "  sub_df['resp']=np.where(sub_df[\"response\"] == resp[0],1,0)\n"
     ]
    },
    {
     "name": "stdout",
     "output_type": "stream",
     "text": [
      "Params [ 0.17050112 -0.20776016  0.96000002  1.02464943  0.10407862  0.58723407] gave 293.12109868665203\n",
      "Fitted FitResult(fitting_method='differential_evolution', method='auto', loss='BIC', value=293.12109868665203, nparams=6, samplesize=297, mess='')\n",
      "36\n"
     ]
    },
    {
     "name": "stderr",
     "output_type": "stream",
     "text": [
      "/Users/terlau/miniconda3/envs/mpi/lib/python3.8/site-packages/ddm/plot.py:184: MatplotlibDeprecationWarning: Adding an axes using the same arguments as a previous axes currently reuses the earlier instance.  In a future version, a new instance will always be created and returned.  Meanwhile, this warning can be suppressed, and the future behavior ensured, by passing a unique label to each axes instance.\n",
      "  ax1 = fig.add_axes([.12, .56, .85, .43])\n",
      "/Users/terlau/miniconda3/envs/mpi/lib/python3.8/site-packages/ddm/plot.py:185: MatplotlibDeprecationWarning: Adding an axes using the same arguments as a previous axes currently reuses the earlier instance.  In a future version, a new instance will always be created and returned.  Meanwhile, this warning can be suppressed, and the future behavior ensured, by passing a unique label to each axes instance.\n",
      "  ax2 = fig.add_axes([.12, .13, .85, .43])\n"
     ]
    },
    {
     "name": "stdout",
     "output_type": "stream",
     "text": [
      "1.0\n",
      "mean decision time 0.8380245098039215\n",
      "condition names ['subj_idx', 'category', 'stim', 'response', 'age', 'z_rt', 'resp']\n",
      "probability of correct and error trials 0.6845637583892618 0.31543624161073824\n",
      "probability of undecided trials 0.0\n",
      "False\n",
      "False\n"
     ]
    },
    {
     "name": "stderr",
     "output_type": "stream",
     "text": [
      "<ipython-input-11-7dace5c40c8a>:22: SettingWithCopyWarning: \n",
      "A value is trying to be set on a copy of a slice from a DataFrame.\n",
      "Try using .loc[row_indexer,col_indexer] = value instead\n",
      "\n",
      "See the caveats in the documentation: https://pandas.pydata.org/pandas-docs/stable/user_guide/indexing.html#returning-a-view-versus-a-copy\n",
      "  sub_df['resp']=np.where(sub_df[\"response\"] == resp[0],1,0)\n"
     ]
    },
    {
     "name": "stdout",
     "output_type": "stream",
     "text": [
      "Params [ 0.15056295 -0.28282268  1.19730755  1.72062414  0.070262    0.43499634] gave 156.50032696612146\n",
      "Fitted FitResult(fitting_method='differential_evolution', method='auto', loss='BIC', value=156.50032696612146, nparams=6, samplesize=298, mess='')\n",
      "37\n"
     ]
    },
    {
     "name": "stderr",
     "output_type": "stream",
     "text": [
      "/Users/terlau/miniconda3/envs/mpi/lib/python3.8/site-packages/ddm/plot.py:184: MatplotlibDeprecationWarning: Adding an axes using the same arguments as a previous axes currently reuses the earlier instance.  In a future version, a new instance will always be created and returned.  Meanwhile, this warning can be suppressed, and the future behavior ensured, by passing a unique label to each axes instance.\n",
      "  ax1 = fig.add_axes([.12, .56, .85, .43])\n",
      "/Users/terlau/miniconda3/envs/mpi/lib/python3.8/site-packages/ddm/plot.py:185: MatplotlibDeprecationWarning: Adding an axes using the same arguments as a previous axes currently reuses the earlier instance.  In a future version, a new instance will always be created and returned.  Meanwhile, this warning can be suppressed, and the future behavior ensured, by passing a unique label to each axes instance.\n",
      "  ax2 = fig.add_axes([.12, .13, .85, .43])\n"
     ]
    },
    {
     "name": "stdout",
     "output_type": "stream",
     "text": [
      "2.0\n",
      "mean decision time 1.3368888888888888\n",
      "condition names ['subj_idx', 'category', 'stim', 'response', 'age', 'z_rt', 'resp']\n",
      "probability of correct and error trials 0.6678445229681979 0.3321554770318021\n",
      "probability of undecided trials 0.0\n",
      "False\n",
      "False\n"
     ]
    },
    {
     "name": "stderr",
     "output_type": "stream",
     "text": [
      "<ipython-input-11-7dace5c40c8a>:22: SettingWithCopyWarning: \n",
      "A value is trying to be set on a copy of a slice from a DataFrame.\n",
      "Try using .loc[row_indexer,col_indexer] = value instead\n",
      "\n",
      "See the caveats in the documentation: https://pandas.pydata.org/pandas-docs/stable/user_guide/indexing.html#returning-a-view-versus-a-copy\n",
      "  sub_df['resp']=np.where(sub_df[\"response\"] == resp[0],1,0)\n"
     ]
    },
    {
     "name": "stdout",
     "output_type": "stream",
     "text": [
      "Params [ 9.61054581e-02  1.69849658e-01  4.03999996e+00  1.48437987e+00\n",
      " -6.76004880e-04  3.23216525e-01] gave 492.0693315843693\n",
      "Fitted FitResult(fitting_method='differential_evolution', method='auto', loss='BIC', value=492.0693315843693, nparams=6, samplesize=283, mess='')\n",
      "38\n"
     ]
    },
    {
     "name": "stderr",
     "output_type": "stream",
     "text": [
      "/Users/terlau/miniconda3/envs/mpi/lib/python3.8/site-packages/ddm/plot.py:184: MatplotlibDeprecationWarning: Adding an axes using the same arguments as a previous axes currently reuses the earlier instance.  In a future version, a new instance will always be created and returned.  Meanwhile, this warning can be suppressed, and the future behavior ensured, by passing a unique label to each axes instance.\n",
      "  ax1 = fig.add_axes([.12, .56, .85, .43])\n",
      "/Users/terlau/miniconda3/envs/mpi/lib/python3.8/site-packages/ddm/plot.py:185: MatplotlibDeprecationWarning: Adding an axes using the same arguments as a previous axes currently reuses the earlier instance.  In a future version, a new instance will always be created and returned.  Meanwhile, this warning can be suppressed, and the future behavior ensured, by passing a unique label to each axes instance.\n",
      "  ax2 = fig.add_axes([.12, .13, .85, .43])\n"
     ]
    },
    {
     "name": "stdout",
     "output_type": "stream",
     "text": [
      "2.0\n",
      "mean decision time 0.9517848101265822\n",
      "condition names ['subj_idx', 'category', 'stim', 'response', 'age', 'z_rt', 'resp']\n",
      "probability of correct and error trials 0.7926421404682275 0.20735785953177258\n",
      "probability of undecided trials 0.0\n",
      "False\n",
      "False\n"
     ]
    },
    {
     "name": "stderr",
     "output_type": "stream",
     "text": [
      "<ipython-input-11-7dace5c40c8a>:22: SettingWithCopyWarning: \n",
      "A value is trying to be set on a copy of a slice from a DataFrame.\n",
      "Try using .loc[row_indexer,col_indexer] = value instead\n",
      "\n",
      "See the caveats in the documentation: https://pandas.pydata.org/pandas-docs/stable/user_guide/indexing.html#returning-a-view-versus-a-copy\n",
      "  sub_df['resp']=np.where(sub_df[\"response\"] == resp[0],1,0)\n"
     ]
    },
    {
     "name": "stdout",
     "output_type": "stream",
     "text": [
      "Params [0.28973715 0.09351651 1.3216295  1.08296372 0.05445    0.44410925] gave 304.8834150321068\n",
      "Fitted FitResult(fitting_method='differential_evolution', method='auto', loss='BIC', value=304.8834150321068, nparams=6, samplesize=299, mess='')\n",
      "39\n"
     ]
    },
    {
     "name": "stderr",
     "output_type": "stream",
     "text": [
      "/Users/terlau/miniconda3/envs/mpi/lib/python3.8/site-packages/ddm/plot.py:184: MatplotlibDeprecationWarning: Adding an axes using the same arguments as a previous axes currently reuses the earlier instance.  In a future version, a new instance will always be created and returned.  Meanwhile, this warning can be suppressed, and the future behavior ensured, by passing a unique label to each axes instance.\n",
      "  ax1 = fig.add_axes([.12, .56, .85, .43])\n",
      "/Users/terlau/miniconda3/envs/mpi/lib/python3.8/site-packages/ddm/plot.py:185: MatplotlibDeprecationWarning: Adding an axes using the same arguments as a previous axes currently reuses the earlier instance.  In a future version, a new instance will always be created and returned.  Meanwhile, this warning can be suppressed, and the future behavior ensured, by passing a unique label to each axes instance.\n",
      "  ax2 = fig.add_axes([.12, .13, .85, .43])\n"
     ]
    },
    {
     "name": "stdout",
     "output_type": "stream",
     "text": [
      "[0]\n",
      "1.0\n",
      "mean decision time 0.9935925925925927\n",
      "condition names ['subj_idx', 'category', 'stim', 'response', 'age', 'z_rt', 'resp']\n",
      "probability of correct and error trials 0.7248322147651006 0.2751677852348993\n",
      "probability of undecided trials 0.0\n",
      "False\n",
      "False\n"
     ]
    },
    {
     "name": "stderr",
     "output_type": "stream",
     "text": [
      "<ipython-input-11-7dace5c40c8a>:22: SettingWithCopyWarning: \n",
      "A value is trying to be set on a copy of a slice from a DataFrame.\n",
      "Try using .loc[row_indexer,col_indexer] = value instead\n",
      "\n",
      "See the caveats in the documentation: https://pandas.pydata.org/pandas-docs/stable/user_guide/indexing.html#returning-a-view-versus-a-copy\n",
      "  sub_df['resp']=np.where(sub_df[\"response\"] == resp[0],1,0)\n"
     ]
    },
    {
     "name": "stdout",
     "output_type": "stream",
     "text": [
      "Params [ 0.19258219  0.09028093  0.97999999  0.74531811 -0.01516342  0.53493901] gave 380.2394445364354\n",
      "Fitted FitResult(fitting_method='differential_evolution', method='auto', loss='BIC', value=380.2394445364354, nparams=6, samplesize=298, mess='')\n",
      "41\n"
     ]
    },
    {
     "name": "stderr",
     "output_type": "stream",
     "text": [
      "/Users/terlau/miniconda3/envs/mpi/lib/python3.8/site-packages/ddm/plot.py:184: MatplotlibDeprecationWarning: Adding an axes using the same arguments as a previous axes currently reuses the earlier instance.  In a future version, a new instance will always be created and returned.  Meanwhile, this warning can be suppressed, and the future behavior ensured, by passing a unique label to each axes instance.\n",
      "  ax1 = fig.add_axes([.12, .56, .85, .43])\n",
      "/Users/terlau/miniconda3/envs/mpi/lib/python3.8/site-packages/ddm/plot.py:185: MatplotlibDeprecationWarning: Adding an axes using the same arguments as a previous axes currently reuses the earlier instance.  In a future version, a new instance will always be created and returned.  Meanwhile, this warning can be suppressed, and the future behavior ensured, by passing a unique label to each axes instance.\n",
      "  ax2 = fig.add_axes([.12, .13, .85, .43])\n"
     ]
    },
    {
     "name": "stdout",
     "output_type": "stream",
     "text": [
      "2.0\n",
      "mean decision time 0.6856623376623376\n",
      "condition names ['subj_idx', 'category', 'stim', 'response', 'age', 'z_rt', 'resp']\n",
      "probability of correct and error trials 0.5167785234899329 0.48322147651006714\n",
      "probability of undecided trials 0.0\n",
      "False\n",
      "False\n"
     ]
    },
    {
     "name": "stderr",
     "output_type": "stream",
     "text": [
      "<ipython-input-11-7dace5c40c8a>:22: SettingWithCopyWarning: \n",
      "A value is trying to be set on a copy of a slice from a DataFrame.\n",
      "Try using .loc[row_indexer,col_indexer] = value instead\n",
      "\n",
      "See the caveats in the documentation: https://pandas.pydata.org/pandas-docs/stable/user_guide/indexing.html#returning-a-view-versus-a-copy\n",
      "  sub_df['resp']=np.where(sub_df[\"response\"] == resp[0],1,0)\n"
     ]
    },
    {
     "name": "stdout",
     "output_type": "stream",
     "text": [
      "Params [ 1.04549575e-03  1.38941719e-01  9.80000002e-01  1.80154863e+00\n",
      " -4.71163582e-02  3.47023765e-01] gave 143.974237544419\n",
      "Fitted FitResult(fitting_method='differential_evolution', method='auto', loss='BIC', value=143.974237544419, nparams=6, samplesize=298, mess='')\n",
      "42\n"
     ]
    },
    {
     "name": "stderr",
     "output_type": "stream",
     "text": [
      "/Users/terlau/miniconda3/envs/mpi/lib/python3.8/site-packages/ddm/plot.py:184: MatplotlibDeprecationWarning: Adding an axes using the same arguments as a previous axes currently reuses the earlier instance.  In a future version, a new instance will always be created and returned.  Meanwhile, this warning can be suppressed, and the future behavior ensured, by passing a unique label to each axes instance.\n",
      "  ax1 = fig.add_axes([.12, .56, .85, .43])\n",
      "/Users/terlau/miniconda3/envs/mpi/lib/python3.8/site-packages/ddm/plot.py:185: MatplotlibDeprecationWarning: Adding an axes using the same arguments as a previous axes currently reuses the earlier instance.  In a future version, a new instance will always be created and returned.  Meanwhile, this warning can be suppressed, and the future behavior ensured, by passing a unique label to each axes instance.\n",
      "  ax2 = fig.add_axes([.12, .13, .85, .43])\n"
     ]
    },
    {
     "name": "stdout",
     "output_type": "stream",
     "text": [
      "2.0\n",
      "mean decision time 0.9906882591093117\n",
      "condition names ['subj_idx', 'category', 'stim', 'response', 'age', 'z_rt', 'resp']\n",
      "probability of correct and error trials 0.8288590604026845 0.17114093959731544\n",
      "probability of undecided trials 0.0\n",
      "False\n",
      "False\n"
     ]
    },
    {
     "name": "stderr",
     "output_type": "stream",
     "text": [
      "<ipython-input-11-7dace5c40c8a>:22: SettingWithCopyWarning: \n",
      "A value is trying to be set on a copy of a slice from a DataFrame.\n",
      "Try using .loc[row_indexer,col_indexer] = value instead\n",
      "\n",
      "See the caveats in the documentation: https://pandas.pydata.org/pandas-docs/stable/user_guide/indexing.html#returning-a-view-versus-a-copy\n",
      "  sub_df['resp']=np.where(sub_df[\"response\"] == resp[0],1,0)\n"
     ]
    },
    {
     "name": "stdout",
     "output_type": "stream",
     "text": [
      "Params [ 0.32734715 -0.10756689  0.92000006  0.8366765   0.10209114  0.6024089 ] gave 197.3160388069013\n",
      "Fitted FitResult(fitting_method='differential_evolution', method='auto', loss='BIC', value=197.3160388069013, nparams=6, samplesize=298, mess='')\n",
      "43\n"
     ]
    },
    {
     "name": "stderr",
     "output_type": "stream",
     "text": [
      "/Users/terlau/miniconda3/envs/mpi/lib/python3.8/site-packages/ddm/plot.py:184: MatplotlibDeprecationWarning: Adding an axes using the same arguments as a previous axes currently reuses the earlier instance.  In a future version, a new instance will always be created and returned.  Meanwhile, this warning can be suppressed, and the future behavior ensured, by passing a unique label to each axes instance.\n",
      "  ax1 = fig.add_axes([.12, .56, .85, .43])\n",
      "/Users/terlau/miniconda3/envs/mpi/lib/python3.8/site-packages/ddm/plot.py:185: MatplotlibDeprecationWarning: Adding an axes using the same arguments as a previous axes currently reuses the earlier instance.  In a future version, a new instance will always be created and returned.  Meanwhile, this warning can be suppressed, and the future behavior ensured, by passing a unique label to each axes instance.\n",
      "  ax2 = fig.add_axes([.12, .13, .85, .43])\n"
     ]
    },
    {
     "name": "stdout",
     "output_type": "stream",
     "text": [
      "1.0\n",
      "mean decision time 0.9375403225806451\n",
      "condition names ['subj_idx', 'category', 'stim', 'response', 'age', 'z_rt', 'resp']\n",
      "probability of correct and error trials 0.8294314381270903 0.1705685618729097\n",
      "probability of undecided trials 0.0\n",
      "False\n",
      "False\n"
     ]
    },
    {
     "name": "stderr",
     "output_type": "stream",
     "text": [
      "<ipython-input-11-7dace5c40c8a>:22: SettingWithCopyWarning: \n",
      "A value is trying to be set on a copy of a slice from a DataFrame.\n",
      "Try using .loc[row_indexer,col_indexer] = value instead\n",
      "\n",
      "See the caveats in the documentation: https://pandas.pydata.org/pandas-docs/stable/user_guide/indexing.html#returning-a-view-versus-a-copy\n",
      "  sub_df['resp']=np.where(sub_df[\"response\"] == resp[0],1,0)\n"
     ]
    },
    {
     "name": "stdout",
     "output_type": "stream",
     "text": [
      "Params [ 0.33767448 -0.03116429  1.12        1.27243593  0.06356228  0.53274991] gave 149.63703907836285\n",
      "Fitted FitResult(fitting_method='differential_evolution', method='auto', loss='BIC', value=149.63703907836285, nparams=6, samplesize=299, mess='')\n",
      "44\n"
     ]
    },
    {
     "name": "stderr",
     "output_type": "stream",
     "text": [
      "/Users/terlau/miniconda3/envs/mpi/lib/python3.8/site-packages/ddm/plot.py:184: MatplotlibDeprecationWarning: Adding an axes using the same arguments as a previous axes currently reuses the earlier instance.  In a future version, a new instance will always be created and returned.  Meanwhile, this warning can be suppressed, and the future behavior ensured, by passing a unique label to each axes instance.\n",
      "  ax1 = fig.add_axes([.12, .56, .85, .43])\n",
      "/Users/terlau/miniconda3/envs/mpi/lib/python3.8/site-packages/ddm/plot.py:185: MatplotlibDeprecationWarning: Adding an axes using the same arguments as a previous axes currently reuses the earlier instance.  In a future version, a new instance will always be created and returned.  Meanwhile, this warning can be suppressed, and the future behavior ensured, by passing a unique label to each axes instance.\n",
      "  ax2 = fig.add_axes([.12, .13, .85, .43])\n"
     ]
    },
    {
     "name": "stdout",
     "output_type": "stream",
     "text": [
      "[0]\n",
      "2.0\n",
      "mean decision time 0.8570931677018633\n",
      "condition names ['subj_idx', 'category', 'stim', 'response', 'age', 'z_rt', 'resp']\n",
      "probability of correct and error trials 0.5669014084507042 0.43309859154929575\n",
      "probability of undecided trials 0.0\n",
      "False\n",
      "False\n"
     ]
    },
    {
     "name": "stderr",
     "output_type": "stream",
     "text": [
      "<ipython-input-11-7dace5c40c8a>:22: SettingWithCopyWarning: \n",
      "A value is trying to be set on a copy of a slice from a DataFrame.\n",
      "Try using .loc[row_indexer,col_indexer] = value instead\n",
      "\n",
      "See the caveats in the documentation: https://pandas.pydata.org/pandas-docs/stable/user_guide/indexing.html#returning-a-view-versus-a-copy\n",
      "  sub_df['resp']=np.where(sub_df[\"response\"] == resp[0],1,0)\n"
     ]
    },
    {
     "name": "stdout",
     "output_type": "stream",
     "text": [
      "Params [ 0.04505832 -0.04292922  2.46110941  1.73820155  0.0069028   0.13376536] gave 350.4351141490847\n",
      "Fitted FitResult(fitting_method='differential_evolution', method='auto', loss='BIC', value=350.4351141490847, nparams=6, samplesize=284, mess='')\n",
      "46\n"
     ]
    },
    {
     "name": "stderr",
     "output_type": "stream",
     "text": [
      "/Users/terlau/miniconda3/envs/mpi/lib/python3.8/site-packages/ddm/plot.py:184: MatplotlibDeprecationWarning: Adding an axes using the same arguments as a previous axes currently reuses the earlier instance.  In a future version, a new instance will always be created and returned.  Meanwhile, this warning can be suppressed, and the future behavior ensured, by passing a unique label to each axes instance.\n",
      "  ax1 = fig.add_axes([.12, .56, .85, .43])\n",
      "/Users/terlau/miniconda3/envs/mpi/lib/python3.8/site-packages/ddm/plot.py:185: MatplotlibDeprecationWarning: Adding an axes using the same arguments as a previous axes currently reuses the earlier instance.  In a future version, a new instance will always be created and returned.  Meanwhile, this warning can be suppressed, and the future behavior ensured, by passing a unique label to each axes instance.\n",
      "  ax2 = fig.add_axes([.12, .13, .85, .43])\n"
     ]
    },
    {
     "name": "stdout",
     "output_type": "stream",
     "text": [
      "1.0\n",
      "mean decision time 1.0913603603603603\n",
      "condition names ['subj_idx', 'category', 'stim', 'response', 'age', 'z_rt', 'resp']\n",
      "probability of correct and error trials 0.7424749163879598 0.25752508361204013\n",
      "probability of undecided trials 0.0\n",
      "False\n",
      "False\n"
     ]
    },
    {
     "name": "stderr",
     "output_type": "stream",
     "text": [
      "<ipython-input-11-7dace5c40c8a>:22: SettingWithCopyWarning: \n",
      "A value is trying to be set on a copy of a slice from a DataFrame.\n",
      "Try using .loc[row_indexer,col_indexer] = value instead\n",
      "\n",
      "See the caveats in the documentation: https://pandas.pydata.org/pandas-docs/stable/user_guide/indexing.html#returning-a-view-versus-a-copy\n",
      "  sub_df['resp']=np.where(sub_df[\"response\"] == resp[0],1,0)\n"
     ]
    },
    {
     "name": "stdout",
     "output_type": "stream",
     "text": [
      "Params [ 0.1551963  -0.2349141   3.89999986  1.59311788  0.11110847  0.1643902 ] gave 410.58131081557616\n",
      "Fitted FitResult(fitting_method='differential_evolution', method='auto', loss='BIC', value=410.58131081557616, nparams=6, samplesize=299, mess='')\n",
      "47\n"
     ]
    },
    {
     "name": "stderr",
     "output_type": "stream",
     "text": [
      "/Users/terlau/miniconda3/envs/mpi/lib/python3.8/site-packages/ddm/plot.py:184: MatplotlibDeprecationWarning: Adding an axes using the same arguments as a previous axes currently reuses the earlier instance.  In a future version, a new instance will always be created and returned.  Meanwhile, this warning can be suppressed, and the future behavior ensured, by passing a unique label to each axes instance.\n",
      "  ax1 = fig.add_axes([.12, .56, .85, .43])\n",
      "/Users/terlau/miniconda3/envs/mpi/lib/python3.8/site-packages/ddm/plot.py:185: MatplotlibDeprecationWarning: Adding an axes using the same arguments as a previous axes currently reuses the earlier instance.  In a future version, a new instance will always be created and returned.  Meanwhile, this warning can be suppressed, and the future behavior ensured, by passing a unique label to each axes instance.\n",
      "  ax2 = fig.add_axes([.12, .13, .85, .43])\n"
     ]
    },
    {
     "name": "stdout",
     "output_type": "stream",
     "text": [
      "[0]\n",
      "1.0\n",
      "mean decision time 0.78643\n",
      "condition names ['subj_idx', 'category', 'stim', 'response', 'age', 'z_rt', 'resp']\n",
      "probability of correct and error trials 0.6711409395973155 0.3288590604026846\n",
      "probability of undecided trials 0.0\n",
      "False\n",
      "False\n"
     ]
    },
    {
     "name": "stderr",
     "output_type": "stream",
     "text": [
      "<ipython-input-11-7dace5c40c8a>:22: SettingWithCopyWarning: \n",
      "A value is trying to be set on a copy of a slice from a DataFrame.\n",
      "Try using .loc[row_indexer,col_indexer] = value instead\n",
      "\n",
      "See the caveats in the documentation: https://pandas.pydata.org/pandas-docs/stable/user_guide/indexing.html#returning-a-view-versus-a-copy\n",
      "  sub_df['resp']=np.where(sub_df[\"response\"] == resp[0],1,0)\n"
     ]
    },
    {
     "name": "stdout",
     "output_type": "stream",
     "text": [
      "Params [ 0.18031902 -0.15108409  0.72452157  0.58498462  0.01499576  0.45205837] gave 178.37635807171782\n",
      "Fitted FitResult(fitting_method='differential_evolution', method='auto', loss='BIC', value=178.37635807171782, nparams=6, samplesize=298, mess='')\n",
      "49\n"
     ]
    },
    {
     "name": "stderr",
     "output_type": "stream",
     "text": [
      "/Users/terlau/miniconda3/envs/mpi/lib/python3.8/site-packages/ddm/plot.py:184: MatplotlibDeprecationWarning: Adding an axes using the same arguments as a previous axes currently reuses the earlier instance.  In a future version, a new instance will always be created and returned.  Meanwhile, this warning can be suppressed, and the future behavior ensured, by passing a unique label to each axes instance.\n",
      "  ax1 = fig.add_axes([.12, .56, .85, .43])\n",
      "/Users/terlau/miniconda3/envs/mpi/lib/python3.8/site-packages/ddm/plot.py:185: MatplotlibDeprecationWarning: Adding an axes using the same arguments as a previous axes currently reuses the earlier instance.  In a future version, a new instance will always be created and returned.  Meanwhile, this warning can be suppressed, and the future behavior ensured, by passing a unique label to each axes instance.\n",
      "  ax2 = fig.add_axes([.12, .13, .85, .43])\n"
     ]
    },
    {
     "name": "stdout",
     "output_type": "stream",
     "text": [
      "2.0\n",
      "mean decision time 0.8429554655870445\n",
      "condition names ['subj_idx', 'category', 'stim', 'response', 'age', 'z_rt', 'resp']\n",
      "probability of correct and error trials 0.8316498316498316 0.16835016835016836\n",
      "probability of undecided trials 0.0\n",
      "False\n",
      "False\n"
     ]
    },
    {
     "name": "stderr",
     "output_type": "stream",
     "text": [
      "<ipython-input-11-7dace5c40c8a>:22: SettingWithCopyWarning: \n",
      "A value is trying to be set on a copy of a slice from a DataFrame.\n",
      "Try using .loc[row_indexer,col_indexer] = value instead\n",
      "\n",
      "See the caveats in the documentation: https://pandas.pydata.org/pandas-docs/stable/user_guide/indexing.html#returning-a-view-versus-a-copy\n",
      "  sub_df['resp']=np.where(sub_df[\"response\"] == resp[0],1,0)\n"
     ]
    },
    {
     "name": "stdout",
     "output_type": "stream",
     "text": [
      "Params [ 0.34221942  0.3100416   0.85000024  0.65814927 -0.05823497  0.45328362] gave 188.0303568556958\n",
      "Fitted FitResult(fitting_method='differential_evolution', method='auto', loss='BIC', value=188.0303568556958, nparams=6, samplesize=297, mess='')\n",
      "50\n"
     ]
    },
    {
     "name": "stderr",
     "output_type": "stream",
     "text": [
      "/Users/terlau/miniconda3/envs/mpi/lib/python3.8/site-packages/ddm/plot.py:184: MatplotlibDeprecationWarning: Adding an axes using the same arguments as a previous axes currently reuses the earlier instance.  In a future version, a new instance will always be created and returned.  Meanwhile, this warning can be suppressed, and the future behavior ensured, by passing a unique label to each axes instance.\n",
      "  ax1 = fig.add_axes([.12, .56, .85, .43])\n",
      "/Users/terlau/miniconda3/envs/mpi/lib/python3.8/site-packages/ddm/plot.py:185: MatplotlibDeprecationWarning: Adding an axes using the same arguments as a previous axes currently reuses the earlier instance.  In a future version, a new instance will always be created and returned.  Meanwhile, this warning can be suppressed, and the future behavior ensured, by passing a unique label to each axes instance.\n",
      "  ax2 = fig.add_axes([.12, .13, .85, .43])\n"
     ]
    },
    {
     "name": "stdout",
     "output_type": "stream",
     "text": [
      "1.0\n",
      "mean decision time 0.9739562841530054\n",
      "condition names ['subj_idx', 'category', 'stim', 'response', 'age', 'z_rt', 'resp']\n",
      "probability of correct and error trials 0.6224489795918368 0.37755102040816324\n",
      "probability of undecided trials 0.0\n",
      "False\n",
      "False\n"
     ]
    },
    {
     "name": "stderr",
     "output_type": "stream",
     "text": [
      "<ipython-input-11-7dace5c40c8a>:22: SettingWithCopyWarning: \n",
      "A value is trying to be set on a copy of a slice from a DataFrame.\n",
      "Try using .loc[row_indexer,col_indexer] = value instead\n",
      "\n",
      "See the caveats in the documentation: https://pandas.pydata.org/pandas-docs/stable/user_guide/indexing.html#returning-a-view-versus-a-copy\n",
      "  sub_df['resp']=np.where(sub_df[\"response\"] == resp[0],1,0)\n"
     ]
    },
    {
     "name": "stdout",
     "output_type": "stream",
     "text": [
      "Params [0.09775883 0.07653181 0.87000043 0.58286332 0.00661546 0.50880146] gave 425.3173588722826\n",
      "Fitted FitResult(fitting_method='differential_evolution', method='auto', loss='BIC', value=425.3173588722826, nparams=6, samplesize=294, mess='')\n",
      "51\n"
     ]
    },
    {
     "name": "stderr",
     "output_type": "stream",
     "text": [
      "/Users/terlau/miniconda3/envs/mpi/lib/python3.8/site-packages/ddm/plot.py:184: MatplotlibDeprecationWarning: Adding an axes using the same arguments as a previous axes currently reuses the earlier instance.  In a future version, a new instance will always be created and returned.  Meanwhile, this warning can be suppressed, and the future behavior ensured, by passing a unique label to each axes instance.\n",
      "  ax1 = fig.add_axes([.12, .56, .85, .43])\n",
      "/Users/terlau/miniconda3/envs/mpi/lib/python3.8/site-packages/ddm/plot.py:185: MatplotlibDeprecationWarning: Adding an axes using the same arguments as a previous axes currently reuses the earlier instance.  In a future version, a new instance will always be created and returned.  Meanwhile, this warning can be suppressed, and the future behavior ensured, by passing a unique label to each axes instance.\n",
      "  ax2 = fig.add_axes([.12, .13, .85, .43])\n"
     ]
    },
    {
     "name": "stdout",
     "output_type": "stream",
     "text": [
      "2.0\n",
      "mean decision time 0.8727551867219917\n",
      "condition names ['subj_idx', 'category', 'stim', 'response', 'age', 'z_rt', 'resp']\n",
      "probability of correct and error trials 0.8060200668896321 0.1939799331103679\n",
      "probability of undecided trials 0.0\n",
      "False\n",
      "False\n"
     ]
    },
    {
     "name": "stderr",
     "output_type": "stream",
     "text": [
      "<ipython-input-11-7dace5c40c8a>:22: SettingWithCopyWarning: \n",
      "A value is trying to be set on a copy of a slice from a DataFrame.\n",
      "Try using .loc[row_indexer,col_indexer] = value instead\n",
      "\n",
      "See the caveats in the documentation: https://pandas.pydata.org/pandas-docs/stable/user_guide/indexing.html#returning-a-view-versus-a-copy\n",
      "  sub_df['resp']=np.where(sub_df[\"response\"] == resp[0],1,0)\n"
     ]
    },
    {
     "name": "stdout",
     "output_type": "stream",
     "text": [
      "Params [ 0.35735663  0.287678    1.27999983  1.45203231 -0.01969668  0.45106832] gave 145.91844701513136\n",
      "Fitted FitResult(fitting_method='differential_evolution', method='auto', loss='BIC', value=145.91844701513136, nparams=6, samplesize=299, mess='')\n",
      "52\n"
     ]
    },
    {
     "name": "stderr",
     "output_type": "stream",
     "text": [
      "/Users/terlau/miniconda3/envs/mpi/lib/python3.8/site-packages/ddm/plot.py:184: MatplotlibDeprecationWarning: Adding an axes using the same arguments as a previous axes currently reuses the earlier instance.  In a future version, a new instance will always be created and returned.  Meanwhile, this warning can be suppressed, and the future behavior ensured, by passing a unique label to each axes instance.\n",
      "  ax1 = fig.add_axes([.12, .56, .85, .43])\n",
      "/Users/terlau/miniconda3/envs/mpi/lib/python3.8/site-packages/ddm/plot.py:185: MatplotlibDeprecationWarning: Adding an axes using the same arguments as a previous axes currently reuses the earlier instance.  In a future version, a new instance will always be created and returned.  Meanwhile, this warning can be suppressed, and the future behavior ensured, by passing a unique label to each axes instance.\n",
      "  ax2 = fig.add_axes([.12, .13, .85, .43])\n"
     ]
    },
    {
     "name": "stdout",
     "output_type": "stream",
     "text": [
      "1.0\n",
      "mean decision time 1.00940234375\n",
      "condition names ['subj_idx', 'category', 'stim', 'response', 'age', 'z_rt', 'resp']\n",
      "probability of correct and error trials 0.8619528619528619 0.13804713804713806\n",
      "probability of undecided trials 0.0\n",
      "False\n",
      "False\n"
     ]
    },
    {
     "name": "stderr",
     "output_type": "stream",
     "text": [
      "<ipython-input-11-7dace5c40c8a>:22: SettingWithCopyWarning: \n",
      "A value is trying to be set on a copy of a slice from a DataFrame.\n",
      "Try using .loc[row_indexer,col_indexer] = value instead\n",
      "\n",
      "See the caveats in the documentation: https://pandas.pydata.org/pandas-docs/stable/user_guide/indexing.html#returning-a-view-versus-a-copy\n",
      "  sub_df['resp']=np.where(sub_df[\"response\"] == resp[0],1,0)\n"
     ]
    },
    {
     "name": "stdout",
     "output_type": "stream",
     "text": [
      "Params [0.34027202 0.00689951 1.12424173 0.67524717 0.08809745 0.49571356] gave 327.4496815238631\n",
      "Fitted FitResult(fitting_method='differential_evolution', method='auto', loss='BIC', value=327.4496815238631, nparams=6, samplesize=297, mess='')\n",
      "53\n"
     ]
    },
    {
     "name": "stderr",
     "output_type": "stream",
     "text": [
      "/Users/terlau/miniconda3/envs/mpi/lib/python3.8/site-packages/ddm/plot.py:184: MatplotlibDeprecationWarning: Adding an axes using the same arguments as a previous axes currently reuses the earlier instance.  In a future version, a new instance will always be created and returned.  Meanwhile, this warning can be suppressed, and the future behavior ensured, by passing a unique label to each axes instance.\n",
      "  ax1 = fig.add_axes([.12, .56, .85, .43])\n",
      "/Users/terlau/miniconda3/envs/mpi/lib/python3.8/site-packages/ddm/plot.py:185: MatplotlibDeprecationWarning: Adding an axes using the same arguments as a previous axes currently reuses the earlier instance.  In a future version, a new instance will always be created and returned.  Meanwhile, this warning can be suppressed, and the future behavior ensured, by passing a unique label to each axes instance.\n",
      "  ax2 = fig.add_axes([.12, .13, .85, .43])\n"
     ]
    },
    {
     "name": "stdout",
     "output_type": "stream",
     "text": [
      "1.0\n",
      "mean decision time 1.1552511848341234\n",
      "condition names ['subj_idx', 'category', 'stim', 'response', 'age', 'z_rt', 'resp']\n",
      "probability of correct and error trials 0.7326388888888888 0.2673611111111111\n",
      "probability of undecided trials 0.0\n",
      "False\n",
      "False\n"
     ]
    },
    {
     "name": "stderr",
     "output_type": "stream",
     "text": [
      "<ipython-input-11-7dace5c40c8a>:22: SettingWithCopyWarning: \n",
      "A value is trying to be set on a copy of a slice from a DataFrame.\n",
      "Try using .loc[row_indexer,col_indexer] = value instead\n",
      "\n",
      "See the caveats in the documentation: https://pandas.pydata.org/pandas-docs/stable/user_guide/indexing.html#returning-a-view-versus-a-copy\n",
      "  sub_df['resp']=np.where(sub_df[\"response\"] == resp[0],1,0)\n"
     ]
    },
    {
     "name": "stdout",
     "output_type": "stream",
     "text": [
      "Params [ 0.18416083 -0.32308653  2.4400002   1.15791628  0.1012482   0.32228971] gave 455.1155089514741\n",
      "Fitted FitResult(fitting_method='differential_evolution', method='auto', loss='BIC', value=455.1155089514741, nparams=6, samplesize=288, mess='')\n",
      "54\n"
     ]
    },
    {
     "name": "stderr",
     "output_type": "stream",
     "text": [
      "/Users/terlau/miniconda3/envs/mpi/lib/python3.8/site-packages/ddm/plot.py:184: MatplotlibDeprecationWarning: Adding an axes using the same arguments as a previous axes currently reuses the earlier instance.  In a future version, a new instance will always be created and returned.  Meanwhile, this warning can be suppressed, and the future behavior ensured, by passing a unique label to each axes instance.\n",
      "  ax1 = fig.add_axes([.12, .56, .85, .43])\n",
      "/Users/terlau/miniconda3/envs/mpi/lib/python3.8/site-packages/ddm/plot.py:185: MatplotlibDeprecationWarning: Adding an axes using the same arguments as a previous axes currently reuses the earlier instance.  In a future version, a new instance will always be created and returned.  Meanwhile, this warning can be suppressed, and the future behavior ensured, by passing a unique label to each axes instance.\n",
      "  ax2 = fig.add_axes([.12, .13, .85, .43])\n"
     ]
    },
    {
     "name": "stdout",
     "output_type": "stream",
     "text": [
      "[0]\n",
      "2.0\n",
      "mean decision time 1.2567102040816327\n",
      "condition names ['subj_idx', 'category', 'stim', 'response', 'age', 'z_rt', 'resp']\n",
      "probability of correct and error trials 0.8193979933110368 0.1806020066889632\n",
      "probability of undecided trials 0.0\n",
      "False\n",
      "False\n"
     ]
    },
    {
     "name": "stderr",
     "output_type": "stream",
     "text": [
      "<ipython-input-11-7dace5c40c8a>:22: SettingWithCopyWarning: \n",
      "A value is trying to be set on a copy of a slice from a DataFrame.\n",
      "Try using .loc[row_indexer,col_indexer] = value instead\n",
      "\n",
      "See the caveats in the documentation: https://pandas.pydata.org/pandas-docs/stable/user_guide/indexing.html#returning-a-view-versus-a-copy\n",
      "  sub_df['resp']=np.where(sub_df[\"response\"] == resp[0],1,0)\n"
     ]
    },
    {
     "name": "stdout",
     "output_type": "stream",
     "text": [
      "Params [0.25544501 0.02693037 2.83999998 1.16649746 0.03848652 0.31725661] gave 467.7937359060563\n",
      "Fitted FitResult(fitting_method='differential_evolution', method='auto', loss='BIC', value=467.7937359060563, nparams=6, samplesize=299, mess='')\n",
      "57\n"
     ]
    },
    {
     "name": "stderr",
     "output_type": "stream",
     "text": [
      "/Users/terlau/miniconda3/envs/mpi/lib/python3.8/site-packages/ddm/plot.py:184: MatplotlibDeprecationWarning: Adding an axes using the same arguments as a previous axes currently reuses the earlier instance.  In a future version, a new instance will always be created and returned.  Meanwhile, this warning can be suppressed, and the future behavior ensured, by passing a unique label to each axes instance.\n",
      "  ax1 = fig.add_axes([.12, .56, .85, .43])\n",
      "/Users/terlau/miniconda3/envs/mpi/lib/python3.8/site-packages/ddm/plot.py:185: MatplotlibDeprecationWarning: Adding an axes using the same arguments as a previous axes currently reuses the earlier instance.  In a future version, a new instance will always be created and returned.  Meanwhile, this warning can be suppressed, and the future behavior ensured, by passing a unique label to each axes instance.\n",
      "  ax2 = fig.add_axes([.12, .13, .85, .43])\n"
     ]
    },
    {
     "name": "stdout",
     "output_type": "stream",
     "text": [
      "2.0\n",
      "mean decision time 1.5362511013215858\n",
      "condition names ['subj_idx', 'category', 'stim', 'response', 'age', 'z_rt', 'resp']\n",
      "probability of correct and error trials 0.7881944444444444 0.21180555555555555\n",
      "probability of undecided trials 0.0\n",
      "False\n",
      "False\n"
     ]
    },
    {
     "name": "stderr",
     "output_type": "stream",
     "text": [
      "<ipython-input-11-7dace5c40c8a>:22: SettingWithCopyWarning: \n",
      "A value is trying to be set on a copy of a slice from a DataFrame.\n",
      "Try using .loc[row_indexer,col_indexer] = value instead\n",
      "\n",
      "See the caveats in the documentation: https://pandas.pydata.org/pandas-docs/stable/user_guide/indexing.html#returning-a-view-versus-a-copy\n",
      "  sub_df['resp']=np.where(sub_df[\"response\"] == resp[0],1,0)\n"
     ]
    },
    {
     "name": "stdout",
     "output_type": "stream",
     "text": [
      "Params [ 1.93466724e-01 -1.44523028e-03  5.06999997e+00  2.10174446e+00\n",
      "  5.86637966e-03  6.83731286e-01] gave 250.76504505507828\n",
      "Fitted FitResult(fitting_method='differential_evolution', method='auto', loss='BIC', value=250.76504505507828, nparams=6, samplesize=288, mess='')\n",
      "58\n"
     ]
    },
    {
     "name": "stderr",
     "output_type": "stream",
     "text": [
      "/Users/terlau/miniconda3/envs/mpi/lib/python3.8/site-packages/ddm/plot.py:184: MatplotlibDeprecationWarning: Adding an axes using the same arguments as a previous axes currently reuses the earlier instance.  In a future version, a new instance will always be created and returned.  Meanwhile, this warning can be suppressed, and the future behavior ensured, by passing a unique label to each axes instance.\n",
      "  ax1 = fig.add_axes([.12, .56, .85, .43])\n",
      "/Users/terlau/miniconda3/envs/mpi/lib/python3.8/site-packages/ddm/plot.py:185: MatplotlibDeprecationWarning: Adding an axes using the same arguments as a previous axes currently reuses the earlier instance.  In a future version, a new instance will always be created and returned.  Meanwhile, this warning can be suppressed, and the future behavior ensured, by passing a unique label to each axes instance.\n",
      "  ax2 = fig.add_axes([.12, .13, .85, .43])\n"
     ]
    },
    {
     "name": "stdout",
     "output_type": "stream",
     "text": [
      "2.0\n",
      "mean decision time 1.0502352941176472\n",
      "condition names ['subj_idx', 'category', 'stim', 'response', 'age', 'z_rt', 'resp']\n",
      "probability of correct and error trials 0.8013468013468014 0.19865319865319866\n",
      "probability of undecided trials 0.0\n",
      "False\n",
      "False\n"
     ]
    },
    {
     "name": "stderr",
     "output_type": "stream",
     "text": [
      "<ipython-input-11-7dace5c40c8a>:22: SettingWithCopyWarning: \n",
      "A value is trying to be set on a copy of a slice from a DataFrame.\n",
      "Try using .loc[row_indexer,col_indexer] = value instead\n",
      "\n",
      "See the caveats in the documentation: https://pandas.pydata.org/pandas-docs/stable/user_guide/indexing.html#returning-a-view-versus-a-copy\n",
      "  sub_df['resp']=np.where(sub_df[\"response\"] == resp[0],1,0)\n"
     ]
    },
    {
     "name": "stdout",
     "output_type": "stream",
     "text": [
      "Params [ 0.22138219 -0.30087047  1.79000007  1.08839312  0.1609094   0.37191222] gave 403.376512182822\n",
      "Fitted FitResult(fitting_method='differential_evolution', method='auto', loss='BIC', value=403.376512182822, nparams=6, samplesize=297, mess='')\n",
      "59\n"
     ]
    },
    {
     "name": "stderr",
     "output_type": "stream",
     "text": [
      "/Users/terlau/miniconda3/envs/mpi/lib/python3.8/site-packages/ddm/plot.py:184: MatplotlibDeprecationWarning: Adding an axes using the same arguments as a previous axes currently reuses the earlier instance.  In a future version, a new instance will always be created and returned.  Meanwhile, this warning can be suppressed, and the future behavior ensured, by passing a unique label to each axes instance.\n",
      "  ax1 = fig.add_axes([.12, .56, .85, .43])\n",
      "/Users/terlau/miniconda3/envs/mpi/lib/python3.8/site-packages/ddm/plot.py:185: MatplotlibDeprecationWarning: Adding an axes using the same arguments as a previous axes currently reuses the earlier instance.  In a future version, a new instance will always be created and returned.  Meanwhile, this warning can be suppressed, and the future behavior ensured, by passing a unique label to each axes instance.\n",
      "  ax2 = fig.add_axes([.12, .13, .85, .43])\n"
     ]
    },
    {
     "name": "stdout",
     "output_type": "stream",
     "text": [
      "2.0\n",
      "mean decision time 1.056233009708738\n",
      "condition names ['subj_idx', 'category', 'stim', 'response', 'age', 'z_rt', 'resp']\n",
      "probability of correct and error trials 0.5754189944134078 0.4245810055865922\n",
      "probability of undecided trials 0.0\n",
      "False\n",
      "False\n"
     ]
    },
    {
     "name": "stderr",
     "output_type": "stream",
     "text": [
      "<ipython-input-11-7dace5c40c8a>:22: SettingWithCopyWarning: \n",
      "A value is trying to be set on a copy of a slice from a DataFrame.\n",
      "Try using .loc[row_indexer,col_indexer] = value instead\n",
      "\n",
      "See the caveats in the documentation: https://pandas.pydata.org/pandas-docs/stable/user_guide/indexing.html#returning-a-view-versus-a-copy\n",
      "  sub_df['resp']=np.where(sub_df[\"response\"] == resp[0],1,0)\n"
     ]
    },
    {
     "name": "stdout",
     "output_type": "stream",
     "text": [
      "Params [ 0.08124004  0.04822766  1.24172676  0.86513813 -0.05047431  0.45540485] gave 302.26249753397553\n",
      "Fitted FitResult(fitting_method='differential_evolution', method='auto', loss='BIC', value=302.26249753397553, nparams=6, samplesize=179, mess='')\n",
      "60\n"
     ]
    },
    {
     "name": "stderr",
     "output_type": "stream",
     "text": [
      "/Users/terlau/miniconda3/envs/mpi/lib/python3.8/site-packages/ddm/plot.py:184: MatplotlibDeprecationWarning: Adding an axes using the same arguments as a previous axes currently reuses the earlier instance.  In a future version, a new instance will always be created and returned.  Meanwhile, this warning can be suppressed, and the future behavior ensured, by passing a unique label to each axes instance.\n",
      "  ax1 = fig.add_axes([.12, .56, .85, .43])\n",
      "/Users/terlau/miniconda3/envs/mpi/lib/python3.8/site-packages/ddm/plot.py:185: MatplotlibDeprecationWarning: Adding an axes using the same arguments as a previous axes currently reuses the earlier instance.  In a future version, a new instance will always be created and returned.  Meanwhile, this warning can be suppressed, and the future behavior ensured, by passing a unique label to each axes instance.\n",
      "  ax2 = fig.add_axes([.12, .13, .85, .43])\n"
     ]
    },
    {
     "name": "stdout",
     "output_type": "stream",
     "text": [
      "1.0\n",
      "mean decision time 1.2107850877192983\n",
      "condition names ['subj_idx', 'category', 'stim', 'response', 'age', 'z_rt', 'resp']\n",
      "probability of correct and error trials 0.7676767676767676 0.23232323232323232\n",
      "probability of undecided trials 0.0\n",
      "False\n",
      "False\n"
     ]
    },
    {
     "name": "stderr",
     "output_type": "stream",
     "text": [
      "<ipython-input-11-7dace5c40c8a>:22: SettingWithCopyWarning: \n",
      "A value is trying to be set on a copy of a slice from a DataFrame.\n",
      "Try using .loc[row_indexer,col_indexer] = value instead\n",
      "\n",
      "See the caveats in the documentation: https://pandas.pydata.org/pandas-docs/stable/user_guide/indexing.html#returning-a-view-versus-a-copy\n",
      "  sub_df['resp']=np.where(sub_df[\"response\"] == resp[0],1,0)\n"
     ]
    },
    {
     "name": "stdout",
     "output_type": "stream",
     "text": [
      "Params [ 0.18722587 -0.04483311  1.8348286   0.99610323  0.04052292  0.45375479] gave 490.00338049486993\n",
      "Fitted FitResult(fitting_method='differential_evolution', method='auto', loss='BIC', value=490.00338049486993, nparams=6, samplesize=297, mess='')\n",
      "61\n"
     ]
    },
    {
     "name": "stderr",
     "output_type": "stream",
     "text": [
      "/Users/terlau/miniconda3/envs/mpi/lib/python3.8/site-packages/ddm/plot.py:184: MatplotlibDeprecationWarning: Adding an axes using the same arguments as a previous axes currently reuses the earlier instance.  In a future version, a new instance will always be created and returned.  Meanwhile, this warning can be suppressed, and the future behavior ensured, by passing a unique label to each axes instance.\n",
      "  ax1 = fig.add_axes([.12, .56, .85, .43])\n",
      "/Users/terlau/miniconda3/envs/mpi/lib/python3.8/site-packages/ddm/plot.py:185: MatplotlibDeprecationWarning: Adding an axes using the same arguments as a previous axes currently reuses the earlier instance.  In a future version, a new instance will always be created and returned.  Meanwhile, this warning can be suppressed, and the future behavior ensured, by passing a unique label to each axes instance.\n",
      "  ax2 = fig.add_axes([.12, .13, .85, .43])\n"
     ]
    },
    {
     "name": "stdout",
     "output_type": "stream",
     "text": [
      "2.0\n",
      "mean decision time 1.4762018779342723\n",
      "condition names ['subj_idx', 'category', 'stim', 'response', 'age', 'z_rt', 'resp']\n",
      "probability of correct and error trials 0.7344827586206897 0.2655172413793103\n",
      "probability of undecided trials 0.0\n",
      "False\n",
      "False\n"
     ]
    },
    {
     "name": "stderr",
     "output_type": "stream",
     "text": [
      "<ipython-input-11-7dace5c40c8a>:22: SettingWithCopyWarning: \n",
      "A value is trying to be set on a copy of a slice from a DataFrame.\n",
      "Try using .loc[row_indexer,col_indexer] = value instead\n",
      "\n",
      "See the caveats in the documentation: https://pandas.pydata.org/pandas-docs/stable/user_guide/indexing.html#returning-a-view-versus-a-copy\n",
      "  sub_df['resp']=np.where(sub_df[\"response\"] == resp[0],1,0)\n"
     ]
    },
    {
     "name": "stdout",
     "output_type": "stream",
     "text": [
      "Params [ 0.25095474 -0.01100845  1.22000018  1.57862832  0.03123087  1.06612171] gave 172.47655656450078\n",
      "Fitted FitResult(fitting_method='differential_evolution', method='auto', loss='BIC', value=172.47655656450078, nparams=6, samplesize=290, mess='')\n",
      "62\n"
     ]
    },
    {
     "name": "stderr",
     "output_type": "stream",
     "text": [
      "/Users/terlau/miniconda3/envs/mpi/lib/python3.8/site-packages/ddm/plot.py:184: MatplotlibDeprecationWarning: Adding an axes using the same arguments as a previous axes currently reuses the earlier instance.  In a future version, a new instance will always be created and returned.  Meanwhile, this warning can be suppressed, and the future behavior ensured, by passing a unique label to each axes instance.\n",
      "  ax1 = fig.add_axes([.12, .56, .85, .43])\n",
      "/Users/terlau/miniconda3/envs/mpi/lib/python3.8/site-packages/ddm/plot.py:185: MatplotlibDeprecationWarning: Adding an axes using the same arguments as a previous axes currently reuses the earlier instance.  In a future version, a new instance will always be created and returned.  Meanwhile, this warning can be suppressed, and the future behavior ensured, by passing a unique label to each axes instance.\n",
      "  ax2 = fig.add_axes([.12, .13, .85, .43])\n"
     ]
    },
    {
     "name": "stdout",
     "output_type": "stream",
     "text": [
      "1.0\n",
      "mean decision time 0.8310337078651684\n",
      "condition names ['subj_idx', 'category', 'stim', 'response', 'age', 'z_rt', 'resp']\n",
      "probability of correct and error trials 0.7478991596638656 0.25210084033613445\n",
      "probability of undecided trials 0.0\n",
      "False\n",
      "False\n"
     ]
    },
    {
     "name": "stderr",
     "output_type": "stream",
     "text": [
      "<ipython-input-11-7dace5c40c8a>:22: SettingWithCopyWarning: \n",
      "A value is trying to be set on a copy of a slice from a DataFrame.\n",
      "Try using .loc[row_indexer,col_indexer] = value instead\n",
      "\n",
      "See the caveats in the documentation: https://pandas.pydata.org/pandas-docs/stable/user_guide/indexing.html#returning-a-view-versus-a-copy\n",
      "  sub_df['resp']=np.where(sub_df[\"response\"] == resp[0],1,0)\n"
     ]
    },
    {
     "name": "stdout",
     "output_type": "stream",
     "text": [
      "Params [ 0.20828041  0.15874309  0.84000003  1.05455258 -0.03696126  0.50700984] gave 72.02462692990004\n",
      "Fitted FitResult(fitting_method='differential_evolution', method='auto', loss='BIC', value=72.02462692990004, nparams=6, samplesize=119, mess='')\n",
      "63\n"
     ]
    },
    {
     "name": "stderr",
     "output_type": "stream",
     "text": [
      "/Users/terlau/miniconda3/envs/mpi/lib/python3.8/site-packages/ddm/plot.py:184: MatplotlibDeprecationWarning: Adding an axes using the same arguments as a previous axes currently reuses the earlier instance.  In a future version, a new instance will always be created and returned.  Meanwhile, this warning can be suppressed, and the future behavior ensured, by passing a unique label to each axes instance.\n",
      "  ax1 = fig.add_axes([.12, .56, .85, .43])\n",
      "/Users/terlau/miniconda3/envs/mpi/lib/python3.8/site-packages/ddm/plot.py:185: MatplotlibDeprecationWarning: Adding an axes using the same arguments as a previous axes currently reuses the earlier instance.  In a future version, a new instance will always be created and returned.  Meanwhile, this warning can be suppressed, and the future behavior ensured, by passing a unique label to each axes instance.\n",
      "  ax2 = fig.add_axes([.12, .13, .85, .43])\n"
     ]
    },
    {
     "name": "stdout",
     "output_type": "stream",
     "text": [
      "2.0\n",
      "mean decision time 0.8307019230769229\n",
      "condition names ['subj_idx', 'category', 'stim', 'response', 'age', 'z_rt', 'resp']\n",
      "probability of correct and error trials 0.7027027027027027 0.2972972972972973\n",
      "probability of undecided trials 0.0\n",
      "False\n",
      "False\n"
     ]
    },
    {
     "name": "stderr",
     "output_type": "stream",
     "text": [
      "<ipython-input-11-7dace5c40c8a>:22: SettingWithCopyWarning: \n",
      "A value is trying to be set on a copy of a slice from a DataFrame.\n",
      "Try using .loc[row_indexer,col_indexer] = value instead\n",
      "\n",
      "See the caveats in the documentation: https://pandas.pydata.org/pandas-docs/stable/user_guide/indexing.html#returning-a-view-versus-a-copy\n",
      "  sub_df['resp']=np.where(sub_df[\"response\"] == resp[0],1,0)\n"
     ]
    },
    {
     "name": "stdout",
     "output_type": "stream",
     "text": [
      "Params [ 0.23017531  0.32921959  0.82014881  1.34079963 -0.13059476  0.53770935] gave 84.6785624866722\n",
      "Fitted FitResult(fitting_method='differential_evolution', method='auto', loss='BIC', value=84.6785624866722, nparams=6, samplesize=296, mess='')\n",
      "64\n"
     ]
    },
    {
     "name": "stderr",
     "output_type": "stream",
     "text": [
      "/Users/terlau/miniconda3/envs/mpi/lib/python3.8/site-packages/ddm/plot.py:184: MatplotlibDeprecationWarning: Adding an axes using the same arguments as a previous axes currently reuses the earlier instance.  In a future version, a new instance will always be created and returned.  Meanwhile, this warning can be suppressed, and the future behavior ensured, by passing a unique label to each axes instance.\n",
      "  ax1 = fig.add_axes([.12, .56, .85, .43])\n",
      "/Users/terlau/miniconda3/envs/mpi/lib/python3.8/site-packages/ddm/plot.py:185: MatplotlibDeprecationWarning: Adding an axes using the same arguments as a previous axes currently reuses the earlier instance.  In a future version, a new instance will always be created and returned.  Meanwhile, this warning can be suppressed, and the future behavior ensured, by passing a unique label to each axes instance.\n",
      "  ax2 = fig.add_axes([.12, .13, .85, .43])\n"
     ]
    },
    {
     "name": "stdout",
     "output_type": "stream",
     "text": [
      "2.0\n",
      "mean decision time 1.4784885844748858\n",
      "condition names ['subj_idx', 'category', 'stim', 'response', 'age', 'z_rt', 'resp']\n",
      "probability of correct and error trials 0.7423728813559322 0.2576271186440678\n",
      "probability of undecided trials 0.0\n",
      "False\n",
      "False\n"
     ]
    },
    {
     "name": "stderr",
     "output_type": "stream",
     "text": [
      "<ipython-input-11-7dace5c40c8a>:22: SettingWithCopyWarning: \n",
      "A value is trying to be set on a copy of a slice from a DataFrame.\n",
      "Try using .loc[row_indexer,col_indexer] = value instead\n",
      "\n",
      "See the caveats in the documentation: https://pandas.pydata.org/pandas-docs/stable/user_guide/indexing.html#returning-a-view-versus-a-copy\n",
      "  sub_df['resp']=np.where(sub_df[\"response\"] == resp[0],1,0)\n"
     ]
    },
    {
     "name": "stdout",
     "output_type": "stream",
     "text": [
      "Params [0.21235214 0.13670277 5.87000002 2.35343249 0.0140081  0.66640487] gave 212.91752737454792\n",
      "Fitted FitResult(fitting_method='differential_evolution', method='auto', loss='BIC', value=212.91752737454792, nparams=6, samplesize=295, mess='')\n",
      "65\n"
     ]
    },
    {
     "name": "stderr",
     "output_type": "stream",
     "text": [
      "/Users/terlau/miniconda3/envs/mpi/lib/python3.8/site-packages/ddm/plot.py:184: MatplotlibDeprecationWarning: Adding an axes using the same arguments as a previous axes currently reuses the earlier instance.  In a future version, a new instance will always be created and returned.  Meanwhile, this warning can be suppressed, and the future behavior ensured, by passing a unique label to each axes instance.\n",
      "  ax1 = fig.add_axes([.12, .56, .85, .43])\n",
      "/Users/terlau/miniconda3/envs/mpi/lib/python3.8/site-packages/ddm/plot.py:185: MatplotlibDeprecationWarning: Adding an axes using the same arguments as a previous axes currently reuses the earlier instance.  In a future version, a new instance will always be created and returned.  Meanwhile, this warning can be suppressed, and the future behavior ensured, by passing a unique label to each axes instance.\n",
      "  ax2 = fig.add_axes([.12, .13, .85, .43])\n"
     ]
    },
    {
     "name": "stdout",
     "output_type": "stream",
     "text": [
      "2.0\n",
      "mean decision time 0.9115265957446808\n",
      "condition names ['subj_idx', 'category', 'stim', 'response', 'age', 'z_rt', 'resp']\n",
      "probability of correct and error trials 0.6372881355932203 0.36271186440677966\n",
      "probability of undecided trials 0.0\n",
      "False\n",
      "False\n"
     ]
    },
    {
     "name": "stderr",
     "output_type": "stream",
     "text": [
      "<ipython-input-11-7dace5c40c8a>:22: SettingWithCopyWarning: \n",
      "A value is trying to be set on a copy of a slice from a DataFrame.\n",
      "Try using .loc[row_indexer,col_indexer] = value instead\n",
      "\n",
      "See the caveats in the documentation: https://pandas.pydata.org/pandas-docs/stable/user_guide/indexing.html#returning-a-view-versus-a-copy\n",
      "  sub_df['resp']=np.where(sub_df[\"response\"] == resp[0],1,0)\n"
     ]
    },
    {
     "name": "stdout",
     "output_type": "stream",
     "text": [
      "Params [ 0.15646293 -0.02900433  0.97287534  1.09043733  0.07650562  0.50968603] gave 238.35676949095344\n",
      "Fitted FitResult(fitting_method='differential_evolution', method='auto', loss='BIC', value=238.35676949095344, nparams=6, samplesize=295, mess='')\n",
      "66\n"
     ]
    },
    {
     "name": "stderr",
     "output_type": "stream",
     "text": [
      "/Users/terlau/miniconda3/envs/mpi/lib/python3.8/site-packages/ddm/plot.py:184: MatplotlibDeprecationWarning: Adding an axes using the same arguments as a previous axes currently reuses the earlier instance.  In a future version, a new instance will always be created and returned.  Meanwhile, this warning can be suppressed, and the future behavior ensured, by passing a unique label to each axes instance.\n",
      "  ax1 = fig.add_axes([.12, .56, .85, .43])\n",
      "/Users/terlau/miniconda3/envs/mpi/lib/python3.8/site-packages/ddm/plot.py:185: MatplotlibDeprecationWarning: Adding an axes using the same arguments as a previous axes currently reuses the earlier instance.  In a future version, a new instance will always be created and returned.  Meanwhile, this warning can be suppressed, and the future behavior ensured, by passing a unique label to each axes instance.\n",
      "  ax2 = fig.add_axes([.12, .13, .85, .43])\n"
     ]
    },
    {
     "name": "stdout",
     "output_type": "stream",
     "text": [
      "2.0\n",
      "mean decision time 0.9789449152542373\n",
      "condition names ['subj_idx', 'category', 'stim', 'response', 'age', 'z_rt', 'resp']\n",
      "probability of correct and error trials 0.7892976588628763 0.21070234113712374\n",
      "probability of undecided trials 0.0\n",
      "False\n",
      "False\n"
     ]
    },
    {
     "name": "stderr",
     "output_type": "stream",
     "text": [
      "<ipython-input-11-7dace5c40c8a>:22: SettingWithCopyWarning: \n",
      "A value is trying to be set on a copy of a slice from a DataFrame.\n",
      "Try using .loc[row_indexer,col_indexer] = value instead\n",
      "\n",
      "See the caveats in the documentation: https://pandas.pydata.org/pandas-docs/stable/user_guide/indexing.html#returning-a-view-versus-a-copy\n",
      "  sub_df['resp']=np.where(sub_df[\"response\"] == resp[0],1,0)\n"
     ]
    },
    {
     "name": "stdout",
     "output_type": "stream",
     "text": [
      "Params [ 0.29318787 -0.26631151  1.09        0.83099608  0.19198386  0.53270098] gave 290.69971431651226\n",
      "Fitted FitResult(fitting_method='differential_evolution', method='auto', loss='BIC', value=290.69971431651226, nparams=6, samplesize=299, mess='')\n",
      "67\n"
     ]
    },
    {
     "name": "stderr",
     "output_type": "stream",
     "text": [
      "/Users/terlau/miniconda3/envs/mpi/lib/python3.8/site-packages/ddm/plot.py:184: MatplotlibDeprecationWarning: Adding an axes using the same arguments as a previous axes currently reuses the earlier instance.  In a future version, a new instance will always be created and returned.  Meanwhile, this warning can be suppressed, and the future behavior ensured, by passing a unique label to each axes instance.\n",
      "  ax1 = fig.add_axes([.12, .56, .85, .43])\n",
      "/Users/terlau/miniconda3/envs/mpi/lib/python3.8/site-packages/ddm/plot.py:185: MatplotlibDeprecationWarning: Adding an axes using the same arguments as a previous axes currently reuses the earlier instance.  In a future version, a new instance will always be created and returned.  Meanwhile, this warning can be suppressed, and the future behavior ensured, by passing a unique label to each axes instance.\n",
      "  ax2 = fig.add_axes([.12, .13, .85, .43])\n"
     ]
    },
    {
     "name": "stdout",
     "output_type": "stream",
     "text": [
      "2.0\n",
      "mean decision time 0.803579766536965\n",
      "condition names ['subj_idx', 'category', 'stim', 'response', 'age', 'z_rt', 'resp']\n",
      "probability of correct and error trials 0.8624161073825504 0.13758389261744966\n",
      "probability of undecided trials 0.0\n",
      "False\n",
      "False\n"
     ]
    },
    {
     "name": "stderr",
     "output_type": "stream",
     "text": [
      "<ipython-input-11-7dace5c40c8a>:22: SettingWithCopyWarning: \n",
      "A value is trying to be set on a copy of a slice from a DataFrame.\n",
      "Try using .loc[row_indexer,col_indexer] = value instead\n",
      "\n",
      "See the caveats in the documentation: https://pandas.pydata.org/pandas-docs/stable/user_guide/indexing.html#returning-a-view-versus-a-copy\n",
      "  sub_df['resp']=np.where(sub_df[\"response\"] == resp[0],1,0)\n"
     ]
    },
    {
     "name": "stdout",
     "output_type": "stream",
     "text": [
      "Params [ 0.41540162 -0.16582397  0.82414106  0.93336749  0.11998591  0.5060647 ] gave 47.64436228585401\n",
      "Fitted FitResult(fitting_method='differential_evolution', method='auto', loss='BIC', value=47.64436228585401, nparams=6, samplesize=298, mess='')\n",
      "68\n"
     ]
    },
    {
     "name": "stderr",
     "output_type": "stream",
     "text": [
      "/Users/terlau/miniconda3/envs/mpi/lib/python3.8/site-packages/ddm/plot.py:184: MatplotlibDeprecationWarning: Adding an axes using the same arguments as a previous axes currently reuses the earlier instance.  In a future version, a new instance will always be created and returned.  Meanwhile, this warning can be suppressed, and the future behavior ensured, by passing a unique label to each axes instance.\n",
      "  ax1 = fig.add_axes([.12, .56, .85, .43])\n",
      "/Users/terlau/miniconda3/envs/mpi/lib/python3.8/site-packages/ddm/plot.py:185: MatplotlibDeprecationWarning: Adding an axes using the same arguments as a previous axes currently reuses the earlier instance.  In a future version, a new instance will always be created and returned.  Meanwhile, this warning can be suppressed, and the future behavior ensured, by passing a unique label to each axes instance.\n",
      "  ax2 = fig.add_axes([.12, .13, .85, .43])\n"
     ]
    },
    {
     "name": "stdout",
     "output_type": "stream",
     "text": [
      "1.0\n",
      "mean decision time 0.7836713615023473\n",
      "condition names ['subj_idx', 'category', 'stim', 'response', 'age', 'z_rt', 'resp']\n",
      "probability of correct and error trials 0.7171717171717171 0.2828282828282828\n",
      "probability of undecided trials 0.0\n",
      "False\n",
      "False\n"
     ]
    },
    {
     "name": "stderr",
     "output_type": "stream",
     "text": [
      "<ipython-input-11-7dace5c40c8a>:22: SettingWithCopyWarning: \n",
      "A value is trying to be set on a copy of a slice from a DataFrame.\n",
      "Try using .loc[row_indexer,col_indexer] = value instead\n",
      "\n",
      "See the caveats in the documentation: https://pandas.pydata.org/pandas-docs/stable/user_guide/indexing.html#returning-a-view-versus-a-copy\n",
      "  sub_df['resp']=np.where(sub_df[\"response\"] == resp[0],1,0)\n"
     ]
    },
    {
     "name": "stdout",
     "output_type": "stream",
     "text": [
      "Params [ 0.19753437  0.06559738  0.85999999  0.95680038 -0.01619194  0.43170733] gave 231.34602821002562\n",
      "Fitted FitResult(fitting_method='differential_evolution', method='auto', loss='BIC', value=231.34602821002562, nparams=6, samplesize=297, mess='')\n",
      "69\n"
     ]
    },
    {
     "name": "stderr",
     "output_type": "stream",
     "text": [
      "/Users/terlau/miniconda3/envs/mpi/lib/python3.8/site-packages/ddm/plot.py:184: MatplotlibDeprecationWarning: Adding an axes using the same arguments as a previous axes currently reuses the earlier instance.  In a future version, a new instance will always be created and returned.  Meanwhile, this warning can be suppressed, and the future behavior ensured, by passing a unique label to each axes instance.\n",
      "  ax1 = fig.add_axes([.12, .56, .85, .43])\n",
      "/Users/terlau/miniconda3/envs/mpi/lib/python3.8/site-packages/ddm/plot.py:185: MatplotlibDeprecationWarning: Adding an axes using the same arguments as a previous axes currently reuses the earlier instance.  In a future version, a new instance will always be created and returned.  Meanwhile, this warning can be suppressed, and the future behavior ensured, by passing a unique label to each axes instance.\n",
      "  ax2 = fig.add_axes([.12, .13, .85, .43])\n"
     ]
    },
    {
     "name": "stdout",
     "output_type": "stream",
     "text": [
      "2.0\n",
      "mean decision time 1.121524017467249\n",
      "condition names ['subj_idx', 'category', 'stim', 'response', 'age', 'z_rt', 'resp']\n",
      "probability of correct and error trials 0.7658862876254181 0.23411371237458195\n",
      "probability of undecided trials 0.0\n",
      "False\n",
      "False\n"
     ]
    },
    {
     "name": "stderr",
     "output_type": "stream",
     "text": [
      "<ipython-input-11-7dace5c40c8a>:22: SettingWithCopyWarning: \n",
      "A value is trying to be set on a copy of a slice from a DataFrame.\n",
      "Try using .loc[row_indexer,col_indexer] = value instead\n",
      "\n",
      "See the caveats in the documentation: https://pandas.pydata.org/pandas-docs/stable/user_guide/indexing.html#returning-a-view-versus-a-copy\n",
      "  sub_df['resp']=np.where(sub_df[\"response\"] == resp[0],1,0)\n"
     ]
    },
    {
     "name": "stdout",
     "output_type": "stream",
     "text": [
      "Params [ 0.17301684 -0.35648974  1.59999922  0.91700409  0.15768355  0.44562892] gave 493.2676179263005\n",
      "Fitted FitResult(fitting_method='differential_evolution', method='auto', loss='BIC', value=493.2676179263005, nparams=6, samplesize=299, mess='')\n",
      "71\n"
     ]
    },
    {
     "name": "stderr",
     "output_type": "stream",
     "text": [
      "/Users/terlau/miniconda3/envs/mpi/lib/python3.8/site-packages/ddm/plot.py:184: MatplotlibDeprecationWarning: Adding an axes using the same arguments as a previous axes currently reuses the earlier instance.  In a future version, a new instance will always be created and returned.  Meanwhile, this warning can be suppressed, and the future behavior ensured, by passing a unique label to each axes instance.\n",
      "  ax1 = fig.add_axes([.12, .56, .85, .43])\n",
      "/Users/terlau/miniconda3/envs/mpi/lib/python3.8/site-packages/ddm/plot.py:185: MatplotlibDeprecationWarning: Adding an axes using the same arguments as a previous axes currently reuses the earlier instance.  In a future version, a new instance will always be created and returned.  Meanwhile, this warning can be suppressed, and the future behavior ensured, by passing a unique label to each axes instance.\n",
      "  ax2 = fig.add_axes([.12, .13, .85, .43])\n"
     ]
    },
    {
     "name": "stdout",
     "output_type": "stream",
     "text": [
      "2.0\n",
      "mean decision time 1.2108056680161945\n",
      "condition names ['subj_idx', 'category', 'stim', 'response', 'age', 'z_rt', 'resp']\n",
      "probability of correct and error trials 0.8546712802768166 0.1453287197231834\n",
      "probability of undecided trials 0.0\n",
      "False\n",
      "False\n"
     ]
    },
    {
     "name": "stderr",
     "output_type": "stream",
     "text": [
      "<ipython-input-11-7dace5c40c8a>:22: SettingWithCopyWarning: \n",
      "A value is trying to be set on a copy of a slice from a DataFrame.\n",
      "Try using .loc[row_indexer,col_indexer] = value instead\n",
      "\n",
      "See the caveats in the documentation: https://pandas.pydata.org/pandas-docs/stable/user_guide/indexing.html#returning-a-view-versus-a-copy\n",
      "  sub_df['resp']=np.where(sub_df[\"response\"] == resp[0],1,0)\n"
     ]
    },
    {
     "name": "stdout",
     "output_type": "stream",
     "text": [
      "Params [0.25051563 0.02618568 2.68460845 1.13943862 0.03740146 0.32370471] gave 408.1848716467657\n",
      "Fitted FitResult(fitting_method='differential_evolution', method='auto', loss='BIC', value=408.1848716467657, nparams=6, samplesize=289, mess='')\n",
      "72\n"
     ]
    },
    {
     "name": "stderr",
     "output_type": "stream",
     "text": [
      "/Users/terlau/miniconda3/envs/mpi/lib/python3.8/site-packages/ddm/plot.py:184: MatplotlibDeprecationWarning: Adding an axes using the same arguments as a previous axes currently reuses the earlier instance.  In a future version, a new instance will always be created and returned.  Meanwhile, this warning can be suppressed, and the future behavior ensured, by passing a unique label to each axes instance.\n",
      "  ax1 = fig.add_axes([.12, .56, .85, .43])\n",
      "/Users/terlau/miniconda3/envs/mpi/lib/python3.8/site-packages/ddm/plot.py:185: MatplotlibDeprecationWarning: Adding an axes using the same arguments as a previous axes currently reuses the earlier instance.  In a future version, a new instance will always be created and returned.  Meanwhile, this warning can be suppressed, and the future behavior ensured, by passing a unique label to each axes instance.\n",
      "  ax2 = fig.add_axes([.12, .13, .85, .43])\n"
     ]
    },
    {
     "name": "stdout",
     "output_type": "stream",
     "text": [
      "1.0\n",
      "mean decision time 1.0315326633165829\n",
      "condition names ['subj_idx', 'category', 'stim', 'response', 'age', 'z_rt', 'resp']\n",
      "probability of correct and error trials 0.7107142857142857 0.2892857142857143\n",
      "probability of undecided trials 0.0\n",
      "False\n",
      "False\n"
     ]
    },
    {
     "name": "stderr",
     "output_type": "stream",
     "text": [
      "<ipython-input-11-7dace5c40c8a>:22: SettingWithCopyWarning: \n",
      "A value is trying to be set on a copy of a slice from a DataFrame.\n",
      "Try using .loc[row_indexer,col_indexer] = value instead\n",
      "\n",
      "See the caveats in the documentation: https://pandas.pydata.org/pandas-docs/stable/user_guide/indexing.html#returning-a-view-versus-a-copy\n",
      "  sub_df['resp']=np.where(sub_df[\"response\"] == resp[0],1,0)\n"
     ]
    },
    {
     "name": "stdout",
     "output_type": "stream",
     "text": [
      "Params [ 0.21426856  0.15083061  0.88824222  0.24051075 -0.03301587  0.47330482] gave 494.54111754008886\n",
      "Fitted FitResult(fitting_method='differential_evolution', method='auto', loss='BIC', value=494.54111754008886, nparams=6, samplesize=280, mess='')\n",
      "74\n"
     ]
    },
    {
     "name": "stderr",
     "output_type": "stream",
     "text": [
      "/Users/terlau/miniconda3/envs/mpi/lib/python3.8/site-packages/ddm/plot.py:184: MatplotlibDeprecationWarning: Adding an axes using the same arguments as a previous axes currently reuses the earlier instance.  In a future version, a new instance will always be created and returned.  Meanwhile, this warning can be suppressed, and the future behavior ensured, by passing a unique label to each axes instance.\n",
      "  ax1 = fig.add_axes([.12, .56, .85, .43])\n",
      "/Users/terlau/miniconda3/envs/mpi/lib/python3.8/site-packages/ddm/plot.py:185: MatplotlibDeprecationWarning: Adding an axes using the same arguments as a previous axes currently reuses the earlier instance.  In a future version, a new instance will always be created and returned.  Meanwhile, this warning can be suppressed, and the future behavior ensured, by passing a unique label to each axes instance.\n",
      "  ax2 = fig.add_axes([.12, .13, .85, .43])\n"
     ]
    },
    {
     "name": "stdout",
     "output_type": "stream",
     "text": [
      "1.0\n",
      "mean decision time 0.8163333333333335\n",
      "condition names ['subj_idx', 'category', 'stim', 'response', 'age', 'z_rt', 'resp']\n",
      "probability of correct and error trials 0.5896551724137931 0.4103448275862069\n",
      "probability of undecided trials 0.0\n",
      "False\n",
      "False\n"
     ]
    },
    {
     "name": "stderr",
     "output_type": "stream",
     "text": [
      "<ipython-input-11-7dace5c40c8a>:22: SettingWithCopyWarning: \n",
      "A value is trying to be set on a copy of a slice from a DataFrame.\n",
      "Try using .loc[row_indexer,col_indexer] = value instead\n",
      "\n",
      "See the caveats in the documentation: https://pandas.pydata.org/pandas-docs/stable/user_guide/indexing.html#returning-a-view-versus-a-copy\n",
      "  sub_df['resp']=np.where(sub_df[\"response\"] == resp[0],1,0)\n"
     ]
    },
    {
     "name": "stdout",
     "output_type": "stream",
     "text": [
      "Params [ 0.1336753   0.3617013   0.6810012   0.5231586  -0.07440698  0.47228722] gave 272.022450333764\n",
      "Fitted FitResult(fitting_method='differential_evolution', method='auto', loss='BIC', value=272.022450333764, nparams=6, samplesize=290, mess='')\n",
      "75\n"
     ]
    },
    {
     "name": "stderr",
     "output_type": "stream",
     "text": [
      "/Users/terlau/miniconda3/envs/mpi/lib/python3.8/site-packages/ddm/plot.py:184: MatplotlibDeprecationWarning: Adding an axes using the same arguments as a previous axes currently reuses the earlier instance.  In a future version, a new instance will always be created and returned.  Meanwhile, this warning can be suppressed, and the future behavior ensured, by passing a unique label to each axes instance.\n",
      "  ax1 = fig.add_axes([.12, .56, .85, .43])\n",
      "/Users/terlau/miniconda3/envs/mpi/lib/python3.8/site-packages/ddm/plot.py:185: MatplotlibDeprecationWarning: Adding an axes using the same arguments as a previous axes currently reuses the earlier instance.  In a future version, a new instance will always be created and returned.  Meanwhile, this warning can be suppressed, and the future behavior ensured, by passing a unique label to each axes instance.\n",
      "  ax2 = fig.add_axes([.12, .13, .85, .43])\n"
     ]
    },
    {
     "name": "stdout",
     "output_type": "stream",
     "text": [
      "2.0\n",
      "mean decision time 1.534679012345679\n",
      "condition names ['subj_idx', 'category', 'stim', 'response', 'age', 'z_rt', 'resp']\n",
      "probability of correct and error trials 0.574468085106383 0.425531914893617\n",
      "probability of undecided trials 0.0\n",
      "False\n",
      "False\n"
     ]
    },
    {
     "name": "stderr",
     "output_type": "stream",
     "text": [
      "<ipython-input-11-7dace5c40c8a>:22: SettingWithCopyWarning: \n",
      "A value is trying to be set on a copy of a slice from a DataFrame.\n",
      "Try using .loc[row_indexer,col_indexer] = value instead\n",
      "\n",
      "See the caveats in the documentation: https://pandas.pydata.org/pandas-docs/stable/user_guide/indexing.html#returning-a-view-versus-a-copy\n",
      "  sub_df['resp']=np.where(sub_df[\"response\"] == resp[0],1,0)\n"
     ]
    },
    {
     "name": "stdout",
     "output_type": "stream",
     "text": [
      "Params [ 0.04702653  0.28667098  5.91        1.58744202 -0.06223281  0.34599087] gave 487.723043942171\n",
      "Fitted FitResult(fitting_method='differential_evolution', method='auto', loss='BIC', value=487.723043942171, nparams=6, samplesize=282, mess='')\n",
      "76\n"
     ]
    },
    {
     "name": "stderr",
     "output_type": "stream",
     "text": [
      "/Users/terlau/miniconda3/envs/mpi/lib/python3.8/site-packages/ddm/plot.py:184: MatplotlibDeprecationWarning: Adding an axes using the same arguments as a previous axes currently reuses the earlier instance.  In a future version, a new instance will always be created and returned.  Meanwhile, this warning can be suppressed, and the future behavior ensured, by passing a unique label to each axes instance.\n",
      "  ax1 = fig.add_axes([.12, .56, .85, .43])\n",
      "/Users/terlau/miniconda3/envs/mpi/lib/python3.8/site-packages/ddm/plot.py:185: MatplotlibDeprecationWarning: Adding an axes using the same arguments as a previous axes currently reuses the earlier instance.  In a future version, a new instance will always be created and returned.  Meanwhile, this warning can be suppressed, and the future behavior ensured, by passing a unique label to each axes instance.\n",
      "  ax2 = fig.add_axes([.12, .13, .85, .43])\n"
     ]
    },
    {
     "name": "stdout",
     "output_type": "stream",
     "text": [
      "1.0\n",
      "mean decision time 0.7737248322147651\n",
      "condition names ['subj_idx', 'category', 'stim', 'response', 'age', 'z_rt', 'resp']\n",
      "probability of correct and error trials 0.5102739726027398 0.4897260273972603\n",
      "probability of undecided trials 0.0\n",
      "False\n",
      "False\n"
     ]
    },
    {
     "name": "stderr",
     "output_type": "stream",
     "text": [
      "<ipython-input-11-7dace5c40c8a>:22: SettingWithCopyWarning: \n",
      "A value is trying to be set on a copy of a slice from a DataFrame.\n",
      "Try using .loc[row_indexer,col_indexer] = value instead\n",
      "\n",
      "See the caveats in the documentation: https://pandas.pydata.org/pandas-docs/stable/user_guide/indexing.html#returning-a-view-versus-a-copy\n",
      "  sub_df['resp']=np.where(sub_df[\"response\"] == resp[0],1,0)\n"
     ]
    },
    {
     "name": "stdout",
     "output_type": "stream",
     "text": [
      "Params [ 0.00424786 -0.08282963  1.6804393   1.28018436  0.03877705  0.13177036] gave 410.450085709437\n",
      "Fitted FitResult(fitting_method='differential_evolution', method='auto', loss='BIC', value=410.450085709437, nparams=6, samplesize=292, mess='')\n",
      "77\n"
     ]
    },
    {
     "name": "stderr",
     "output_type": "stream",
     "text": [
      "/Users/terlau/miniconda3/envs/mpi/lib/python3.8/site-packages/ddm/plot.py:184: MatplotlibDeprecationWarning: Adding an axes using the same arguments as a previous axes currently reuses the earlier instance.  In a future version, a new instance will always be created and returned.  Meanwhile, this warning can be suppressed, and the future behavior ensured, by passing a unique label to each axes instance.\n",
      "  ax1 = fig.add_axes([.12, .56, .85, .43])\n",
      "/Users/terlau/miniconda3/envs/mpi/lib/python3.8/site-packages/ddm/plot.py:185: MatplotlibDeprecationWarning: Adding an axes using the same arguments as a previous axes currently reuses the earlier instance.  In a future version, a new instance will always be created and returned.  Meanwhile, this warning can be suppressed, and the future behavior ensured, by passing a unique label to each axes instance.\n",
      "  ax2 = fig.add_axes([.12, .13, .85, .43])\n"
     ]
    },
    {
     "name": "stdout",
     "output_type": "stream",
     "text": [
      "1.0\n",
      "mean decision time 0.9045792079207919\n",
      "condition names ['subj_idx', 'category', 'stim', 'response', 'age', 'z_rt', 'resp']\n",
      "probability of correct and error trials 0.7062937062937062 0.2937062937062937\n",
      "probability of undecided trials 0.0\n",
      "False\n",
      "False\n"
     ]
    },
    {
     "name": "stderr",
     "output_type": "stream",
     "text": [
      "<ipython-input-11-7dace5c40c8a>:22: SettingWithCopyWarning: \n",
      "A value is trying to be set on a copy of a slice from a DataFrame.\n",
      "Try using .loc[row_indexer,col_indexer] = value instead\n",
      "\n",
      "See the caveats in the documentation: https://pandas.pydata.org/pandas-docs/stable/user_guide/indexing.html#returning-a-view-versus-a-copy\n",
      "  sub_df['resp']=np.where(sub_df[\"response\"] == resp[0],1,0)\n"
     ]
    },
    {
     "name": "stdout",
     "output_type": "stream",
     "text": [
      "Params [ 0.26524594  0.30889028  0.76000002  0.4825843  -0.10902933  0.55306685] gave 256.3198994546736\n",
      "Fitted FitResult(fitting_method='differential_evolution', method='auto', loss='BIC', value=256.3198994546736, nparams=6, samplesize=286, mess='')\n",
      "78\n"
     ]
    },
    {
     "name": "stderr",
     "output_type": "stream",
     "text": [
      "/Users/terlau/miniconda3/envs/mpi/lib/python3.8/site-packages/ddm/plot.py:184: MatplotlibDeprecationWarning: Adding an axes using the same arguments as a previous axes currently reuses the earlier instance.  In a future version, a new instance will always be created and returned.  Meanwhile, this warning can be suppressed, and the future behavior ensured, by passing a unique label to each axes instance.\n",
      "  ax1 = fig.add_axes([.12, .56, .85, .43])\n",
      "/Users/terlau/miniconda3/envs/mpi/lib/python3.8/site-packages/ddm/plot.py:185: MatplotlibDeprecationWarning: Adding an axes using the same arguments as a previous axes currently reuses the earlier instance.  In a future version, a new instance will always be created and returned.  Meanwhile, this warning can be suppressed, and the future behavior ensured, by passing a unique label to each axes instance.\n",
      "  ax2 = fig.add_axes([.12, .13, .85, .43])\n"
     ]
    },
    {
     "name": "stdout",
     "output_type": "stream",
     "text": [
      "2.0\n",
      "mean decision time 0.8323218390804599\n",
      "condition names ['subj_idx', 'category', 'stim', 'response', 'age', 'z_rt', 'resp']\n",
      "probability of correct and error trials 0.5938566552901023 0.4061433447098976\n",
      "probability of undecided trials 0.0\n",
      "False\n",
      "False\n"
     ]
    },
    {
     "name": "stderr",
     "output_type": "stream",
     "text": [
      "<ipython-input-11-7dace5c40c8a>:22: SettingWithCopyWarning: \n",
      "A value is trying to be set on a copy of a slice from a DataFrame.\n",
      "Try using .loc[row_indexer,col_indexer] = value instead\n",
      "\n",
      "See the caveats in the documentation: https://pandas.pydata.org/pandas-docs/stable/user_guide/indexing.html#returning-a-view-versus-a-copy\n",
      "  sub_df['resp']=np.where(sub_df[\"response\"] == resp[0],1,0)\n"
     ]
    },
    {
     "name": "stdout",
     "output_type": "stream",
     "text": [
      "Params [ 0.1103213   0.11914198  0.83149845  0.69371279 -0.03582338  0.4245852 ] gave 304.5054669639528\n",
      "Fitted FitResult(fitting_method='differential_evolution', method='auto', loss='BIC', value=304.5054669639528, nparams=6, samplesize=293, mess='')\n",
      "79\n"
     ]
    },
    {
     "name": "stderr",
     "output_type": "stream",
     "text": [
      "/Users/terlau/miniconda3/envs/mpi/lib/python3.8/site-packages/ddm/plot.py:184: MatplotlibDeprecationWarning: Adding an axes using the same arguments as a previous axes currently reuses the earlier instance.  In a future version, a new instance will always be created and returned.  Meanwhile, this warning can be suppressed, and the future behavior ensured, by passing a unique label to each axes instance.\n",
      "  ax1 = fig.add_axes([.12, .56, .85, .43])\n",
      "/Users/terlau/miniconda3/envs/mpi/lib/python3.8/site-packages/ddm/plot.py:185: MatplotlibDeprecationWarning: Adding an axes using the same arguments as a previous axes currently reuses the earlier instance.  In a future version, a new instance will always be created and returned.  Meanwhile, this warning can be suppressed, and the future behavior ensured, by passing a unique label to each axes instance.\n",
      "  ax2 = fig.add_axes([.12, .13, .85, .43])\n"
     ]
    },
    {
     "name": "stdout",
     "output_type": "stream",
     "text": [
      "2.0\n",
      "mean decision time 1.3758480392156862\n",
      "condition names ['subj_idx', 'category', 'stim', 'response', 'age', 'z_rt', 'resp']\n",
      "probability of correct and error trials 0.7338129496402878 0.26618705035971224\n",
      "probability of undecided trials 0.0\n",
      "False\n",
      "False\n"
     ]
    },
    {
     "name": "stderr",
     "output_type": "stream",
     "text": [
      "<ipython-input-11-7dace5c40c8a>:22: SettingWithCopyWarning: \n",
      "A value is trying to be set on a copy of a slice from a DataFrame.\n",
      "Try using .loc[row_indexer,col_indexer] = value instead\n",
      "\n",
      "See the caveats in the documentation: https://pandas.pydata.org/pandas-docs/stable/user_guide/indexing.html#returning-a-view-versus-a-copy\n",
      "  sub_df['resp']=np.where(sub_df[\"response\"] == resp[0],1,0)\n"
     ]
    },
    {
     "name": "stdout",
     "output_type": "stream",
     "text": [
      "Params [ 0.117374   -0.09378143  3.08999969  0.90793065  0.03684427  0.06614894] gave 674.0368105407825\n",
      "Fitted FitResult(fitting_method='differential_evolution', method='auto', loss='BIC', value=674.0368105407825, nparams=6, samplesize=278, mess='')\n",
      "80\n"
     ]
    },
    {
     "name": "stderr",
     "output_type": "stream",
     "text": [
      "/Users/terlau/miniconda3/envs/mpi/lib/python3.8/site-packages/ddm/plot.py:184: MatplotlibDeprecationWarning: Adding an axes using the same arguments as a previous axes currently reuses the earlier instance.  In a future version, a new instance will always be created and returned.  Meanwhile, this warning can be suppressed, and the future behavior ensured, by passing a unique label to each axes instance.\n",
      "  ax1 = fig.add_axes([.12, .56, .85, .43])\n",
      "/Users/terlau/miniconda3/envs/mpi/lib/python3.8/site-packages/ddm/plot.py:185: MatplotlibDeprecationWarning: Adding an axes using the same arguments as a previous axes currently reuses the earlier instance.  In a future version, a new instance will always be created and returned.  Meanwhile, this warning can be suppressed, and the future behavior ensured, by passing a unique label to each axes instance.\n",
      "  ax2 = fig.add_axes([.12, .13, .85, .43])\n"
     ]
    },
    {
     "name": "stdout",
     "output_type": "stream",
     "text": [
      "2.0\n",
      "mean decision time 1.2102620320855615\n",
      "condition names ['subj_idx', 'category', 'stim', 'response', 'age', 'z_rt', 'resp']\n",
      "probability of correct and error trials 0.6470588235294118 0.35294117647058826\n",
      "probability of undecided trials 0.0\n",
      "False\n",
      "False\n"
     ]
    },
    {
     "name": "stderr",
     "output_type": "stream",
     "text": [
      "<ipython-input-11-7dace5c40c8a>:22: SettingWithCopyWarning: \n",
      "A value is trying to be set on a copy of a slice from a DataFrame.\n",
      "Try using .loc[row_indexer,col_indexer] = value instead\n",
      "\n",
      "See the caveats in the documentation: https://pandas.pydata.org/pandas-docs/stable/user_guide/indexing.html#returning-a-view-versus-a-copy\n",
      "  sub_df['resp']=np.where(sub_df[\"response\"] == resp[0],1,0)\n"
     ]
    },
    {
     "name": "stdout",
     "output_type": "stream",
     "text": [
      "Params [ 0.11263523 -0.10788872  3.57000003  1.22080269  0.05225263  0.13765228] gave 578.0725110690113\n",
      "Fitted FitResult(fitting_method='differential_evolution', method='auto', loss='BIC', value=578.0725110690113, nparams=6, samplesize=289, mess='')\n",
      "81\n"
     ]
    },
    {
     "name": "stderr",
     "output_type": "stream",
     "text": [
      "/Users/terlau/miniconda3/envs/mpi/lib/python3.8/site-packages/ddm/plot.py:184: MatplotlibDeprecationWarning: Adding an axes using the same arguments as a previous axes currently reuses the earlier instance.  In a future version, a new instance will always be created and returned.  Meanwhile, this warning can be suppressed, and the future behavior ensured, by passing a unique label to each axes instance.\n",
      "  ax1 = fig.add_axes([.12, .56, .85, .43])\n",
      "/Users/terlau/miniconda3/envs/mpi/lib/python3.8/site-packages/ddm/plot.py:185: MatplotlibDeprecationWarning: Adding an axes using the same arguments as a previous axes currently reuses the earlier instance.  In a future version, a new instance will always be created and returned.  Meanwhile, this warning can be suppressed, and the future behavior ensured, by passing a unique label to each axes instance.\n",
      "  ax2 = fig.add_axes([.12, .13, .85, .43])\n"
     ]
    },
    {
     "name": "stdout",
     "output_type": "stream",
     "text": [
      "1.0\n",
      "mean decision time 0.8583131313131311\n",
      "condition names ['subj_idx', 'category', 'stim', 'response', 'age', 'z_rt', 'resp']\n",
      "probability of correct and error trials 0.668918918918919 0.3310810810810811\n",
      "probability of undecided trials 0.0\n",
      "False\n",
      "False\n"
     ]
    },
    {
     "name": "stderr",
     "output_type": "stream",
     "text": [
      "<ipython-input-11-7dace5c40c8a>:22: SettingWithCopyWarning: \n",
      "A value is trying to be set on a copy of a slice from a DataFrame.\n",
      "Try using .loc[row_indexer,col_indexer] = value instead\n",
      "\n",
      "See the caveats in the documentation: https://pandas.pydata.org/pandas-docs/stable/user_guide/indexing.html#returning-a-view-versus-a-copy\n",
      "  sub_df['resp']=np.where(sub_df[\"response\"] == resp[0],1,0)\n"
     ]
    },
    {
     "name": "stdout",
     "output_type": "stream",
     "text": [
      "Params [ 0.19807314  0.1403815   0.82042532  1.81175362 -0.00813148  0.57528006] gave 32.07921850511272\n",
      "Fitted FitResult(fitting_method='differential_evolution', method='auto', loss='BIC', value=32.07921850511272, nparams=6, samplesize=296, mess='')\n",
      "82\n"
     ]
    },
    {
     "name": "stderr",
     "output_type": "stream",
     "text": [
      "/Users/terlau/miniconda3/envs/mpi/lib/python3.8/site-packages/ddm/plot.py:184: MatplotlibDeprecationWarning: Adding an axes using the same arguments as a previous axes currently reuses the earlier instance.  In a future version, a new instance will always be created and returned.  Meanwhile, this warning can be suppressed, and the future behavior ensured, by passing a unique label to each axes instance.\n",
      "  ax1 = fig.add_axes([.12, .56, .85, .43])\n",
      "/Users/terlau/miniconda3/envs/mpi/lib/python3.8/site-packages/ddm/plot.py:185: MatplotlibDeprecationWarning: Adding an axes using the same arguments as a previous axes currently reuses the earlier instance.  In a future version, a new instance will always be created and returned.  Meanwhile, this warning can be suppressed, and the future behavior ensured, by passing a unique label to each axes instance.\n",
      "  ax2 = fig.add_axes([.12, .13, .85, .43])\n"
     ]
    },
    {
     "name": "stdout",
     "output_type": "stream",
     "text": [
      "2.0\n",
      "mean decision time 0.7293076923076924\n",
      "condition names ['subj_idx', 'category', 'stim', 'response', 'age', 'z_rt', 'resp']\n",
      "probability of correct and error trials 0.7391304347826086 0.2608695652173913\n",
      "probability of undecided trials 0.0\n",
      "False\n",
      "False\n"
     ]
    },
    {
     "name": "stderr",
     "output_type": "stream",
     "text": [
      "<ipython-input-11-7dace5c40c8a>:22: SettingWithCopyWarning: \n",
      "A value is trying to be set on a copy of a slice from a DataFrame.\n",
      "Try using .loc[row_indexer,col_indexer] = value instead\n",
      "\n",
      "See the caveats in the documentation: https://pandas.pydata.org/pandas-docs/stable/user_guide/indexing.html#returning-a-view-versus-a-copy\n",
      "  sub_df['resp']=np.where(sub_df[\"response\"] == resp[0],1,0)\n"
     ]
    },
    {
     "name": "stdout",
     "output_type": "stream",
     "text": [
      "Params [ 0.33064276 -0.18874045  0.98000037  1.80642358  0.03804139  0.43645628] gave -0.5099837353268271\n",
      "Fitted FitResult(fitting_method='differential_evolution', method='auto', loss='BIC', value=-0.5099837353268271, nparams=6, samplesize=299, mess='')\n",
      "83\n"
     ]
    },
    {
     "name": "stderr",
     "output_type": "stream",
     "text": [
      "/Users/terlau/miniconda3/envs/mpi/lib/python3.8/site-packages/ddm/plot.py:184: MatplotlibDeprecationWarning: Adding an axes using the same arguments as a previous axes currently reuses the earlier instance.  In a future version, a new instance will always be created and returned.  Meanwhile, this warning can be suppressed, and the future behavior ensured, by passing a unique label to each axes instance.\n",
      "  ax1 = fig.add_axes([.12, .56, .85, .43])\n",
      "/Users/terlau/miniconda3/envs/mpi/lib/python3.8/site-packages/ddm/plot.py:185: MatplotlibDeprecationWarning: Adding an axes using the same arguments as a previous axes currently reuses the earlier instance.  In a future version, a new instance will always be created and returned.  Meanwhile, this warning can be suppressed, and the future behavior ensured, by passing a unique label to each axes instance.\n",
      "  ax2 = fig.add_axes([.12, .13, .85, .43])\n"
     ]
    },
    {
     "name": "stdout",
     "output_type": "stream",
     "text": [
      "2.0\n",
      "mean decision time 1.6447794871794874\n",
      "condition names ['subj_idx', 'category', 'stim', 'response', 'age', 'z_rt', 'resp']\n",
      "probability of correct and error trials 0.6989247311827957 0.3010752688172043\n",
      "probability of undecided trials 0.0\n",
      "False\n",
      "False\n"
     ]
    },
    {
     "name": "stderr",
     "output_type": "stream",
     "text": [
      "<ipython-input-11-7dace5c40c8a>:22: SettingWithCopyWarning: \n",
      "A value is trying to be set on a copy of a slice from a DataFrame.\n",
      "Try using .loc[row_indexer,col_indexer] = value instead\n",
      "\n",
      "See the caveats in the documentation: https://pandas.pydata.org/pandas-docs/stable/user_guide/indexing.html#returning-a-view-versus-a-copy\n",
      "  sub_df['resp']=np.where(sub_df[\"response\"] == resp[0],1,0)\n"
     ]
    },
    {
     "name": "stdout",
     "output_type": "stream",
     "text": [
      "Params [ 0.07546043  0.04750513  5.56815128  1.32933081 -0.01359679  0.23177174] gave 567.6351224449522\n",
      "Fitted FitResult(fitting_method='differential_evolution', method='auto', loss='BIC', value=567.6351224449522, nparams=6, samplesize=279, mess='')\n",
      "84\n"
     ]
    },
    {
     "name": "stderr",
     "output_type": "stream",
     "text": [
      "/Users/terlau/miniconda3/envs/mpi/lib/python3.8/site-packages/ddm/plot.py:184: MatplotlibDeprecationWarning: Adding an axes using the same arguments as a previous axes currently reuses the earlier instance.  In a future version, a new instance will always be created and returned.  Meanwhile, this warning can be suppressed, and the future behavior ensured, by passing a unique label to each axes instance.\n",
      "  ax1 = fig.add_axes([.12, .56, .85, .43])\n",
      "/Users/terlau/miniconda3/envs/mpi/lib/python3.8/site-packages/ddm/plot.py:185: MatplotlibDeprecationWarning: Adding an axes using the same arguments as a previous axes currently reuses the earlier instance.  In a future version, a new instance will always be created and returned.  Meanwhile, this warning can be suppressed, and the future behavior ensured, by passing a unique label to each axes instance.\n",
      "  ax2 = fig.add_axes([.12, .13, .85, .43])\n"
     ]
    },
    {
     "name": "stdout",
     "output_type": "stream",
     "text": [
      "1.0\n",
      "mean decision time 0.9088142857142857\n",
      "condition names ['subj_idx', 'category', 'stim', 'response', 'age', 'z_rt', 'resp']\n",
      "probability of correct and error trials 0.7023411371237458 0.2976588628762542\n",
      "probability of undecided trials 0.0\n",
      "False\n",
      "False\n"
     ]
    },
    {
     "name": "stderr",
     "output_type": "stream",
     "text": [
      "<ipython-input-11-7dace5c40c8a>:22: SettingWithCopyWarning: \n",
      "A value is trying to be set on a copy of a slice from a DataFrame.\n",
      "Try using .loc[row_indexer,col_indexer] = value instead\n",
      "\n",
      "See the caveats in the documentation: https://pandas.pydata.org/pandas-docs/stable/user_guide/indexing.html#returning-a-view-versus-a-copy\n",
      "  sub_df['resp']=np.where(sub_df[\"response\"] == resp[0],1,0)\n"
     ]
    },
    {
     "name": "stdout",
     "output_type": "stream",
     "text": [
      "Params [0.21394393 0.07596551 1.26131406 2.25173137 0.02817149 0.55624915] gave 62.29270815290409\n",
      "Fitted FitResult(fitting_method='differential_evolution', method='auto', loss='BIC', value=62.29270815290409, nparams=6, samplesize=299, mess='')\n",
      "85\n"
     ]
    },
    {
     "name": "stderr",
     "output_type": "stream",
     "text": [
      "/Users/terlau/miniconda3/envs/mpi/lib/python3.8/site-packages/ddm/plot.py:184: MatplotlibDeprecationWarning: Adding an axes using the same arguments as a previous axes currently reuses the earlier instance.  In a future version, a new instance will always be created and returned.  Meanwhile, this warning can be suppressed, and the future behavior ensured, by passing a unique label to each axes instance.\n",
      "  ax1 = fig.add_axes([.12, .56, .85, .43])\n",
      "/Users/terlau/miniconda3/envs/mpi/lib/python3.8/site-packages/ddm/plot.py:185: MatplotlibDeprecationWarning: Adding an axes using the same arguments as a previous axes currently reuses the earlier instance.  In a future version, a new instance will always be created and returned.  Meanwhile, this warning can be suppressed, and the future behavior ensured, by passing a unique label to each axes instance.\n",
      "  ax2 = fig.add_axes([.12, .13, .85, .43])\n"
     ]
    },
    {
     "name": "stdout",
     "output_type": "stream",
     "text": [
      "2.0\n",
      "mean decision time 0.8104184782608697\n",
      "condition names ['subj_idx', 'category', 'stim', 'response', 'age', 'z_rt', 'resp']\n",
      "probability of correct and error trials 0.6195286195286195 0.38047138047138046\n",
      "probability of undecided trials 0.0\n",
      "False\n",
      "False\n"
     ]
    },
    {
     "name": "stderr",
     "output_type": "stream",
     "text": [
      "<ipython-input-11-7dace5c40c8a>:22: SettingWithCopyWarning: \n",
      "A value is trying to be set on a copy of a slice from a DataFrame.\n",
      "Try using .loc[row_indexer,col_indexer] = value instead\n",
      "\n",
      "See the caveats in the documentation: https://pandas.pydata.org/pandas-docs/stable/user_guide/indexing.html#returning-a-view-versus-a-copy\n",
      "  sub_df['resp']=np.where(sub_df[\"response\"] == resp[0],1,0)\n"
     ]
    },
    {
     "name": "stdout",
     "output_type": "stream",
     "text": [
      "Params [ 0.12130735  0.03039112  0.69876789  0.707326   -0.04036761  0.49435839] gave 198.21390059197597\n",
      "Fitted FitResult(fitting_method='differential_evolution', method='auto', loss='BIC', value=198.21390059197597, nparams=6, samplesize=297, mess='')\n",
      "86\n"
     ]
    },
    {
     "name": "stderr",
     "output_type": "stream",
     "text": [
      "/Users/terlau/miniconda3/envs/mpi/lib/python3.8/site-packages/ddm/plot.py:184: MatplotlibDeprecationWarning: Adding an axes using the same arguments as a previous axes currently reuses the earlier instance.  In a future version, a new instance will always be created and returned.  Meanwhile, this warning can be suppressed, and the future behavior ensured, by passing a unique label to each axes instance.\n",
      "  ax1 = fig.add_axes([.12, .56, .85, .43])\n",
      "/Users/terlau/miniconda3/envs/mpi/lib/python3.8/site-packages/ddm/plot.py:185: MatplotlibDeprecationWarning: Adding an axes using the same arguments as a previous axes currently reuses the earlier instance.  In a future version, a new instance will always be created and returned.  Meanwhile, this warning can be suppressed, and the future behavior ensured, by passing a unique label to each axes instance.\n",
      "  ax2 = fig.add_axes([.12, .13, .85, .43])\n"
     ]
    },
    {
     "name": "stdout",
     "output_type": "stream",
     "text": [
      "1.0\n",
      "mean decision time 0.8601179487179488\n",
      "condition names ['subj_idx', 'category', 'stim', 'response', 'age', 'z_rt', 'resp']\n",
      "probability of correct and error trials 0.6543624161073825 0.34563758389261745\n",
      "probability of undecided trials 0.0\n",
      "False\n",
      "False\n"
     ]
    },
    {
     "name": "stderr",
     "output_type": "stream",
     "text": [
      "<ipython-input-11-7dace5c40c8a>:22: SettingWithCopyWarning: \n",
      "A value is trying to be set on a copy of a slice from a DataFrame.\n",
      "Try using .loc[row_indexer,col_indexer] = value instead\n",
      "\n",
      "See the caveats in the documentation: https://pandas.pydata.org/pandas-docs/stable/user_guide/indexing.html#returning-a-view-versus-a-copy\n",
      "  sub_df['resp']=np.where(sub_df[\"response\"] == resp[0],1,0)\n"
     ]
    },
    {
     "name": "stdout",
     "output_type": "stream",
     "text": [
      "Params [ 0.14482043 -0.13984577  1.12646107  1.70092446  0.0438521   0.47689722] gave 159.98522998593398\n",
      "Fitted FitResult(fitting_method='differential_evolution', method='auto', loss='BIC', value=159.98522998593398, nparams=6, samplesize=298, mess='')\n",
      "87\n"
     ]
    },
    {
     "name": "stderr",
     "output_type": "stream",
     "text": [
      "/Users/terlau/miniconda3/envs/mpi/lib/python3.8/site-packages/ddm/plot.py:184: MatplotlibDeprecationWarning: Adding an axes using the same arguments as a previous axes currently reuses the earlier instance.  In a future version, a new instance will always be created and returned.  Meanwhile, this warning can be suppressed, and the future behavior ensured, by passing a unique label to each axes instance.\n",
      "  ax1 = fig.add_axes([.12, .56, .85, .43])\n",
      "/Users/terlau/miniconda3/envs/mpi/lib/python3.8/site-packages/ddm/plot.py:185: MatplotlibDeprecationWarning: Adding an axes using the same arguments as a previous axes currently reuses the earlier instance.  In a future version, a new instance will always be created and returned.  Meanwhile, this warning can be suppressed, and the future behavior ensured, by passing a unique label to each axes instance.\n",
      "  ax2 = fig.add_axes([.12, .13, .85, .43])\n"
     ]
    },
    {
     "name": "stdout",
     "output_type": "stream",
     "text": [
      "1.0\n",
      "mean decision time 0.8465714285714286\n",
      "condition names ['subj_idx', 'category', 'stim', 'response', 'age', 'z_rt', 'resp']\n",
      "probability of correct and error trials 0.7380952380952381 0.2619047619047619\n",
      "probability of undecided trials 0.0\n",
      "False\n",
      "False\n"
     ]
    },
    {
     "name": "stderr",
     "output_type": "stream",
     "text": [
      "<ipython-input-11-7dace5c40c8a>:22: SettingWithCopyWarning: \n",
      "A value is trying to be set on a copy of a slice from a DataFrame.\n",
      "Try using .loc[row_indexer,col_indexer] = value instead\n",
      "\n",
      "See the caveats in the documentation: https://pandas.pydata.org/pandas-docs/stable/user_guide/indexing.html#returning-a-view-versus-a-copy\n",
      "  sub_df['resp']=np.where(sub_df[\"response\"] == resp[0],1,0)\n"
     ]
    },
    {
     "name": "stdout",
     "output_type": "stream",
     "text": [
      "Params [0.23255626 0.04909286 0.71469654 0.36775649 0.05722621 0.52744003] gave 277.0739089242033\n",
      "Fitted FitResult(fitting_method='differential_evolution', method='auto', loss='BIC', value=277.0739089242033, nparams=6, samplesize=294, mess='')\n",
      "88\n"
     ]
    },
    {
     "name": "stderr",
     "output_type": "stream",
     "text": [
      "/Users/terlau/miniconda3/envs/mpi/lib/python3.8/site-packages/ddm/plot.py:184: MatplotlibDeprecationWarning: Adding an axes using the same arguments as a previous axes currently reuses the earlier instance.  In a future version, a new instance will always be created and returned.  Meanwhile, this warning can be suppressed, and the future behavior ensured, by passing a unique label to each axes instance.\n",
      "  ax1 = fig.add_axes([.12, .56, .85, .43])\n",
      "/Users/terlau/miniconda3/envs/mpi/lib/python3.8/site-packages/ddm/plot.py:185: MatplotlibDeprecationWarning: Adding an axes using the same arguments as a previous axes currently reuses the earlier instance.  In a future version, a new instance will always be created and returned.  Meanwhile, this warning can be suppressed, and the future behavior ensured, by passing a unique label to each axes instance.\n",
      "  ax2 = fig.add_axes([.12, .13, .85, .43])\n"
     ]
    },
    {
     "name": "stdout",
     "output_type": "stream",
     "text": [
      "1.0\n",
      "mean decision time 0.8864385964912281\n",
      "condition names ['subj_idx', 'category', 'stim', 'response', 'age', 'z_rt', 'resp']\n",
      "probability of correct and error trials 0.5719063545150501 0.4280936454849498\n",
      "probability of undecided trials 0.0\n",
      "False\n",
      "False\n"
     ]
    },
    {
     "name": "stderr",
     "output_type": "stream",
     "text": [
      "<ipython-input-11-7dace5c40c8a>:22: SettingWithCopyWarning: \n",
      "A value is trying to be set on a copy of a slice from a DataFrame.\n",
      "Try using .loc[row_indexer,col_indexer] = value instead\n",
      "\n",
      "See the caveats in the documentation: https://pandas.pydata.org/pandas-docs/stable/user_guide/indexing.html#returning-a-view-versus-a-copy\n",
      "  sub_df['resp']=np.where(sub_df[\"response\"] == resp[0],1,0)\n"
     ]
    },
    {
     "name": "stdout",
     "output_type": "stream",
     "text": [
      "Params [ 0.07112734 -0.14398022  0.90000126  2.09132433  0.04902297  0.59500108] gave 19.759300133106695\n",
      "Fitted FitResult(fitting_method='differential_evolution', method='auto', loss='BIC', value=19.759300133106695, nparams=6, samplesize=299, mess='')\n",
      "89\n"
     ]
    },
    {
     "name": "stderr",
     "output_type": "stream",
     "text": [
      "/Users/terlau/miniconda3/envs/mpi/lib/python3.8/site-packages/ddm/plot.py:184: MatplotlibDeprecationWarning: Adding an axes using the same arguments as a previous axes currently reuses the earlier instance.  In a future version, a new instance will always be created and returned.  Meanwhile, this warning can be suppressed, and the future behavior ensured, by passing a unique label to each axes instance.\n",
      "  ax1 = fig.add_axes([.12, .56, .85, .43])\n",
      "/Users/terlau/miniconda3/envs/mpi/lib/python3.8/site-packages/ddm/plot.py:185: MatplotlibDeprecationWarning: Adding an axes using the same arguments as a previous axes currently reuses the earlier instance.  In a future version, a new instance will always be created and returned.  Meanwhile, this warning can be suppressed, and the future behavior ensured, by passing a unique label to each axes instance.\n",
      "  ax2 = fig.add_axes([.12, .13, .85, .43])\n"
     ]
    },
    {
     "name": "stdout",
     "output_type": "stream",
     "text": [
      "2.0\n",
      "mean decision time 0.8612926829268293\n",
      "condition names ['subj_idx', 'category', 'stim', 'response', 'age', 'z_rt', 'resp']\n",
      "probability of correct and error trials 0.6879194630872483 0.31208053691275167\n",
      "probability of undecided trials 0.0\n",
      "False\n",
      "False\n"
     ]
    },
    {
     "name": "stderr",
     "output_type": "stream",
     "text": [
      "<ipython-input-11-7dace5c40c8a>:22: SettingWithCopyWarning: \n",
      "A value is trying to be set on a copy of a slice from a DataFrame.\n",
      "Try using .loc[row_indexer,col_indexer] = value instead\n",
      "\n",
      "See the caveats in the documentation: https://pandas.pydata.org/pandas-docs/stable/user_guide/indexing.html#returning-a-view-versus-a-copy\n",
      "  sub_df['resp']=np.where(sub_df[\"response\"] == resp[0],1,0)\n"
     ]
    },
    {
     "name": "stdout",
     "output_type": "stream",
     "text": [
      "Params [ 0.15813213 -0.0264315   1.37509385  1.15789524  0.01005621  0.32761731] gave 299.17666404122053\n",
      "Fitted FitResult(fitting_method='differential_evolution', method='auto', loss='BIC', value=299.17666404122053, nparams=6, samplesize=298, mess='')\n",
      "90\n"
     ]
    },
    {
     "name": "stderr",
     "output_type": "stream",
     "text": [
      "/Users/terlau/miniconda3/envs/mpi/lib/python3.8/site-packages/ddm/plot.py:184: MatplotlibDeprecationWarning: Adding an axes using the same arguments as a previous axes currently reuses the earlier instance.  In a future version, a new instance will always be created and returned.  Meanwhile, this warning can be suppressed, and the future behavior ensured, by passing a unique label to each axes instance.\n",
      "  ax1 = fig.add_axes([.12, .56, .85, .43])\n",
      "/Users/terlau/miniconda3/envs/mpi/lib/python3.8/site-packages/ddm/plot.py:185: MatplotlibDeprecationWarning: Adding an axes using the same arguments as a previous axes currently reuses the earlier instance.  In a future version, a new instance will always be created and returned.  Meanwhile, this warning can be suppressed, and the future behavior ensured, by passing a unique label to each axes instance.\n",
      "  ax2 = fig.add_axes([.12, .13, .85, .43])\n"
     ]
    },
    {
     "name": "stdout",
     "output_type": "stream",
     "text": [
      "1.0\n",
      "mean decision time 0.8624159292035398\n",
      "condition names ['subj_idx', 'category', 'stim', 'response', 'age', 'z_rt', 'resp']\n",
      "probability of correct and error trials 0.7558528428093646 0.24414715719063546\n",
      "probability of undecided trials 0.0\n",
      "False\n",
      "False\n"
     ]
    },
    {
     "name": "stderr",
     "output_type": "stream",
     "text": [
      "<ipython-input-11-7dace5c40c8a>:22: SettingWithCopyWarning: \n",
      "A value is trying to be set on a copy of a slice from a DataFrame.\n",
      "Try using .loc[row_indexer,col_indexer] = value instead\n",
      "\n",
      "See the caveats in the documentation: https://pandas.pydata.org/pandas-docs/stable/user_guide/indexing.html#returning-a-view-versus-a-copy\n",
      "  sub_df['resp']=np.where(sub_df[\"response\"] == resp[0],1,0)\n"
     ]
    },
    {
     "name": "stdout",
     "output_type": "stream",
     "text": [
      "Params [ 0.27286587 -0.31009206  0.87000005  1.21473573  0.09686736  0.53853623] gave 124.82997407681205\n",
      "Fitted FitResult(fitting_method='differential_evolution', method='auto', loss='BIC', value=124.82997407681205, nparams=6, samplesize=299, mess='')\n",
      "91\n"
     ]
    },
    {
     "name": "stderr",
     "output_type": "stream",
     "text": [
      "/Users/terlau/miniconda3/envs/mpi/lib/python3.8/site-packages/ddm/plot.py:184: MatplotlibDeprecationWarning: Adding an axes using the same arguments as a previous axes currently reuses the earlier instance.  In a future version, a new instance will always be created and returned.  Meanwhile, this warning can be suppressed, and the future behavior ensured, by passing a unique label to each axes instance.\n",
      "  ax1 = fig.add_axes([.12, .56, .85, .43])\n",
      "/Users/terlau/miniconda3/envs/mpi/lib/python3.8/site-packages/ddm/plot.py:185: MatplotlibDeprecationWarning: Adding an axes using the same arguments as a previous axes currently reuses the earlier instance.  In a future version, a new instance will always be created and returned.  Meanwhile, this warning can be suppressed, and the future behavior ensured, by passing a unique label to each axes instance.\n",
      "  ax2 = fig.add_axes([.12, .13, .85, .43])\n"
     ]
    },
    {
     "name": "stdout",
     "output_type": "stream",
     "text": [
      "1.0\n",
      "mean decision time 0.7130893854748603\n",
      "condition names ['subj_idx', 'category', 'stim', 'response', 'age', 'z_rt', 'resp']\n",
      "probability of correct and error trials 0.5986622073578596 0.4013377926421405\n",
      "probability of undecided trials 0.0\n",
      "False\n",
      "False\n"
     ]
    },
    {
     "name": "stderr",
     "output_type": "stream",
     "text": [
      "<ipython-input-11-7dace5c40c8a>:22: SettingWithCopyWarning: \n",
      "A value is trying to be set on a copy of a slice from a DataFrame.\n",
      "Try using .loc[row_indexer,col_indexer] = value instead\n",
      "\n",
      "See the caveats in the documentation: https://pandas.pydata.org/pandas-docs/stable/user_guide/indexing.html#returning-a-view-versus-a-copy\n",
      "  sub_df['resp']=np.where(sub_df[\"response\"] == resp[0],1,0)\n"
     ]
    },
    {
     "name": "stdout",
     "output_type": "stream",
     "text": [
      "Params [ 0.09874912 -0.03935688  1.57        2.6649775   0.04259247  0.30089867] gave 74.06597302132431\n",
      "Fitted FitResult(fitting_method='differential_evolution', method='auto', loss='BIC', value=74.06597302132431, nparams=6, samplesize=299, mess='')\n",
      "92\n"
     ]
    },
    {
     "name": "stderr",
     "output_type": "stream",
     "text": [
      "/Users/terlau/miniconda3/envs/mpi/lib/python3.8/site-packages/ddm/plot.py:184: MatplotlibDeprecationWarning: Adding an axes using the same arguments as a previous axes currently reuses the earlier instance.  In a future version, a new instance will always be created and returned.  Meanwhile, this warning can be suppressed, and the future behavior ensured, by passing a unique label to each axes instance.\n",
      "  ax1 = fig.add_axes([.12, .56, .85, .43])\n",
      "/Users/terlau/miniconda3/envs/mpi/lib/python3.8/site-packages/ddm/plot.py:185: MatplotlibDeprecationWarning: Adding an axes using the same arguments as a previous axes currently reuses the earlier instance.  In a future version, a new instance will always be created and returned.  Meanwhile, this warning can be suppressed, and the future behavior ensured, by passing a unique label to each axes instance.\n",
      "  ax2 = fig.add_axes([.12, .13, .85, .43])\n"
     ]
    },
    {
     "name": "stdout",
     "output_type": "stream",
     "text": [
      "2.0\n",
      "mean decision time 1.624565789473684\n",
      "condition names ['subj_idx', 'category', 'stim', 'response', 'age', 'z_rt', 'resp']\n",
      "probability of correct and error trials 0.8636363636363636 0.13636363636363635\n",
      "probability of undecided trials 0.0\n",
      "False\n",
      "False\n"
     ]
    },
    {
     "name": "stderr",
     "output_type": "stream",
     "text": [
      "<ipython-input-11-7dace5c40c8a>:22: SettingWithCopyWarning: \n",
      "A value is trying to be set on a copy of a slice from a DataFrame.\n",
      "Try using .loc[row_indexer,col_indexer] = value instead\n",
      "\n",
      "See the caveats in the documentation: https://pandas.pydata.org/pandas-docs/stable/user_guide/indexing.html#returning-a-view-versus-a-copy\n",
      "  sub_df['resp']=np.where(sub_df[\"response\"] == resp[0],1,0)\n"
     ]
    },
    {
     "name": "stdout",
     "output_type": "stream",
     "text": [
      "Params [ 0.23711616 -0.16153043  4.78980987  1.9075204   0.04745566  0.73983043] gave 227.658837767614\n",
      "Fitted FitResult(fitting_method='differential_evolution', method='auto', loss='BIC', value=227.658837767614, nparams=6, samplesize=264, mess='')\n",
      "93\n"
     ]
    },
    {
     "name": "stderr",
     "output_type": "stream",
     "text": [
      "/Users/terlau/miniconda3/envs/mpi/lib/python3.8/site-packages/ddm/plot.py:184: MatplotlibDeprecationWarning: Adding an axes using the same arguments as a previous axes currently reuses the earlier instance.  In a future version, a new instance will always be created and returned.  Meanwhile, this warning can be suppressed, and the future behavior ensured, by passing a unique label to each axes instance.\n",
      "  ax1 = fig.add_axes([.12, .56, .85, .43])\n",
      "/Users/terlau/miniconda3/envs/mpi/lib/python3.8/site-packages/ddm/plot.py:185: MatplotlibDeprecationWarning: Adding an axes using the same arguments as a previous axes currently reuses the earlier instance.  In a future version, a new instance will always be created and returned.  Meanwhile, this warning can be suppressed, and the future behavior ensured, by passing a unique label to each axes instance.\n",
      "  ax2 = fig.add_axes([.12, .13, .85, .43])\n"
     ]
    },
    {
     "name": "stdout",
     "output_type": "stream",
     "text": [
      "1.0\n",
      "mean decision time 0.9701330275229358\n",
      "condition names ['subj_idx', 'category', 'stim', 'response', 'age', 'z_rt', 'resp']\n",
      "probability of correct and error trials 0.7315436241610739 0.2684563758389262\n",
      "probability of undecided trials 0.0\n",
      "False\n",
      "False\n"
     ]
    },
    {
     "name": "stderr",
     "output_type": "stream",
     "text": [
      "<ipython-input-11-7dace5c40c8a>:22: SettingWithCopyWarning: \n",
      "A value is trying to be set on a copy of a slice from a DataFrame.\n",
      "Try using .loc[row_indexer,col_indexer] = value instead\n",
      "\n",
      "See the caveats in the documentation: https://pandas.pydata.org/pandas-docs/stable/user_guide/indexing.html#returning-a-view-versus-a-copy\n",
      "  sub_df['resp']=np.where(sub_df[\"response\"] == resp[0],1,0)\n"
     ]
    },
    {
     "name": "stdout",
     "output_type": "stream",
     "text": [
      "Params [ 0.21299244  0.31062269  0.90839886  0.86464348 -0.12887489  0.56350808] gave 269.28339411785885\n",
      "Fitted FitResult(fitting_method='differential_evolution', method='auto', loss='BIC', value=269.28339411785885, nparams=6, samplesize=298, mess='')\n",
      "94\n"
     ]
    },
    {
     "name": "stderr",
     "output_type": "stream",
     "text": [
      "/Users/terlau/miniconda3/envs/mpi/lib/python3.8/site-packages/ddm/plot.py:184: MatplotlibDeprecationWarning: Adding an axes using the same arguments as a previous axes currently reuses the earlier instance.  In a future version, a new instance will always be created and returned.  Meanwhile, this warning can be suppressed, and the future behavior ensured, by passing a unique label to each axes instance.\n",
      "  ax1 = fig.add_axes([.12, .56, .85, .43])\n",
      "/Users/terlau/miniconda3/envs/mpi/lib/python3.8/site-packages/ddm/plot.py:185: MatplotlibDeprecationWarning: Adding an axes using the same arguments as a previous axes currently reuses the earlier instance.  In a future version, a new instance will always be created and returned.  Meanwhile, this warning can be suppressed, and the future behavior ensured, by passing a unique label to each axes instance.\n",
      "  ax2 = fig.add_axes([.12, .13, .85, .43])\n"
     ]
    },
    {
     "name": "stdout",
     "output_type": "stream",
     "text": [
      "2.0\n",
      "mean decision time 1.4308341013824883\n",
      "condition names ['subj_idx', 'category', 'stim', 'response', 'age', 'z_rt', 'resp']\n",
      "probability of correct and error trials 0.7722419928825622 0.2277580071174377\n",
      "probability of undecided trials 0.0\n",
      "False\n",
      "False\n"
     ]
    },
    {
     "name": "stderr",
     "output_type": "stream",
     "text": [
      "<ipython-input-11-7dace5c40c8a>:22: SettingWithCopyWarning: \n",
      "A value is trying to be set on a copy of a slice from a DataFrame.\n",
      "Try using .loc[row_indexer,col_indexer] = value instead\n",
      "\n",
      "See the caveats in the documentation: https://pandas.pydata.org/pandas-docs/stable/user_guide/indexing.html#returning-a-view-versus-a-copy\n",
      "  sub_df['resp']=np.where(sub_df[\"response\"] == resp[0],1,0)\n"
     ]
    },
    {
     "name": "stdout",
     "output_type": "stream",
     "text": [
      "Params [ 0.11542813  0.10404765  6.          1.45542705 -0.02721858  0.17864743] gave 476.02755346562867\n",
      "Fitted FitResult(fitting_method='differential_evolution', method='auto', loss='BIC', value=476.02755346562867, nparams=6, samplesize=281, mess='')\n",
      "95\n"
     ]
    },
    {
     "name": "stderr",
     "output_type": "stream",
     "text": [
      "/Users/terlau/miniconda3/envs/mpi/lib/python3.8/site-packages/ddm/plot.py:184: MatplotlibDeprecationWarning: Adding an axes using the same arguments as a previous axes currently reuses the earlier instance.  In a future version, a new instance will always be created and returned.  Meanwhile, this warning can be suppressed, and the future behavior ensured, by passing a unique label to each axes instance.\n",
      "  ax1 = fig.add_axes([.12, .56, .85, .43])\n",
      "/Users/terlau/miniconda3/envs/mpi/lib/python3.8/site-packages/ddm/plot.py:185: MatplotlibDeprecationWarning: Adding an axes using the same arguments as a previous axes currently reuses the earlier instance.  In a future version, a new instance will always be created and returned.  Meanwhile, this warning can be suppressed, and the future behavior ensured, by passing a unique label to each axes instance.\n",
      "  ax2 = fig.add_axes([.12, .13, .85, .43])\n"
     ]
    },
    {
     "name": "stdout",
     "output_type": "stream",
     "text": [
      "1.0\n",
      "mean decision time 0.9961416309012876\n",
      "condition names ['subj_idx', 'category', 'stim', 'response', 'age', 'z_rt', 'resp']\n",
      "probability of correct and error trials 0.7818791946308725 0.2181208053691275\n",
      "probability of undecided trials 0.0\n",
      "False\n",
      "False\n"
     ]
    },
    {
     "name": "stderr",
     "output_type": "stream",
     "text": [
      "<ipython-input-11-7dace5c40c8a>:22: SettingWithCopyWarning: \n",
      "A value is trying to be set on a copy of a slice from a DataFrame.\n",
      "Try using .loc[row_indexer,col_indexer] = value instead\n",
      "\n",
      "See the caveats in the documentation: https://pandas.pydata.org/pandas-docs/stable/user_guide/indexing.html#returning-a-view-versus-a-copy\n",
      "  sub_df['resp']=np.where(sub_df[\"response\"] == resp[0],1,0)\n"
     ]
    },
    {
     "name": "stdout",
     "output_type": "stream",
     "text": [
      "Params [0.29528657 0.16993987 1.15000002 1.47866019 0.0085229  0.59670496] gave 149.0250494298794\n",
      "Fitted FitResult(fitting_method='differential_evolution', method='auto', loss='BIC', value=149.0250494298794, nparams=6, samplesize=298, mess='')\n",
      "96\n"
     ]
    },
    {
     "name": "stderr",
     "output_type": "stream",
     "text": [
      "/Users/terlau/miniconda3/envs/mpi/lib/python3.8/site-packages/ddm/plot.py:184: MatplotlibDeprecationWarning: Adding an axes using the same arguments as a previous axes currently reuses the earlier instance.  In a future version, a new instance will always be created and returned.  Meanwhile, this warning can be suppressed, and the future behavior ensured, by passing a unique label to each axes instance.\n",
      "  ax1 = fig.add_axes([.12, .56, .85, .43])\n",
      "/Users/terlau/miniconda3/envs/mpi/lib/python3.8/site-packages/ddm/plot.py:185: MatplotlibDeprecationWarning: Adding an axes using the same arguments as a previous axes currently reuses the earlier instance.  In a future version, a new instance will always be created and returned.  Meanwhile, this warning can be suppressed, and the future behavior ensured, by passing a unique label to each axes instance.\n",
      "  ax2 = fig.add_axes([.12, .13, .85, .43])\n"
     ]
    },
    {
     "name": "stdout",
     "output_type": "stream",
     "text": [
      "1.0\n",
      "mean decision time 0.9069798994974876\n",
      "condition names ['subj_idx', 'category', 'stim', 'response', 'age', 'z_rt', 'resp']\n",
      "probability of correct and error trials 0.6677852348993288 0.33221476510067116\n",
      "probability of undecided trials 0.0\n",
      "False\n",
      "False\n"
     ]
    },
    {
     "name": "stderr",
     "output_type": "stream",
     "text": [
      "<ipython-input-11-7dace5c40c8a>:22: SettingWithCopyWarning: \n",
      "A value is trying to be set on a copy of a slice from a DataFrame.\n",
      "Try using .loc[row_indexer,col_indexer] = value instead\n",
      "\n",
      "See the caveats in the documentation: https://pandas.pydata.org/pandas-docs/stable/user_guide/indexing.html#returning-a-view-versus-a-copy\n",
      "  sub_df['resp']=np.where(sub_df[\"response\"] == resp[0],1,0)\n"
     ]
    },
    {
     "name": "stdout",
     "output_type": "stream",
     "text": [
      "Params [ 0.12261801  0.17794553  0.84828916  0.66472843 -0.0358809   0.47970398] gave 361.35596577383774\n",
      "Fitted FitResult(fitting_method='differential_evolution', method='auto', loss='BIC', value=361.35596577383774, nparams=6, samplesize=298, mess='')\n",
      "97\n"
     ]
    },
    {
     "name": "stderr",
     "output_type": "stream",
     "text": [
      "/Users/terlau/miniconda3/envs/mpi/lib/python3.8/site-packages/ddm/plot.py:184: MatplotlibDeprecationWarning: Adding an axes using the same arguments as a previous axes currently reuses the earlier instance.  In a future version, a new instance will always be created and returned.  Meanwhile, this warning can be suppressed, and the future behavior ensured, by passing a unique label to each axes instance.\n",
      "  ax1 = fig.add_axes([.12, .56, .85, .43])\n",
      "/Users/terlau/miniconda3/envs/mpi/lib/python3.8/site-packages/ddm/plot.py:185: MatplotlibDeprecationWarning: Adding an axes using the same arguments as a previous axes currently reuses the earlier instance.  In a future version, a new instance will always be created and returned.  Meanwhile, this warning can be suppressed, and the future behavior ensured, by passing a unique label to each axes instance.\n",
      "  ax2 = fig.add_axes([.12, .13, .85, .43])\n"
     ]
    },
    {
     "name": "stdout",
     "output_type": "stream",
     "text": [
      "2.0\n",
      "mean decision time 0.7558691099476439\n",
      "condition names ['subj_idx', 'category', 'stim', 'response', 'age', 'z_rt', 'resp']\n",
      "probability of correct and error trials 0.6409395973154363 0.35906040268456374\n",
      "probability of undecided trials 0.0\n",
      "False\n",
      "False\n"
     ]
    },
    {
     "name": "stderr",
     "output_type": "stream",
     "text": [
      "<ipython-input-11-7dace5c40c8a>:22: SettingWithCopyWarning: \n",
      "A value is trying to be set on a copy of a slice from a DataFrame.\n",
      "Try using .loc[row_indexer,col_indexer] = value instead\n",
      "\n",
      "See the caveats in the documentation: https://pandas.pydata.org/pandas-docs/stable/user_guide/indexing.html#returning-a-view-versus-a-copy\n",
      "  sub_df['resp']=np.where(sub_df[\"response\"] == resp[0],1,0)\n"
     ]
    },
    {
     "name": "stdout",
     "output_type": "stream",
     "text": [
      "Params [ 0.1819144   0.61962802  1.02000008  2.16066926 -0.12161753  0.44318634] gave 47.88406154279243\n",
      "Fitted FitResult(fitting_method='differential_evolution', method='auto', loss='BIC', value=47.88406154279243, nparams=6, samplesize=298, mess='')\n",
      "98\n"
     ]
    },
    {
     "name": "stderr",
     "output_type": "stream",
     "text": [
      "/Users/terlau/miniconda3/envs/mpi/lib/python3.8/site-packages/ddm/plot.py:184: MatplotlibDeprecationWarning: Adding an axes using the same arguments as a previous axes currently reuses the earlier instance.  In a future version, a new instance will always be created and returned.  Meanwhile, this warning can be suppressed, and the future behavior ensured, by passing a unique label to each axes instance.\n",
      "  ax1 = fig.add_axes([.12, .56, .85, .43])\n",
      "/Users/terlau/miniconda3/envs/mpi/lib/python3.8/site-packages/ddm/plot.py:185: MatplotlibDeprecationWarning: Adding an axes using the same arguments as a previous axes currently reuses the earlier instance.  In a future version, a new instance will always be created and returned.  Meanwhile, this warning can be suppressed, and the future behavior ensured, by passing a unique label to each axes instance.\n",
      "  ax2 = fig.add_axes([.12, .13, .85, .43])\n"
     ]
    },
    {
     "name": "stdout",
     "output_type": "stream",
     "text": [
      "1.0\n",
      "mean decision time 0.7929329608938549\n",
      "condition names ['subj_idx', 'category', 'stim', 'response', 'age', 'z_rt', 'resp']\n",
      "probability of correct and error trials 0.5986622073578596 0.4013377926421405\n",
      "probability of undecided trials 0.0\n",
      "False\n",
      "False\n"
     ]
    },
    {
     "name": "stderr",
     "output_type": "stream",
     "text": [
      "<ipython-input-11-7dace5c40c8a>:22: SettingWithCopyWarning: \n",
      "A value is trying to be set on a copy of a slice from a DataFrame.\n",
      "Try using .loc[row_indexer,col_indexer] = value instead\n",
      "\n",
      "See the caveats in the documentation: https://pandas.pydata.org/pandas-docs/stable/user_guide/indexing.html#returning-a-view-versus-a-copy\n",
      "  sub_df['resp']=np.where(sub_df[\"response\"] == resp[0],1,0)\n"
     ]
    },
    {
     "name": "stdout",
     "output_type": "stream",
     "text": [
      "Params [ 0.09616424 -0.33951359  0.78020886  0.9983891   0.11484833  0.47060902] gave 177.95882699183355\n",
      "Fitted FitResult(fitting_method='differential_evolution', method='auto', loss='BIC', value=177.95882699183355, nparams=6, samplesize=299, mess='')\n",
      "99\n"
     ]
    },
    {
     "name": "stderr",
     "output_type": "stream",
     "text": [
      "/Users/terlau/miniconda3/envs/mpi/lib/python3.8/site-packages/ddm/plot.py:184: MatplotlibDeprecationWarning: Adding an axes using the same arguments as a previous axes currently reuses the earlier instance.  In a future version, a new instance will always be created and returned.  Meanwhile, this warning can be suppressed, and the future behavior ensured, by passing a unique label to each axes instance.\n",
      "  ax1 = fig.add_axes([.12, .56, .85, .43])\n",
      "/Users/terlau/miniconda3/envs/mpi/lib/python3.8/site-packages/ddm/plot.py:185: MatplotlibDeprecationWarning: Adding an axes using the same arguments as a previous axes currently reuses the earlier instance.  In a future version, a new instance will always be created and returned.  Meanwhile, this warning can be suppressed, and the future behavior ensured, by passing a unique label to each axes instance.\n",
      "  ax2 = fig.add_axes([.12, .13, .85, .43])\n"
     ]
    },
    {
     "name": "stdout",
     "output_type": "stream",
     "text": [
      "1.0\n",
      "mean decision time 0.8698636363636364\n",
      "condition names ['subj_idx', 'category', 'stim', 'response', 'age', 'z_rt', 'resp']\n",
      "probability of correct and error trials 0.5945945945945946 0.40540540540540543\n",
      "probability of undecided trials 0.0\n",
      "False\n",
      "False\n"
     ]
    },
    {
     "name": "stderr",
     "output_type": "stream",
     "text": [
      "<ipython-input-11-7dace5c40c8a>:22: SettingWithCopyWarning: \n",
      "A value is trying to be set on a copy of a slice from a DataFrame.\n",
      "Try using .loc[row_indexer,col_indexer] = value instead\n",
      "\n",
      "See the caveats in the documentation: https://pandas.pydata.org/pandas-docs/stable/user_guide/indexing.html#returning-a-view-versus-a-copy\n",
      "  sub_df['resp']=np.where(sub_df[\"response\"] == resp[0],1,0)\n"
     ]
    },
    {
     "name": "stdout",
     "output_type": "stream",
     "text": [
      "Params [ 0.06656771 -0.23848204  0.79169125  1.47753442  0.08290295  0.56167183] gave 210.32042401366238\n",
      "Fitted FitResult(fitting_method='differential_evolution', method='auto', loss='BIC', value=210.32042401366238, nparams=6, samplesize=296, mess='')\n",
      "100\n"
     ]
    },
    {
     "name": "stderr",
     "output_type": "stream",
     "text": [
      "/Users/terlau/miniconda3/envs/mpi/lib/python3.8/site-packages/ddm/plot.py:184: MatplotlibDeprecationWarning: Adding an axes using the same arguments as a previous axes currently reuses the earlier instance.  In a future version, a new instance will always be created and returned.  Meanwhile, this warning can be suppressed, and the future behavior ensured, by passing a unique label to each axes instance.\n",
      "  ax1 = fig.add_axes([.12, .56, .85, .43])\n",
      "/Users/terlau/miniconda3/envs/mpi/lib/python3.8/site-packages/ddm/plot.py:185: MatplotlibDeprecationWarning: Adding an axes using the same arguments as a previous axes currently reuses the earlier instance.  In a future version, a new instance will always be created and returned.  Meanwhile, this warning can be suppressed, and the future behavior ensured, by passing a unique label to each axes instance.\n",
      "  ax2 = fig.add_axes([.12, .13, .85, .43])\n"
     ]
    },
    {
     "name": "stdout",
     "output_type": "stream",
     "text": [
      "1.0\n",
      "mean decision time 0.8358823529411764\n",
      "condition names ['subj_idx', 'category', 'stim', 'response', 'age', 'z_rt', 'resp']\n",
      "probability of correct and error trials 0.5704697986577181 0.42953020134228187\n",
      "probability of undecided trials 0.0\n",
      "False\n",
      "False\n"
     ]
    },
    {
     "name": "stderr",
     "output_type": "stream",
     "text": [
      "<ipython-input-11-7dace5c40c8a>:22: SettingWithCopyWarning: \n",
      "A value is trying to be set on a copy of a slice from a DataFrame.\n",
      "Try using .loc[row_indexer,col_indexer] = value instead\n",
      "\n",
      "See the caveats in the documentation: https://pandas.pydata.org/pandas-docs/stable/user_guide/indexing.html#returning-a-view-versus-a-copy\n",
      "  sub_df['resp']=np.where(sub_df[\"response\"] == resp[0],1,0)\n"
     ]
    },
    {
     "name": "stdout",
     "output_type": "stream",
     "text": [
      "Params [ 0.06226565 -0.07807859  1.31374134  1.18769553  0.02641806  0.33746029] gave 356.9226761052704\n",
      "Fitted FitResult(fitting_method='differential_evolution', method='auto', loss='BIC', value=356.9226761052704, nparams=6, samplesize=298, mess='')\n",
      "101\n"
     ]
    },
    {
     "name": "stderr",
     "output_type": "stream",
     "text": [
      "/Users/terlau/miniconda3/envs/mpi/lib/python3.8/site-packages/ddm/plot.py:184: MatplotlibDeprecationWarning: Adding an axes using the same arguments as a previous axes currently reuses the earlier instance.  In a future version, a new instance will always be created and returned.  Meanwhile, this warning can be suppressed, and the future behavior ensured, by passing a unique label to each axes instance.\n",
      "  ax1 = fig.add_axes([.12, .56, .85, .43])\n",
      "/Users/terlau/miniconda3/envs/mpi/lib/python3.8/site-packages/ddm/plot.py:185: MatplotlibDeprecationWarning: Adding an axes using the same arguments as a previous axes currently reuses the earlier instance.  In a future version, a new instance will always be created and returned.  Meanwhile, this warning can be suppressed, and the future behavior ensured, by passing a unique label to each axes instance.\n",
      "  ax2 = fig.add_axes([.12, .13, .85, .43])\n"
     ]
    },
    {
     "data": {
      "image/png": "[encoded data removed]",
      "text/plain": [
       "<Figure size 432x288 with 2 Axes>"
      ]
     },
     "metadata": {
      "needs_background": "light"
     },
     "output_type": "display_data"
    }
   ],
   "source": [
    "subjects = []\n",
    "drift = []\n",
    "driftbias = []\n",
    "boundary = []\n",
    "nondectime = []\n",
    "ICbias = []\n",
    "fit = []\n",
    "loss = []\n",
    "age = []\n",
    "tau = []\n",
    "\n",
    "    \n",
    "for sub in SubjectList:\n",
    "   \n",
    "    sub_df = data[data['subj_idx'] == sub]\n",
    "    if sub in [40, 45, 48, 56]:\n",
    "        print(np.unique(sub_df['stim']))\n",
    "        continue\n",
    "    else:\n",
    "        resp = np.unique(sub_df[\"response\"][(sub_df[\"stim\"] == 1) & (sub_df[\"accuracy\"] == 1)])\n",
    "        print(resp[0])\n",
    "        sub_df['resp']=np.where(sub_df[\"response\"] == resp[0],1,0)\n",
    "\n",
    "    #Load Data\n",
    "    sample = Sample.from_pandas_dataframe(sub_df, rt_column_name=\"rt\", correct_column_name=\"accuracy\")\n",
    "    print(\"mean decision time\", sample.mean_decision_time())\n",
    "    print(\"condition names\", sample.condition_names())\n",
    "    print(\"probability of correct and error trials\", sample.prob_correct(), sample.prob_error())\n",
    "    print(\"probability of undecided trials\", sample.prob_undecided())\n",
    "    #print(sample.corr) # RT for correct trials\n",
    "    #plt.plot(sample.corr)\n",
    "    #plt.plot(sample.err)\n",
    "    #plt.show()\n",
    "   \n",
    "    #print(\"correct + error component of the joint CDF\")\n",
    "    #plt.plot(sample.cdf_corr())\n",
    "    #plt.plot(sample.cdf_err())\n",
    "    #plt.show()\n",
    "    \n",
    "    \n",
    " \n",
    "    #Set up and fit ddm model\n",
    "    simple_model = setup_model()\n",
    "    print(simple_model.has_analytical_solution()) #False if collapsing bounds, can't apply solve function to this model then\n",
    "    print(simple_model.can_solve_cn()) # False if collapsing bounds, solving numerically with Crank-Nicolson won't work then\n",
    "    \n",
    "    \n",
    "    fit_model = fit_adjust_model(sample=sample, model=simple_model, lossfunction=LossRobustBIC, verbose=False)\n",
    "    print(\"Fitted\", fit_model.get_fit_result())\n",
    "\n",
    "\n",
    "    print(sub)\n",
    "    #print(simple_model.get_model_parameters())\n",
    "    #display_model(fit_model)\n",
    "\n",
    "    \n",
    "    age.append(np.unique(sub_df['age'])[0])\n",
    "    subjects.append(np.unique(sub_df['subj_idx'])[0])\n",
    "    drift.append(float(simple_model.get_model_parameters()[0]))\n",
    "    driftbias.append(float(simple_model.get_model_parameters()[1])) \n",
    "    boundary.append(float(simple_model.get_model_parameters()[2]))\n",
    "    tau.append(float(simple_model.get_model_parameters()[3])) \n",
    "    ICbias.append(float(simple_model.get_model_parameters()[4])) \n",
    "    nondectime.append(float(simple_model.get_model_parameters()[5]))\n",
    "    fit.append(simple_model.fitresult.value())\n",
    "    loss.append(simple_model.fitresult.loss)\n",
    "   # s = fit_model.solve()\n",
    "   # print(\"correct RTs prob\", s.prob_correct()) \n",
    "   \n",
    "\n",
    "    ddm.plot.plot_fit_diagnostics(model=fit_model, sample=sample)\n",
    "    plt.title(\"Drift {}, driftbias {}, Bound {}, tau {}, \\n startbias {}, nondectime {}, fit {}\".format(float(simple_model.get_model_parameters()[0]),\n",
    "                                                                                                 float(simple_model.get_model_parameters()[1]),\n",
    "                                                                                                 float(simple_model.get_model_parameters()[2]),\n",
    "                                                                                                 float(simple_model.get_model_parameters()[3]),\n",
    "                                                                                                 float(simple_model.get_model_parameters()[4]),\n",
    "                                                                                                 float(simple_model.get_model_parameters()[5]),\n",
    "                                                                                                 simple_model.fitresult.value()), y=2)\n",
    "\n",
    "    \n",
    "       \n",
    "    plt.savefig('/Users/terlau/ddm_plots/cb_11_test1_eyemem1_sub_{}.png'.format(sub), bbox_inches='tight')\n",
    "    #plt.show()\n",
    "    #plt.close()\n",
    "    #ddm.plot.model_gui_jupyter(model=fit_model, sample=sample)\n",
    "\n",
    "    "
   ]
  },
  {
   "cell_type": "code",
   "execution_count": 12,
   "metadata": {},
   "outputs": [],
   "source": [
    "fit_dict= {'subjects': subjects, 'age': age, 'drift': drift, 'driftbias': driftbias, 'boundary': boundary, 'tau': tau, 'startbias': ICbias, 'nondec': nondectime, 'fit': fit, 'loss': loss}\n",
    "fit_df = pd.DataFrame(fit_dict)\n"
   ]
  },
  {
   "cell_type": "code",
   "execution_count": 13,
   "metadata": {},
   "outputs": [
    {
     "data": {
      "text/html": [
       "<div>\n",
       "<style scoped>\n",
       "    .dataframe tbody tr th:only-of-type {\n",
       "        vertical-align: middle;\n",
       "    }\n",
       "\n",
       "    .dataframe tbody tr th {\n",
       "        vertical-align: top;\n",
       "    }\n",
       "\n",
       "    .dataframe thead th {\n",
       "        text-align: right;\n",
       "    }\n",
       "</style>\n",
       "<table border=\"1\" class=\"dataframe\">\n",
       "  <thead>\n",
       "    <tr style=\"text-align: right;\">\n",
       "      <th></th>\n",
       "      <th>subjects</th>\n",
       "      <th>age</th>\n",
       "      <th>drift</th>\n",
       "      <th>driftbias</th>\n",
       "      <th>boundary</th>\n",
       "      <th>tau</th>\n",
       "      <th>startbias</th>\n",
       "      <th>nondec</th>\n",
       "      <th>fit</th>\n",
       "      <th>loss</th>\n",
       "    </tr>\n",
       "  </thead>\n",
       "  <tbody>\n",
       "    <tr>\n",
       "      <th>0</th>\n",
       "      <td>9</td>\n",
       "      <td>0</td>\n",
       "      <td>0.329222</td>\n",
       "      <td>0.048855</td>\n",
       "      <td>1.230000</td>\n",
       "      <td>2.645012</td>\n",
       "      <td>0.002100</td>\n",
       "      <td>0.481843</td>\n",
       "      <td>-65.603630</td>\n",
       "      <td>BIC</td>\n",
       "    </tr>\n",
       "    <tr>\n",
       "      <th>1</th>\n",
       "      <td>10</td>\n",
       "      <td>0</td>\n",
       "      <td>0.334826</td>\n",
       "      <td>0.208956</td>\n",
       "      <td>0.682699</td>\n",
       "      <td>0.906627</td>\n",
       "      <td>0.024874</td>\n",
       "      <td>0.537124</td>\n",
       "      <td>51.388917</td>\n",
       "      <td>BIC</td>\n",
       "    </tr>\n",
       "    <tr>\n",
       "      <th>2</th>\n",
       "      <td>12</td>\n",
       "      <td>1</td>\n",
       "      <td>0.259636</td>\n",
       "      <td>0.403405</td>\n",
       "      <td>0.679901</td>\n",
       "      <td>0.555381</td>\n",
       "      <td>-0.067333</td>\n",
       "      <td>0.611403</td>\n",
       "      <td>182.649934</td>\n",
       "      <td>BIC</td>\n",
       "    </tr>\n",
       "    <tr>\n",
       "      <th>3</th>\n",
       "      <td>13</td>\n",
       "      <td>1</td>\n",
       "      <td>0.099276</td>\n",
       "      <td>-0.022422</td>\n",
       "      <td>1.020000</td>\n",
       "      <td>1.148563</td>\n",
       "      <td>0.048269</td>\n",
       "      <td>0.608310</td>\n",
       "      <td>303.779367</td>\n",
       "      <td>BIC</td>\n",
       "    </tr>\n",
       "    <tr>\n",
       "      <th>4</th>\n",
       "      <td>14</td>\n",
       "      <td>1</td>\n",
       "      <td>0.184118</td>\n",
       "      <td>-0.078463</td>\n",
       "      <td>0.696778</td>\n",
       "      <td>0.515833</td>\n",
       "      <td>0.065292</td>\n",
       "      <td>0.504253</td>\n",
       "      <td>188.198124</td>\n",
       "      <td>BIC</td>\n",
       "    </tr>\n",
       "    <tr>\n",
       "      <th>...</th>\n",
       "      <td>...</td>\n",
       "      <td>...</td>\n",
       "      <td>...</td>\n",
       "      <td>...</td>\n",
       "      <td>...</td>\n",
       "      <td>...</td>\n",
       "      <td>...</td>\n",
       "      <td>...</td>\n",
       "      <td>...</td>\n",
       "      <td>...</td>\n",
       "    </tr>\n",
       "    <tr>\n",
       "      <th>79</th>\n",
       "      <td>97</td>\n",
       "      <td>0</td>\n",
       "      <td>0.122618</td>\n",
       "      <td>0.177946</td>\n",
       "      <td>0.848289</td>\n",
       "      <td>0.664728</td>\n",
       "      <td>-0.035881</td>\n",
       "      <td>0.479704</td>\n",
       "      <td>361.355966</td>\n",
       "      <td>BIC</td>\n",
       "    </tr>\n",
       "    <tr>\n",
       "      <th>80</th>\n",
       "      <td>98</td>\n",
       "      <td>0</td>\n",
       "      <td>0.181914</td>\n",
       "      <td>0.619628</td>\n",
       "      <td>1.020000</td>\n",
       "      <td>2.160669</td>\n",
       "      <td>-0.121618</td>\n",
       "      <td>0.443186</td>\n",
       "      <td>47.884062</td>\n",
       "      <td>BIC</td>\n",
       "    </tr>\n",
       "    <tr>\n",
       "      <th>81</th>\n",
       "      <td>99</td>\n",
       "      <td>1</td>\n",
       "      <td>0.096164</td>\n",
       "      <td>-0.339514</td>\n",
       "      <td>0.780209</td>\n",
       "      <td>0.998389</td>\n",
       "      <td>0.114848</td>\n",
       "      <td>0.470609</td>\n",
       "      <td>177.958827</td>\n",
       "      <td>BIC</td>\n",
       "    </tr>\n",
       "    <tr>\n",
       "      <th>82</th>\n",
       "      <td>100</td>\n",
       "      <td>1</td>\n",
       "      <td>0.066568</td>\n",
       "      <td>-0.238482</td>\n",
       "      <td>0.791691</td>\n",
       "      <td>1.477534</td>\n",
       "      <td>0.082903</td>\n",
       "      <td>0.561672</td>\n",
       "      <td>210.320424</td>\n",
       "      <td>BIC</td>\n",
       "    </tr>\n",
       "    <tr>\n",
       "      <th>83</th>\n",
       "      <td>101</td>\n",
       "      <td>1</td>\n",
       "      <td>0.062266</td>\n",
       "      <td>-0.078079</td>\n",
       "      <td>1.313741</td>\n",
       "      <td>1.187696</td>\n",
       "      <td>0.026418</td>\n",
       "      <td>0.337460</td>\n",
       "      <td>356.922676</td>\n",
       "      <td>BIC</td>\n",
       "    </tr>\n",
       "  </tbody>\n",
       "</table>\n",
       "<p>84 rows × 10 columns</p>\n",
       "</div>"
      ],
      "text/plain": [
       "    subjects  age     drift  driftbias  boundary       tau  startbias  \\\n",
       "0          9    0  0.329222   0.048855  1.230000  2.645012   0.002100   \n",
       "1         10    0  0.334826   0.208956  0.682699  0.906627   0.024874   \n",
       "2         12    1  0.259636   0.403405  0.679901  0.555381  -0.067333   \n",
       "3         13    1  0.099276  -0.022422  1.020000  1.148563   0.048269   \n",
       "4         14    1  0.184118  -0.078463  0.696778  0.515833   0.065292   \n",
       "..       ...  ...       ...        ...       ...       ...        ...   \n",
       "79        97    0  0.122618   0.177946  0.848289  0.664728  -0.035881   \n",
       "80        98    0  0.181914   0.619628  1.020000  2.160669  -0.121618   \n",
       "81        99    1  0.096164  -0.339514  0.780209  0.998389   0.114848   \n",
       "82       100    1  0.066568  -0.238482  0.791691  1.477534   0.082903   \n",
       "83       101    1  0.062266  -0.078079  1.313741  1.187696   0.026418   \n",
       "\n",
       "      nondec         fit loss  \n",
       "0   0.481843  -65.603630  BIC  \n",
       "1   0.537124   51.388917  BIC  \n",
       "2   0.611403  182.649934  BIC  \n",
       "3   0.608310  303.779367  BIC  \n",
       "4   0.504253  188.198124  BIC  \n",
       "..       ...         ...  ...  \n",
       "79  0.479704  361.355966  BIC  \n",
       "80  0.443186   47.884062  BIC  \n",
       "81  0.470609  177.958827  BIC  \n",
       "82  0.561672  210.320424  BIC  \n",
       "83  0.337460  356.922676  BIC  \n",
       "\n",
       "[84 rows x 10 columns]"
      ]
     },
     "execution_count": 13,
     "metadata": {},
     "output_type": "execute_result"
    }
   ],
   "source": [
    "fit_df.to_pickle('fitted_pyddm_cb_11_test') \n",
    "fit_df"
   ]
  },
  {
   "cell_type": "code",
   "execution_count": 14,
   "metadata": {},
   "outputs": [
    {
     "data": {
      "text/html": [
       "<div>\n",
       "<style scoped>\n",
       "    .dataframe tbody tr th:only-of-type {\n",
       "        vertical-align: middle;\n",
       "    }\n",
       "\n",
       "    .dataframe tbody tr th {\n",
       "        vertical-align: top;\n",
       "    }\n",
       "\n",
       "    .dataframe thead th {\n",
       "        text-align: right;\n",
       "    }\n",
       "</style>\n",
       "<table border=\"1\" class=\"dataframe\">\n",
       "  <thead>\n",
       "    <tr style=\"text-align: right;\">\n",
       "      <th></th>\n",
       "      <th>subjects</th>\n",
       "      <th>age</th>\n",
       "      <th>drift</th>\n",
       "      <th>driftbias</th>\n",
       "      <th>boundary</th>\n",
       "      <th>tau</th>\n",
       "      <th>startbias</th>\n",
       "      <th>nondec</th>\n",
       "      <th>fit</th>\n",
       "    </tr>\n",
       "  </thead>\n",
       "  <tbody>\n",
       "    <tr>\n",
       "      <th>count</th>\n",
       "      <td>84.000000</td>\n",
       "      <td>84.000000</td>\n",
       "      <td>84.000000</td>\n",
       "      <td>84.000000</td>\n",
       "      <td>84.000000</td>\n",
       "      <td>84.000000</td>\n",
       "      <td>84.000000</td>\n",
       "      <td>84.000000</td>\n",
       "      <td>84.000000</td>\n",
       "    </tr>\n",
       "    <tr>\n",
       "      <th>mean</th>\n",
       "      <td>55.928571</td>\n",
       "      <td>0.500000</td>\n",
       "      <td>0.190818</td>\n",
       "      <td>-0.000900</td>\n",
       "      <td>1.748504</td>\n",
       "      <td>1.235515</td>\n",
       "      <td>0.025316</td>\n",
       "      <td>0.467163</td>\n",
       "      <td>266.333958</td>\n",
       "    </tr>\n",
       "    <tr>\n",
       "      <th>std</th>\n",
       "      <td>27.505437</td>\n",
       "      <td>0.503003</td>\n",
       "      <td>0.089401</td>\n",
       "      <td>0.205423</td>\n",
       "      <td>1.524021</td>\n",
       "      <td>0.603296</td>\n",
       "      <td>0.070289</td>\n",
       "      <td>0.158715</td>\n",
       "      <td>151.770978</td>\n",
       "    </tr>\n",
       "    <tr>\n",
       "      <th>min</th>\n",
       "      <td>9.000000</td>\n",
       "      <td>0.000000</td>\n",
       "      <td>0.001045</td>\n",
       "      <td>-0.437934</td>\n",
       "      <td>0.670762</td>\n",
       "      <td>0.240511</td>\n",
       "      <td>-0.171603</td>\n",
       "      <td>0.066149</td>\n",
       "      <td>-65.603630</td>\n",
       "    </tr>\n",
       "    <tr>\n",
       "      <th>25%</th>\n",
       "      <td>31.750000</td>\n",
       "      <td>0.000000</td>\n",
       "      <td>0.116888</td>\n",
       "      <td>-0.138211</td>\n",
       "      <td>0.849572</td>\n",
       "      <td>0.809577</td>\n",
       "      <td>-0.015833</td>\n",
       "      <td>0.398905</td>\n",
       "      <td>159.114004</td>\n",
       "    </tr>\n",
       "    <tr>\n",
       "      <th>50%</th>\n",
       "      <td>57.500000</td>\n",
       "      <td>0.500000</td>\n",
       "      <td>0.188122</td>\n",
       "      <td>-0.016715</td>\n",
       "      <td>1.015000</td>\n",
       "      <td>1.105628</td>\n",
       "      <td>0.027295</td>\n",
       "      <td>0.483979</td>\n",
       "      <td>253.542472</td>\n",
       "    </tr>\n",
       "    <tr>\n",
       "      <th>75%</th>\n",
       "      <td>80.250000</td>\n",
       "      <td>1.000000</td>\n",
       "      <td>0.256493</td>\n",
       "      <td>0.123532</td>\n",
       "      <td>1.707829</td>\n",
       "      <td>1.507942</td>\n",
       "      <td>0.071046</td>\n",
       "      <td>0.554410</td>\n",
       "      <td>366.076835</td>\n",
       "    </tr>\n",
       "    <tr>\n",
       "      <th>max</th>\n",
       "      <td>101.000000</td>\n",
       "      <td>1.000000</td>\n",
       "      <td>0.415402</td>\n",
       "      <td>0.619628</td>\n",
       "      <td>6.000000</td>\n",
       "      <td>3.333403</td>\n",
       "      <td>0.191984</td>\n",
       "      <td>1.066122</td>\n",
       "      <td>674.036811</td>\n",
       "    </tr>\n",
       "  </tbody>\n",
       "</table>\n",
       "</div>"
      ],
      "text/plain": [
       "         subjects        age      drift  driftbias   boundary        tau  \\\n",
       "count   84.000000  84.000000  84.000000  84.000000  84.000000  84.000000   \n",
       "mean    55.928571   0.500000   0.190818  -0.000900   1.748504   1.235515   \n",
       "std     27.505437   0.503003   0.089401   0.205423   1.524021   0.603296   \n",
       "min      9.000000   0.000000   0.001045  -0.437934   0.670762   0.240511   \n",
       "25%     31.750000   0.000000   0.116888  -0.138211   0.849572   0.809577   \n",
       "50%     57.500000   0.500000   0.188122  -0.016715   1.015000   1.105628   \n",
       "75%     80.250000   1.000000   0.256493   0.123532   1.707829   1.507942   \n",
       "max    101.000000   1.000000   0.415402   0.619628   6.000000   3.333403   \n",
       "\n",
       "       startbias     nondec         fit  \n",
       "count  84.000000  84.000000   84.000000  \n",
       "mean    0.025316   0.467163  266.333958  \n",
       "std     0.070289   0.158715  151.770978  \n",
       "min    -0.171603   0.066149  -65.603630  \n",
       "25%    -0.015833   0.398905  159.114004  \n",
       "50%     0.027295   0.483979  253.542472  \n",
       "75%     0.071046   0.554410  366.076835  \n",
       "max     0.191984   1.066122  674.036811  "
      ]
     },
     "execution_count": 14,
     "metadata": {},
     "output_type": "execute_result"
    }
   ],
   "source": [
    "fit_df.describe()"
   ]
  },
  {
   "cell_type": "code",
   "execution_count": 15,
   "metadata": {},
   "outputs": [
    {
     "name": "stdout",
     "output_type": "stream",
     "text": [
      "         subjects        age      drift   boundary     nondec         fit\n",
      "count   88.000000  88.000000  88.000000  88.000000  88.000000   88.000000\n",
      "mean    55.534091   0.511364   0.642079   2.058473   1.266467  249.326260\n",
      "std     26.955881   0.502735   0.305096   2.128012   0.626872  153.982890\n",
      "min      9.000000   0.000000   0.006836   0.641091   0.260770  -80.536858\n",
      "25%     32.750000   0.000000   0.397594   0.875412   0.814243  141.905811\n",
      "50%     55.000000   1.000000   0.633436   0.996271   1.155888  243.998743\n",
      "75%     79.250000   1.000000   0.850848   2.140239   1.645515  346.635950\n",
      "max    101.000000   1.000000   1.542470   8.000000   3.784303  658.819957\n",
      "         subjects        age      drift   boundary        tau     nondec  \\\n",
      "count   88.000000  88.000000  88.000000  88.000000  88.000000  88.000000   \n",
      "mean    55.534091   0.511364   0.643987   1.797362   1.206509   0.456494   \n",
      "std     26.955881   0.502735   0.302091   1.651188   0.553493   0.164318   \n",
      "min      9.000000   0.000000   0.014819   0.600860   0.213500   0.013178   \n",
      "25%     32.750000   0.000000   0.390988   0.859124   0.783240   0.416030   \n",
      "50%     55.000000   1.000000   0.639124   1.027980   1.100823   0.486911   \n",
      "75%     79.250000   1.000000   0.842997   1.534027   1.526972   0.539964   \n",
      "max    101.000000   1.000000   1.547117   6.000000   2.663414   1.074636   \n",
      "\n",
      "              fit  \n",
      "count   88.000000  \n",
      "mean   248.028054  \n",
      "std    155.105314  \n",
      "min    -80.538737  \n",
      "25%    135.612655  \n",
      "50%    243.957808  \n",
      "75%    346.671878  \n",
      "max    658.737371  \n",
      "         subjects        age      drift  driftbias   boundary        tau  \\\n",
      "count   84.000000  84.000000  84.000000  84.000000  84.000000  84.000000   \n",
      "mean    55.928571   0.500000   0.676163   0.071023   1.904541   1.263347   \n",
      "std     27.505437   0.503003   0.304403   0.120996   1.710547   0.617109   \n",
      "min      9.000000   0.000000   0.061418  -0.224648   0.615606   0.217714   \n",
      "25%     31.750000   0.000000   0.419436  -0.008460   0.884027   0.811088   \n",
      "50%     57.500000   0.500000   0.672783   0.059804   1.023436   1.157369   \n",
      "75%     80.250000   1.000000   0.922410   0.155661   2.039725   1.608613   \n",
      "max    101.000000   1.000000   1.572772   0.378487   6.000000   3.319042   \n",
      "\n",
      "          nondec         fit  \n",
      "count  84.000000   84.000000  \n",
      "mean    0.452465  255.621733  \n",
      "std     0.169150  154.223132  \n",
      "min     0.038448  -75.168450  \n",
      "25%     0.372277  148.779158  \n",
      "50%     0.483302  253.850789  \n",
      "75%     0.547981  352.411672  \n",
      "max     1.075053  664.782681  \n",
      "         subjects        age      drift  driftbias   boundary        tau  \\\n",
      "count   84.000000  84.000000  84.000000  84.000000  84.000000  84.000000   \n",
      "mean    55.928571   0.500000   0.683809   0.095514   1.834079   1.231569   \n",
      "std     27.505437   0.503003   0.310452   0.130825   1.668759   0.583513   \n",
      "min      9.000000   0.000000   0.026398   0.000000   0.613260   0.225072   \n",
      "25%     31.750000   0.000000   0.430606   0.008297   0.868168   0.804233   \n",
      "50%     57.500000   0.500000   0.680077   0.044222   1.040351   1.086374   \n",
      "75%     80.250000   1.000000   0.925649   0.131431   1.755314   1.536838   \n",
      "max    101.000000   1.000000   1.583312   0.716506   6.000000   2.763544   \n",
      "\n",
      "       startbias     nondec         fit  \n",
      "count  84.000000  84.000000   84.000000  \n",
      "mean    0.003141   0.460024  258.907465  \n",
      "std     0.050119   0.167559  154.965522  \n",
      "min    -0.160469   0.032232  -69.674977  \n",
      "25%    -0.018938   0.394570  147.465362  \n",
      "50%     0.002326   0.489712  256.772079  \n",
      "75%     0.036135   0.553339  358.396195  \n",
      "max     0.117331   1.078420  671.192161  \n",
      "         subjects        age      drift   boundary        tau  startbias  \\\n",
      "count   84.000000  84.000000  84.000000  84.000000  84.000000  84.000000   \n",
      "mean    55.928571   0.500000   0.676282   1.842724   1.250600   0.023294   \n",
      "std     27.505437   0.503003   0.308703   1.652850   0.604880   0.036794   \n",
      "min      9.000000   0.000000   0.022505   0.616976   0.294909  -0.077462   \n",
      "25%     31.750000   0.000000   0.424762   0.877500   0.821880   0.005574   \n",
      "50%     57.500000   0.500000   0.670657   1.015000   1.127484   0.022599   \n",
      "75%     80.250000   1.000000   0.880733   1.922500   1.576773   0.044211   \n",
      "max    101.000000   1.000000   1.581629   5.990000   3.476269   0.128654   \n",
      "\n",
      "          nondec         fit  \n",
      "count  84.000000   84.000000  \n",
      "mean    0.458852  254.113746  \n",
      "std     0.160414  153.598675  \n",
      "min     0.023619  -75.322691  \n",
      "25%     0.369498  154.235101  \n",
      "50%     0.489726  246.666016  \n",
      "75%     0.551447  352.417278  \n",
      "max     1.067613  663.713470  \n",
      "         subjects        age      drift  driftbias   boundary        tau  \\\n",
      "count   84.000000  84.000000  84.000000  84.000000  84.000000  84.000000   \n",
      "mean    55.928571   0.500000   0.680656   0.002692   1.832093   1.242918   \n",
      "std     27.505437   0.503003   0.308671   0.214929   1.604951   0.629068   \n",
      "min      9.000000   0.000000   0.009932  -0.500233   0.611664   0.249969   \n",
      "25%     31.750000   0.000000   0.444024  -0.136502   0.867918   0.819889   \n",
      "50%     57.500000   0.500000   0.683219  -0.003370   1.025142   1.094941   \n",
      "75%     80.250000   1.000000   0.903036   0.126882   1.799081   1.548011   \n",
      "max    101.000000   1.000000   1.595219   0.722031   6.000000   3.578665   \n",
      "\n",
      "       startbias     nondec         fit  \n",
      "count  84.000000  84.000000   84.000000  \n",
      "mean    0.022564   0.458904  257.482501  \n",
      "std     0.066378   0.164211  154.061159  \n",
      "min    -0.175923   0.056111  -69.558534  \n",
      "25%    -0.012125   0.387836  153.642604  \n",
      "50%     0.024559   0.482257  251.158953  \n",
      "75%     0.056583   0.543483  358.289979  \n",
      "max     0.166068   1.057907  669.797428  \n",
      "         subjects        age      drift  driftbias   boundary        tau  \\\n",
      "count   84.000000  84.000000  84.000000  84.000000  84.000000  84.000000   \n",
      "mean    55.928571   0.500000   0.190818  -0.000900   1.748504   1.235515   \n",
      "std     27.505437   0.503003   0.089401   0.205423   1.524021   0.603296   \n",
      "min      9.000000   0.000000   0.001045  -0.437934   0.670762   0.240511   \n",
      "25%     31.750000   0.000000   0.116888  -0.138211   0.849572   0.809577   \n",
      "50%     57.500000   0.500000   0.188122  -0.016715   1.015000   1.105628   \n",
      "75%     80.250000   1.000000   0.256493   0.123532   1.707829   1.507942   \n",
      "max    101.000000   1.000000   0.415402   0.619628   6.000000   3.333403   \n",
      "\n",
      "       startbias     nondec         fit  \n",
      "count  84.000000  84.000000   84.000000  \n",
      "mean    0.025316   0.467163  266.333958  \n",
      "std     0.070289   0.158715  151.770978  \n",
      "min    -0.171603   0.066149  -65.603630  \n",
      "25%    -0.015833   0.398905  159.114004  \n",
      "50%     0.027295   0.483979  253.542472  \n",
      "75%     0.071046   0.554410  366.076835  \n",
      "max     0.191984   1.066122  674.036811  \n"
     ]
    }
   ],
   "source": [
    "df_5 = pd.read_pickle('fitted_pyddm_cb_5_test')\n",
    "print(df_5.describe())\n",
    "df_6 = pd.read_pickle('fitted_pyddm_cb_6_test')\n",
    "print(df_6.describe())\n",
    "df_7 = pd.read_pickle('fitted_pyddm_cb_7_test')\n",
    "print(df_7.describe())\n",
    "df_8 = pd.read_pickle('fitted_pyddm_cb_8_test')\n",
    "print(df_8.describe())\n",
    "df_9 = pd.read_pickle('fitted_pyddm_cb_9_test')\n",
    "print(df_9.describe())\n",
    "df_10 = pd.read_pickle('fitted_pyddm_cb_10_test')\n",
    "print(df_10.describe())\n",
    "df_11 = pd.read_pickle('fitted_pyddm_cb_11_test')\n",
    "print(df_11.describe())"
   ]
  },
  {
   "cell_type": "code",
   "execution_count": 16,
   "metadata": {},
   "outputs": [
    {
     "data": {
      "image/png": "[encoded data removed]",
      "text/plain": [
       "<Figure size 432x288 with 1 Axes>"
      ]
     },
     "metadata": {
      "needs_background": "light"
     },
     "output_type": "display_data"
    }
   ],
   "source": [
    "fig, ax = plt.subplots()\n",
    "\n",
    "a_heights, a_bins = np.histogram(df_11['fit'])\n",
    "b_heights, b_bins = np.histogram(df_10['fit'], bins=a_bins)\n",
    "\n",
    "width = (a_bins[1] - a_bins[0])/3\n",
    "\n",
    "ax.bar(a_bins[:-1], a_heights, width=width, facecolor='cornflowerblue')\n",
    "ax.bar(b_bins[:-1]+width, b_heights, width=width, facecolor='seagreen')\n",
    "plt.show()"
   ]
  },
  {
   "cell_type": "code",
   "execution_count": 17,
   "metadata": {},
   "outputs": [],
   "source": [
    "def age_grouping(df):\n",
    "    ya_df = df.loc[df['age'] == 0]\n",
    "    oa_df = df.loc[df['age'] == 1]\n",
    "    print(ya_df.describe())\n",
    "    print(oa_df.describe()) \n",
    "    #print(ya_df.head())\n",
    "    #print(oa_df.head())\n",
    "    return ya_df, oa_df"
   ]
  },
  {
   "cell_type": "code",
   "execution_count": 18,
   "metadata": {},
   "outputs": [
    {
     "name": "stdout",
     "output_type": "stream",
     "text": [
      "42.0\n"
     ]
    }
   ],
   "source": [
    "oa_n = 42\n",
    "ya_n = 42\n",
    "N = (oa_n+ya_n)/2\n",
    "print(N)"
   ]
  },
  {
   "cell_type": "code",
   "execution_count": 19,
   "metadata": {},
   "outputs": [
    {
     "name": "stdout",
     "output_type": "stream",
     "text": [
      "        subjects   age      drift  driftbias   boundary        tau  startbias  \\\n",
      "count  42.000000  42.0  42.000000  42.000000  42.000000  42.000000  42.000000   \n",
      "mean   57.738095   0.0   0.218988   0.028331   2.077025   1.252333   0.024697   \n",
      "std    25.922078   0.0   0.091672   0.220175   1.771712   0.609153   0.079676   \n",
      "min     9.000000   0.0   0.004248  -0.437934   0.682699   0.240511  -0.171603   \n",
      "25%    40.250000   0.0   0.155930  -0.123199   0.862500   0.849904  -0.018820   \n",
      "50%    60.500000   0.0   0.217825   0.010181   1.172121   1.148667   0.034038   \n",
      "75%    76.750000   0.0   0.288018   0.147299   2.801152   1.585239   0.061978   \n",
      "max    98.000000   0.0   0.415402   0.619628   6.000000   2.664978   0.191984   \n",
      "\n",
      "          nondec         fit  \n",
      "count  42.000000   42.000000  \n",
      "mean    0.468325  273.987967  \n",
      "std     0.179162  168.117330  \n",
      "min     0.066149  -65.603630  \n",
      "25%     0.386861  155.346918  \n",
      "50%     0.476504  283.886812  \n",
      "75%     0.537429  409.883782  \n",
      "max     1.066122  674.036811  \n",
      "         subjects   age      drift  driftbias   boundary        tau  \\\n",
      "count   42.000000  42.0  42.000000  42.000000  42.000000  42.000000   \n",
      "mean    54.119048   1.0   0.162647  -0.030132   1.419982   1.218696   \n",
      "std     29.204245   0.0   0.078426   0.187615   1.158381   0.604287   \n",
      "min     12.000000   1.0   0.001045  -0.339514   0.670762   0.515833   \n",
      "25%     28.250000   1.0   0.100514  -0.142947   0.840684   0.768158   \n",
      "50%     44.500000   1.0   0.169782  -0.059973   0.976438   1.092757   \n",
      "75%     83.500000   1.0   0.210557   0.089833   1.256417   1.478379   \n",
      "max    101.000000   1.0   0.327347   0.403405   5.568151   3.333403   \n",
      "\n",
      "       startbias     nondec         fit  \n",
      "count  42.000000  42.000000   42.000000  \n",
      "mean    0.025935   0.466002  258.679949  \n",
      "std     0.060438   0.137455  135.082244  \n",
      "min    -0.128875   0.101640   19.759300  \n",
      "25%    -0.015014   0.408120  164.478629  \n",
      "50%     0.025685   0.499306  242.880224  \n",
      "75%     0.074945   0.563049  339.109858  \n",
      "max     0.150922   0.674802  578.072511  \n"
     ]
    }
   ],
   "source": [
    "ya_df, oa_df = age_grouping(df_11)"
   ]
  },
  {
   "cell_type": "code",
   "execution_count": 20,
   "metadata": {},
   "outputs": [],
   "source": [
    "def two_sample_t_test(a,b, N):\n",
    "    \n",
    "## Calculate the Standard Deviation\n",
    "#Calculate the variance to get the standard deviation\n",
    "\n",
    "    #For unbiased max likelihood estimate we have to divide the var by N-1, and therefore the parameter ddof = 1\n",
    "    var_oa = a.var(ddof=1)\n",
    "    var_ya = b.var(ddof=1)\n",
    "\n",
    "    #std deviation\n",
    "    s = np.sqrt((var_oa + var_ya)/2)\n",
    "    #print(s)\n",
    "\n",
    "    \n",
    "\n",
    "    ## Calculate the t-statistics\n",
    "    t = (a.mean() - b.mean())/(s*np.sqrt(2/N))\n",
    "\n",
    "\n",
    "\n",
    "    ## Compare with the critical t-value\n",
    "    #Degrees of freedom\n",
    "    df = 2*N - 2\n",
    "\n",
    "    #p-value after comparison with the t \n",
    "    p = 1 - stats.t.cdf(t,df=df) #1- for negative t-values!\n",
    "\n",
    "\n",
    "    #print(\"t = \" + str(t))\n",
    "    #print(\"p = \" + str(2*p))\n",
    "  \n",
    "\n",
    "\n",
    "    ## Cross Checking with the internal scipy function\n",
    "    t2, p2 = stats.ttest_ind(a,b)\n",
    "    print(\"t = \" + str(t2))\n",
    "    print(\"p = \" + str(p2))\n",
    "    return t, p"
   ]
  },
  {
   "cell_type": "code",
   "execution_count": 21,
   "metadata": {},
   "outputs": [
    {
     "name": "stdout",
     "output_type": "stream",
     "text": [
      "t = 3.0266017047292464\n",
      "p = 0.0033039654510871757\n",
      "Drift (3.026601704729242, 0.001651982725543566)\n",
      "t = 2.0115942090387056\n",
      "p = 0.047547107117583746\n",
      "Boundary (2.0115942090387064, 0.02377355355879185)\n",
      "t = -0.08026861461177595\n",
      "p = 0.9362192005498637\n",
      "IC Bias (-0.08026861461177598, 0.5318903997250681)\n",
      "t = 0.2540592374903027\n",
      "p = 0.800085776178751\n",
      "TAU (0.25405923749030435, 0.4000428880893748)\n",
      "t = 0.06667404029764738\n",
      "p = 0.9470034977686371\n",
      "Nondectime (0.06667404029765057, 0.4735017488843173)\n",
      "t = 1.3097944498686336\n",
      "p = 0.19392309925437712\n",
      "Drift bias (1.309794449868633, 0.09696154962718873)\n",
      "t = 0.4600101299965296\n",
      "p = 0.6467263839823763\n",
      "FIT (0.4600101299965313, 0.32336319199118757)\n"
     ]
    }
   ],
   "source": [
    "print(\"Drift\", two_sample_t_test(ya_df['drift'],oa_df['drift'], N))\n",
    "print(\"Boundary\", two_sample_t_test(ya_df['boundary'],oa_df['boundary'], N))\n",
    "print(\"IC Bias\", two_sample_t_test(ya_df['startbias'],oa_df['startbias'], N))\n",
    "print(\"TAU\", two_sample_t_test(ya_df['tau'],oa_df['tau'], N))\n",
    "print(\"Nondectime\", two_sample_t_test(ya_df['nondec'],oa_df['nondec'], N))\n",
    "print(\"Drift bias\", two_sample_t_test(ya_df['driftbias'],oa_df['driftbias'], N))\n",
    "print(\"FIT\", two_sample_t_test(ya_df['fit'],oa_df['fit'], N))"
   ]
  },
  {
   "cell_type": "code",
   "execution_count": 22,
   "metadata": {},
   "outputs": [],
   "source": [
    "def plot_bar(df, parameter, p_val, model_type):\n",
    "    \n",
    "    fig, ax = plt.subplots(figsize=(8,6))\n",
    "\n",
    "    sns.set(style=\"whitegrid\")\n",
    "\n",
    "\n",
    "    sns.barplot(x=\"age\", y=parameter, data=df,  capsize=.1, color='lightblue') # ci=\"sd\"\n",
    "    sns.swarmplot(x=\"age\", y=parameter, data=df, color=\"0\", alpha=.35)\n",
    "    # show the mean\n",
    "    for p in ax.patches:\n",
    "        h, w, x = p.get_height(), p.get_width(), p.get_x()\n",
    "        xy = (x + w / 2., h / 2)\n",
    "        text = f'Mean:\\n{h:0.2f}'\n",
    "        ax.annotate(text=text, xy=xy, ha='center', va='center')\n",
    "\n",
    "    # statistical annotation\n",
    "    x1, x2 = 0, 1   \n",
    "    y, h, col = df[parameter].max()+0.09,0.09, 'k'\n",
    "    plt.plot([x1, x1, x2, x2], [y, y+h, y+h, y], lw=1, c=col)\n",
    "    plt.text((x1+x2)*.5, y+h, p_val, ha='center', va='bottom', color=col)\n",
    "    plt.title(\"Simple PyDDM {} OA vs YA {}\".format(model_type, parameter))\n",
    "    plt.savefig('/Users/terlau/ddm_plots/{}_test1_eyemem1_{}.png'.format(model_type, parameter))\n",
    "    plt.show()\n",
    "    plt.close()"
   ]
  },
  {
   "cell_type": "code",
   "execution_count": 23,
   "metadata": {},
   "outputs": [
    {
     "data": {
      "image/png": "[encoded data removed]",
      "text/plain": [
       "<Figure size 576x432 with 1 Axes>"
      ]
     },
     "metadata": {
      "needs_background": "light"
     },
     "output_type": "display_data"
    }
   ],
   "source": [
    "plot_bar(df_11, 'drift', '0.001', 'cb_11') #run cb_2 for this one again"
   ]
  },
  {
   "cell_type": "code",
   "execution_count": 24,
   "metadata": {},
   "outputs": [
    {
     "data": {
      "image/png": "[encoded data removed]",
      "text/plain": [
       "<Figure size 576x432 with 1 Axes>"
      ]
     },
     "metadata": {},
     "output_type": "display_data"
    }
   ],
   "source": [
    "plot_bar(df_11 , 'boundary', \"0.047\", 'cb_11')"
   ]
  },
  {
   "cell_type": "code",
   "execution_count": 29,
   "metadata": {},
   "outputs": [
    {
     "data": {
      "image/png": "[encoded data removed]",
      "text/plain": [
       "<Figure size 576x432 with 1 Axes>"
      ]
     },
     "metadata": {},
     "output_type": "display_data"
    }
   ],
   "source": [
    "plot_bar(df_11, 'tau', \"0.80\", 'cb_11')"
   ]
  },
  {
   "cell_type": "code",
   "execution_count": 28,
   "metadata": {},
   "outputs": [
    {
     "data": {
      "image/png": "[encoded data removed]",
      "text/plain": [
       "<Figure size 576x432 with 1 Axes>"
      ]
     },
     "metadata": {},
     "output_type": "display_data"
    }
   ],
   "source": [
    "plot_bar(df_11, 'startbias', \"0.936\", 'cb_11')"
   ]
  },
  {
   "cell_type": "code",
   "execution_count": null,
   "metadata": {},
   "outputs": [],
   "source": [
    "print(\"Drift:\", fit_1['drift'].corr(fit_2['drift']))\n",
    "plt.scatter(fit_1['drift'], fit_2['drift'])\n",
    "plt.show()"
   ]
  },
  {
   "cell_type": "code",
   "execution_count": null,
   "metadata": {},
   "outputs": [],
   "source": [
    "print(\"Noise:\", fit_1['noise'].corr(fit_2['noise']))\n",
    "plt.scatter(fit_1['noise'], fit_2['noise'])\n",
    "plt.show()"
   ]
  },
  {
   "cell_type": "code",
   "execution_count": null,
   "metadata": {},
   "outputs": [],
   "source": [
    "    \n",
    "def fit_group_ddm(self, cpus):\n",
    "    \"\"\"\n",
    "    Fits a separate ddm to all subjects and colors. \n",
    "    Saves fitting results to result file.\n",
    "    \"\"\"\n",
    "    # Computes fitting for each category in parallel\n",
    "    with Pool(processes=cpus) as p: \n",
    "        white_results = p.starmap(self.fit_single_ddm, zip(self.SubjectList,['white']*len(self.SubjectList)))\n",
    "        blue_results = p.starmap(self.fit_single_ddm, zip(self.SubjectList,['blue']*len(self.SubjectList)))\n",
    "        pink_results = p.starmap(self.fit_single_ddm, zip(self.SubjectList,['pink']*len(self.SubjectList)))\n",
    "\n",
    "    # Put results into one DataFrame\n",
    "    results_list = []\n",
    "    for results, color in zip([white_results, blue_results, pink_results], self.noisecolors):\n",
    "        results = pd.DataFrame(results)\n",
    "        results['noise_color'] = color\n",
    "        results['ID'] = self.SubjectList\n",
    "        results_list.append(results)\n",
    "    results_df = pd.concat(results_list)\n",
    "    # Save to File\n",
    "    results_df.to_csv(self.resultfile)"
   ]
  },
  {
   "cell_type": "code",
   "execution_count": null,
   "metadata": {},
   "outputs": [],
   "source": [
    "df_b = df_5.loc[df_5['boundary'] >= 6]\n",
    "slist = df_b['subjects']\n",
    "print(slist)\n",
    "t = data[data['subj_idx'].isin(slist)]\n",
    "print(t)\n",
    "for name, group in t.groupby('subj_idx'):\n",
    "    plt.hist(group['rt'], label=name)\n",
    "    plt.show()\n",
    "    plt.close()"
   ]
  }
 ],
 "metadata": {
  "kernelspec": {
   "display_name": "Python 3",
   "language": "python",
   "name": "python3"
  },
  "language_info": {
   "codemirror_mode": {
    "name": "ipython",
    "version": 3
   },
   "file_extension": ".py",
   "mimetype": "text/x-python",
   "name": "python",
   "nbconvert_exporter": "python",
   "pygments_lexer": "ipython3",
   "version": "3.8.3"
  }
 },
 "nbformat": 4,
 "nbformat_minor": 4
}
