{
 "cells": [
  {
   "cell_type": "code",
   "execution_count": 1,
   "metadata": {},
   "outputs": [],
   "source": [
    "import scipy.io\n",
    "import seaborn as sns\n",
    "import numpy as np\n",
    "import matplotlib.pyplot as plt\n",
    "import pandas as pd\n",
    "from scipy import stats\n",
    "from scipy.stats import zscore\n",
    "from scipy.stats import ttest_ind"
   ]
  },
  {
   "cell_type": "code",
   "execution_count": 164,
   "metadata": {},
   "outputs": [
    {
     "name": "stdout",
     "output_type": "stream",
     "text": [
      "         subjects        age      drift   boundary        tau     nondec  \\\n",
      "count   88.000000  88.000000  88.000000  88.000000  88.000000  88.000000   \n",
      "mean    55.534091   0.511364   0.643987   1.797362   1.206509   0.456494   \n",
      "std     26.955881   0.502735   0.302091   1.651188   0.553493   0.164318   \n",
      "min      9.000000   0.000000   0.014819   0.600860   0.213500   0.013178   \n",
      "25%     32.750000   0.000000   0.390988   0.859124   0.783240   0.416030   \n",
      "50%     55.000000   1.000000   0.639124   1.027980   1.100823   0.486911   \n",
      "75%     79.250000   1.000000   0.842997   1.534027   1.526972   0.539964   \n",
      "max    101.000000   1.000000   1.547117   6.000000   2.663414   1.074636   \n",
      "\n",
      "              fit  \n",
      "count   88.000000  \n",
      "mean   248.028054  \n",
      "std    155.105314  \n",
      "min    -80.538737  \n",
      "25%    135.612655  \n",
      "50%    243.957808  \n",
      "75%    346.671878  \n",
      "max    658.737371  \n"
     ]
    }
   ],
   "source": [
    "df_6 = pd.read_pickle('fitted_pyddm_cb_6_test')\n",
    "print(df_6.describe())"
   ]
  },
  {
   "cell_type": "code",
   "execution_count": 172,
   "metadata": {},
   "outputs": [
    {
     "name": "stdout",
     "output_type": "stream",
     "text": [
      "         subjects        age      drift   boundary        tau  startbias  \\\n",
      "count   84.000000  84.000000  84.000000  84.000000  84.000000  84.000000   \n",
      "mean    55.928571   0.500000   0.676282   1.842724   1.250600   0.023294   \n",
      "std     27.505437   0.503003   0.308703   1.652850   0.604880   0.036794   \n",
      "min      9.000000   0.000000   0.022505   0.616976   0.294909  -0.077462   \n",
      "25%     31.750000   0.000000   0.424762   0.877500   0.821880   0.005574   \n",
      "50%     57.500000   0.500000   0.670657   1.015000   1.127484   0.022599   \n",
      "75%     80.250000   1.000000   0.880733   1.922500   1.576773   0.044211   \n",
      "max    101.000000   1.000000   1.581629   5.990000   3.476269   0.128654   \n",
      "\n",
      "          nondec         fit  \n",
      "count  84.000000   84.000000  \n",
      "mean    0.458852  254.113746  \n",
      "std     0.160414  153.598675  \n",
      "min     0.023619  -75.322691  \n",
      "25%     0.369498  154.235101  \n",
      "50%     0.489726  246.666016  \n",
      "75%     0.551447  352.417278  \n",
      "max     1.067613  663.713470  \n"
     ]
    }
   ],
   "source": [
    "df_9 = pd.read_pickle('fitted_pyddm_cb_9_test')\n",
    "print(df_9.describe())"
   ]
  },
  {
   "cell_type": "code",
   "execution_count": 168,
   "metadata": {},
   "outputs": [
    {
     "name": "stdout",
     "output_type": "stream",
     "text": [
      "         subjects        age      drift  driftbias   boundary        tau  \\\n",
      "count   84.000000  84.000000  84.000000  84.000000  84.000000  84.000000   \n",
      "mean    55.928571   0.500000   0.680656   0.002692   1.832093   1.242918   \n",
      "std     27.505437   0.503003   0.308671   0.214929   1.604951   0.629068   \n",
      "min      9.000000   0.000000   0.009932  -0.500233   0.611664   0.249969   \n",
      "25%     31.750000   0.000000   0.444024  -0.136502   0.867918   0.819889   \n",
      "50%     57.500000   0.500000   0.683219  -0.003370   1.025142   1.094941   \n",
      "75%     80.250000   1.000000   0.903036   0.126882   1.799081   1.548011   \n",
      "max    101.000000   1.000000   1.595219   0.722031   6.000000   3.578665   \n",
      "\n",
      "       startbias     nondec         fit  \n",
      "count  84.000000  84.000000   84.000000  \n",
      "mean    0.022564   0.458904  257.482501  \n",
      "std     0.066378   0.164211  154.061159  \n",
      "min    -0.175923   0.056111  -69.558534  \n",
      "25%    -0.012125   0.387836  153.642604  \n",
      "50%     0.024559   0.482257  251.158953  \n",
      "75%     0.056583   0.543483  358.289979  \n",
      "max     0.166068   1.057907  669.797428  \n"
     ]
    }
   ],
   "source": [
    "df_10 = pd.read_pickle('fitted_pyddm_cb_10_test')\n",
    "print(df_10.describe())"
   ]
  },
  {
   "cell_type": "code",
   "execution_count": 122,
   "metadata": {},
   "outputs": [
    {
     "name": "stdout",
     "output_type": "stream",
     "text": [
      "         subjects        age      drift  driftbias   boundary        tau  \\\n",
      "count   84.000000  84.000000  84.000000  84.000000  84.000000  84.000000   \n",
      "mean    55.928571   0.500000   0.676163   0.071023   1.904541   1.263347   \n",
      "std     27.505437   0.503003   0.304403   0.120996   1.710547   0.617109   \n",
      "min      9.000000   0.000000   0.061418  -0.224648   0.615606   0.217714   \n",
      "25%     31.750000   0.000000   0.419436  -0.008460   0.884027   0.811088   \n",
      "50%     57.500000   0.500000   0.672783   0.059804   1.023436   1.157369   \n",
      "75%     80.250000   1.000000   0.922410   0.155661   2.039725   1.608613   \n",
      "max    101.000000   1.000000   1.572772   0.378487   6.000000   3.319042   \n",
      "\n",
      "          nondec         fit  \n",
      "count  84.000000   84.000000  \n",
      "mean    0.452465  255.621733  \n",
      "std     0.169150  154.223132  \n",
      "min     0.038448  -75.168450  \n",
      "25%     0.372277  148.779158  \n",
      "50%     0.483302  253.850789  \n",
      "75%     0.547981  352.411672  \n",
      "max     1.075053  664.782681  \n"
     ]
    }
   ],
   "source": [
    "df_7 = pd.read_pickle('fitted_pyddm_cb_7_test')\n",
    "print(df_7.describe())"
   ]
  },
  {
   "cell_type": "code",
   "execution_count": 3,
   "metadata": {},
   "outputs": [],
   "source": [
    "def age_grouping(df):\n",
    "    ya_df = df.loc[df['age'] == 0]\n",
    "    oa_df = df.loc[df['age'] == 1]\n",
    "    print(ya_df.describe())\n",
    "    print(oa_df.describe()) \n",
    "    #print(ya_df.head())\n",
    "    #print(oa_df.head())\n",
    "    return ya_df, oa_df"
   ]
  },
  {
   "cell_type": "code",
   "execution_count": 20,
   "metadata": {},
   "outputs": [
    {
     "name": "stdout",
     "output_type": "stream",
     "text": [
      "42.0\n"
     ]
    }
   ],
   "source": [
    "oa_n = 42\n",
    "ya_n = 42\n",
    "N = (oa_n+ya_n)/2\n",
    "print(N)"
   ]
  },
  {
   "cell_type": "code",
   "execution_count": 173,
   "metadata": {},
   "outputs": [
    {
     "name": "stdout",
     "output_type": "stream",
     "text": [
      "        subjects   age      drift   boundary        tau  startbias     nondec  \\\n",
      "count  42.000000  42.0  42.000000  42.000000  42.000000  42.000000  42.000000   \n",
      "mean   57.738095   0.0   0.765088   2.240028   1.277856   0.029855   0.453001   \n",
      "std    25.922078   0.0   0.314705   1.934620   0.603529   0.040943   0.186597   \n",
      "min     9.000000   0.0   0.022505   0.690000   0.294909  -0.077462   0.023619   \n",
      "25%    40.250000   0.0   0.558909   0.893241   0.878611   0.009561   0.359458   \n",
      "50%    60.500000   0.0   0.768423   1.175625   1.185140   0.024371   0.481483   \n",
      "75%    76.750000   0.0   0.981830   3.360000   1.601248   0.060593   0.533673   \n",
      "max    98.000000   0.0   1.581629   5.990000   2.575106   0.128654   1.067613   \n",
      "\n",
      "              fit  \n",
      "count   42.000000  \n",
      "mean   260.269559  \n",
      "std    170.316033  \n",
      "min    -75.322691  \n",
      "25%    149.384029  \n",
      "50%    273.098472  \n",
      "75%    388.727642  \n",
      "max    663.713470  \n",
      "         subjects   age      drift   boundary        tau  startbias  \\\n",
      "count   42.000000  42.0  42.000000  42.000000  42.000000  42.000000   \n",
      "mean    54.119048   1.0   0.587476   1.445420   1.223343   0.016733   \n",
      "std     29.204245   0.0   0.278786   1.210082   0.612303   0.031244   \n",
      "min     12.000000   1.0   0.116701   0.616976   0.448105  -0.046086   \n",
      "25%     28.250000   1.0   0.352051   0.844979   0.806417  -0.006224   \n",
      "50%     44.500000   1.0   0.573846   0.992688   1.100140   0.017180   \n",
      "75%     83.500000   1.0   0.778475   1.262031   1.511077   0.041769   \n",
      "max    101.000000   1.0   1.176373   5.914828   3.476269   0.074421   \n",
      "\n",
      "          nondec         fit  \n",
      "count  42.000000   42.000000  \n",
      "mean    0.464703  247.957932  \n",
      "std     0.131164  136.657770  \n",
      "min     0.100165   14.067196  \n",
      "25%     0.404369  156.989449  \n",
      "50%     0.496496  232.598341  \n",
      "75%     0.557573  324.385554  \n",
      "max     0.661259  579.200828  \n"
     ]
    }
   ],
   "source": [
    "ya_df, oa_df = age_grouping(df_9)"
   ]
  },
  {
   "cell_type": "code",
   "execution_count": 103,
   "metadata": {},
   "outputs": [
    {
     "name": "stdout",
     "output_type": "stream",
     "text": [
      "    subjects  age     drift  driftbias  boundary       tau  startbias  \\\n",
      "7         17    0  0.595155   0.058237  5.907072  1.381438   0.013358   \n",
      "9         20    0  0.567781   0.025180  1.001335  0.492649   0.073823   \n",
      "41        57    0  0.660488   0.011331  3.590000  1.213457   0.025613   \n",
      "54        71    0  0.686595   0.004234  2.442044  1.184858   0.035959   \n",
      "56        74    0  0.632978   0.182338  0.860000  0.225072  -0.040508   \n",
      "58        76    0  0.156027   0.297573  5.760000  1.563085  -0.062162   \n",
      "62        80    0  0.392595   0.029836  3.151718  0.925072   0.002749   \n",
      "77        95    0  0.491976   0.118545  5.647480  1.415117  -0.031812   \n",
      "\n",
      "      nondec         fit loss  \n",
      "7   0.177164  467.725203  BIC  \n",
      "9   0.519941  502.973026  BIC  \n",
      "41  0.180021  484.355922  BIC  \n",
      "54  0.310715  470.980590  BIC  \n",
      "56  0.490696  502.385567  BIC  \n",
      "58  0.344009  487.827432  BIC  \n",
      "62  0.051918  671.192161  BIC  \n",
      "77  0.198234  452.715284  BIC  \n"
     ]
    },
    {
     "data": {
      "text/html": [
       "<div>\n",
       "<style scoped>\n",
       "    .dataframe tbody tr th:only-of-type {\n",
       "        vertical-align: middle;\n",
       "    }\n",
       "\n",
       "    .dataframe tbody tr th {\n",
       "        vertical-align: top;\n",
       "    }\n",
       "\n",
       "    .dataframe thead th {\n",
       "        text-align: right;\n",
       "    }\n",
       "</style>\n",
       "<table border=\"1\" class=\"dataframe\">\n",
       "  <thead>\n",
       "    <tr style=\"text-align: right;\">\n",
       "      <th></th>\n",
       "      <th>subjects</th>\n",
       "      <th>age</th>\n",
       "      <th>drift</th>\n",
       "      <th>driftbias</th>\n",
       "      <th>boundary</th>\n",
       "      <th>tau</th>\n",
       "      <th>startbias</th>\n",
       "      <th>nondec</th>\n",
       "      <th>fit</th>\n",
       "      <th>loss</th>\n",
       "    </tr>\n",
       "  </thead>\n",
       "  <tbody>\n",
       "    <tr>\n",
       "      <th>27</th>\n",
       "      <td>38</td>\n",
       "      <td>1</td>\n",
       "      <td>0.421062</td>\n",
       "      <td>0.254587</td>\n",
       "      <td>4.190000</td>\n",
       "      <td>1.480923</td>\n",
       "      <td>-0.021187</td>\n",
       "      <td>0.316231</td>\n",
       "      <td>472.975824</td>\n",
       "      <td>BIC</td>\n",
       "    </tr>\n",
       "    <tr>\n",
       "      <th>40</th>\n",
       "      <td>54</td>\n",
       "      <td>1</td>\n",
       "      <td>0.557582</td>\n",
       "      <td>0.026428</td>\n",
       "      <td>2.120884</td>\n",
       "      <td>1.079495</td>\n",
       "      <td>0.012838</td>\n",
       "      <td>0.357873</td>\n",
       "      <td>471.643748</td>\n",
       "      <td>BIC</td>\n",
       "    </tr>\n",
       "    <tr>\n",
       "      <th>45</th>\n",
       "      <td>61</td>\n",
       "      <td>1</td>\n",
       "      <td>0.680444</td>\n",
       "      <td>0.000000</td>\n",
       "      <td>1.750000</td>\n",
       "      <td>0.935844</td>\n",
       "      <td>0.031155</td>\n",
       "      <td>0.472830</td>\n",
       "      <td>483.738342</td>\n",
       "      <td>BIC</td>\n",
       "    </tr>\n",
       "    <tr>\n",
       "      <th>63</th>\n",
       "      <td>81</td>\n",
       "      <td>1</td>\n",
       "      <td>0.376392</td>\n",
       "      <td>0.020301</td>\n",
       "      <td>1.570000</td>\n",
       "      <td>0.810884</td>\n",
       "      <td>0.021162</td>\n",
       "      <td>0.458033</td>\n",
       "      <td>584.225158</td>\n",
       "      <td>BIC</td>\n",
       "    </tr>\n",
       "    <tr>\n",
       "      <th>66</th>\n",
       "      <td>84</td>\n",
       "      <td>1</td>\n",
       "      <td>0.258316</td>\n",
       "      <td>0.042860</td>\n",
       "      <td>5.349767</td>\n",
       "      <td>1.298427</td>\n",
       "      <td>-0.011445</td>\n",
       "      <td>0.233838</td>\n",
       "      <td>563.727730</td>\n",
       "      <td>BIC</td>\n",
       "    </tr>\n",
       "  </tbody>\n",
       "</table>\n",
       "</div>"
      ],
      "text/plain": [
       "    subjects  age     drift  driftbias  boundary       tau  startbias  \\\n",
       "27        38    1  0.421062   0.254587  4.190000  1.480923  -0.021187   \n",
       "40        54    1  0.557582   0.026428  2.120884  1.079495   0.012838   \n",
       "45        61    1  0.680444   0.000000  1.750000  0.935844   0.031155   \n",
       "63        81    1  0.376392   0.020301  1.570000  0.810884   0.021162   \n",
       "66        84    1  0.258316   0.042860  5.349767  1.298427  -0.011445   \n",
       "\n",
       "      nondec         fit loss  \n",
       "27  0.316231  472.975824  BIC  \n",
       "40  0.357873  471.643748  BIC  \n",
       "45  0.472830  483.738342  BIC  \n",
       "63  0.458033  584.225158  BIC  \n",
       "66  0.233838  563.727730  BIC  "
      ]
     },
     "execution_count": 103,
     "metadata": {},
     "output_type": "execute_result"
    }
   ],
   "source": [
    "ya_fit_df = ya_df.loc[ya_df['fit'] >= 450]\n",
    "oa_fit_df = oa_df.loc[oa_df['fit'] >= 450]\n",
    "print(ya_fit_df)\n",
    "oa_fit_df"
   ]
  },
  {
   "cell_type": "code",
   "execution_count": 94,
   "metadata": {},
   "outputs": [
    {
     "name": "stdout",
     "output_type": "stream",
     "text": [
      "5\n"
     ]
    },
    {
     "data": {
      "text/plain": [
       "9"
      ]
     },
     "execution_count": 94,
     "metadata": {},
     "output_type": "execute_result"
    }
   ],
   "source": [
    "oa_good_fit_drift = oa_fit_df['drift']\n",
    "ya_good_fit_drift = ya_fit_df['drift']\n",
    "print(len(oa_good_fit_drift))\n",
    "len(ya_good_fit_drift)"
   ]
  },
  {
   "cell_type": "code",
   "execution_count": 96,
   "metadata": {},
   "outputs": [
    {
     "name": "stdout",
     "output_type": "stream",
     "text": [
      "6.5\n",
      "7.0\n"
     ]
    },
    {
     "data": {
      "text/plain": [
       "6.75"
      ]
     },
     "execution_count": 96,
     "metadata": {},
     "output_type": "execute_result"
    }
   ],
   "source": [
    "N_bad_fit = (5+8)/2\n",
    "print(N_bad_fit)\n",
    "N_good_fit = (5+9)/2\n",
    "print(N_good_fit)\n",
    "N_total = (N_bad_fit + N_good_fit)/2\n",
    "N_total"
   ]
  },
  {
   "cell_type": "code",
   "execution_count": 102,
   "metadata": {},
   "outputs": [
    {
     "name": "stdout",
     "output_type": "stream",
     "text": [
      "0.9190637855298893\n"
     ]
    },
    {
     "data": {
      "text/plain": [
       "0.9999968621467872"
      ]
     },
     "execution_count": 102,
     "metadata": {},
     "output_type": "execute_result"
    }
   ],
   "source": [
    "oa_good_fit_bound = oa_fit_df['boundary']\n",
    "ya_good_fit_bound = ya_fit_df['boundary']"
   ]
  },
  {
   "cell_type": "code",
   "execution_count": 105,
   "metadata": {},
   "outputs": [
    {
     "name": "stdout",
     "output_type": "stream",
     "text": [
      "5\n"
     ]
    },
    {
     "data": {
      "text/plain": [
       "8"
      ]
     },
     "execution_count": 105,
     "metadata": {},
     "output_type": "execute_result"
    }
   ],
   "source": [
    "oa_bad_fit_bound = oa_fit_df['boundary']\n",
    "ya_bad_fit_bound = ya_fit_df['boundary']\n",
    "print(len(oa_bad_fit_bound))\n",
    "len(ya_bad_fit_bound)"
   ]
  },
  {
   "cell_type": "code",
   "execution_count": 106,
   "metadata": {},
   "outputs": [
    {
     "name": "stdout",
     "output_type": "stream",
     "text": [
      "5\n"
     ]
    },
    {
     "data": {
      "text/plain": [
       "9"
      ]
     },
     "execution_count": 106,
     "metadata": {},
     "output_type": "execute_result"
    }
   ],
   "source": [
    "print(len(oa_good_fit_bound))\n",
    "len(ya_good_fit_bound)"
   ]
  },
  {
   "cell_type": "code",
   "execution_count": 110,
   "metadata": {},
   "outputs": [
    {
     "name": "stdout",
     "output_type": "stream",
     "text": [
      "t = -3.173995446325828\n",
      "p = 0.008409466313426288\n",
      "t = -3.6767629481541344\n",
      "p = 0.002243374598474189\n",
      "Good vs bad fit boundary YA (-3.173995446325828, 0.008409466313426288)\n",
      "t = -3.184008448486538\n",
      "p = 0.008257640358541955\n",
      "t = -2.740358154482684\n",
      "p = 0.02543514696425729\n",
      "Good vs bad fit boundary OA (-3.184008448486538, 0.008257640358541955)\n"
     ]
    }
   ],
   "source": [
    "print(\"Good vs bad fit boundary YA\", two_sample_t_test(ya_good_fit_bound,ya_bad_fit_bound, N_total))\n",
    "print(\"Good vs bad fit boundary OA\", two_sample_t_test(oa_good_fit_bound,oa_bad_fit_bound, N_total))"
   ]
  },
  {
   "cell_type": "code",
   "execution_count": 119,
   "metadata": {},
   "outputs": [],
   "source": [
    "# Create lists for the plot\n",
    "fits = ['good', 'bad']\n",
    "x_pos = np.arange(len(fits))\n",
    "CTEs = [ya_good_fit_bound.mean(), ya_bad_fit_bound.mean()]\n",
    "error = [np.std(ya_good_fit_bound), np.std(ya_bad_fit_bound)]"
   ]
  },
  {
   "cell_type": "code",
   "execution_count": 121,
   "metadata": {},
   "outputs": [
    {
     "data": {
      "image/png": "[encoded data removed]",
      "text/plain": [
       "<Figure size 432x288 with 1 Axes>"
      ]
     },
     "metadata": {},
     "output_type": "display_data"
    }
   ],
   "source": [
    "fig, ax = plt.subplots()\n",
    "ax.bar(x_pos, CTEs, yerr=error, align='center', alpha=0.5, ecolor='black', capsize=10)\n",
    "x1, x2 = 0, 1   \n",
    "y, h, col = ya_bad_fit_bound.max()-0.19,0.1, 'k'\n",
    "plt.plot([x1, x1, x2, x2], [y, y+h, y+h, y], lw=1, c=col)\n",
    "plt.text((x1+x2)*.5, y+h, '0.002', ha='center', va='bottom', color=col)\n",
    "ax.set_ylabel('boundary')\n",
    "ax.set_xticks(x_pos)\n",
    "ax.set_xticklabels(fits)\n",
    "ax.set_title('Good vs bad fit bound YA')\n",
    "ax.yaxis.grid(True)\n",
    "\n",
    "\n",
    "plt.tight_layout()\n",
    "plt.show()"
   ]
  },
  {
   "cell_type": "code",
   "execution_count": 109,
   "metadata": {},
   "outputs": [
    {
     "name": "stdout",
     "output_type": "stream",
     "text": [
      "t = 3.366010849352729\n",
      "p = 1.9940657581838195\n",
      "t = 3.7023515653151047\n",
      "p = 0.0021288108263133065\n",
      "Good vs bad fit drift YA (3.366010849352729, 1.9940657581838195)\n",
      "t = 2.1289018457093003\n",
      "p = 1.9443706081828223\n",
      "t = 1.8322669764760782\n",
      "p = 0.10427423012613445\n",
      "Good vs bad fit drift OA (2.1289018457093003, 1.9443706081828223)\n"
     ]
    }
   ],
   "source": [
    "print(\"Good vs bad fit drift YA\", two_sample_t_test(ya_good_fit_drift,ya_bad_fit_drift, N_total))\n",
    "print(\"Good vs bad fit drift OA\", two_sample_t_test(oa_good_fit_drift,oa_bad_fit_drift, N_total))"
   ]
  },
  {
   "cell_type": "code",
   "execution_count": 92,
   "metadata": {},
   "outputs": [
    {
     "name": "stdout",
     "output_type": "stream",
     "text": [
      "5\n"
     ]
    },
    {
     "data": {
      "text/plain": [
       "8"
      ]
     },
     "execution_count": 92,
     "metadata": {},
     "output_type": "execute_result"
    }
   ],
   "source": [
    "oa_bad_fit_drift = oa_fit_df['drift']\n",
    "ya_bad_fit_drift = ya_fit_df['drift']\n",
    "print(len(oa_bad_fit_drift))\n",
    "len(ya_bad_fit_drift)"
   ]
  },
  {
   "cell_type": "code",
   "execution_count": 170,
   "metadata": {},
   "outputs": [
    {
     "data": {
      "text/html": [
       "<div>\n",
       "<style scoped>\n",
       "    .dataframe tbody tr th:only-of-type {\n",
       "        vertical-align: middle;\n",
       "    }\n",
       "\n",
       "    .dataframe tbody tr th {\n",
       "        vertical-align: top;\n",
       "    }\n",
       "\n",
       "    .dataframe thead th {\n",
       "        text-align: right;\n",
       "    }\n",
       "</style>\n",
       "<table border=\"1\" class=\"dataframe\">\n",
       "  <thead>\n",
       "    <tr style=\"text-align: right;\">\n",
       "      <th></th>\n",
       "      <th>subjects</th>\n",
       "      <th>age</th>\n",
       "      <th>drift</th>\n",
       "      <th>driftbias</th>\n",
       "      <th>boundary</th>\n",
       "      <th>tau</th>\n",
       "      <th>startbias</th>\n",
       "      <th>nondec</th>\n",
       "      <th>fit</th>\n",
       "    </tr>\n",
       "  </thead>\n",
       "  <tbody>\n",
       "    <tr>\n",
       "      <th>count</th>\n",
       "      <td>42.000000</td>\n",
       "      <td>42.0</td>\n",
       "      <td>42.000000</td>\n",
       "      <td>42.000000</td>\n",
       "      <td>42.000000</td>\n",
       "      <td>42.000000</td>\n",
       "      <td>42.000000</td>\n",
       "      <td>42.000000</td>\n",
       "      <td>42.000000</td>\n",
       "    </tr>\n",
       "    <tr>\n",
       "      <th>mean</th>\n",
       "      <td>57.738095</td>\n",
       "      <td>0.0</td>\n",
       "      <td>0.770661</td>\n",
       "      <td>0.028432</td>\n",
       "      <td>2.243214</td>\n",
       "      <td>1.279526</td>\n",
       "      <td>0.022822</td>\n",
       "      <td>0.452177</td>\n",
       "      <td>263.934539</td>\n",
       "    </tr>\n",
       "    <tr>\n",
       "      <th>std</th>\n",
       "      <td>25.922078</td>\n",
       "      <td>0.0</td>\n",
       "      <td>0.312420</td>\n",
       "      <td>0.234021</td>\n",
       "      <td>1.886364</td>\n",
       "      <td>0.632679</td>\n",
       "      <td>0.077195</td>\n",
       "      <td>0.191148</td>\n",
       "      <td>170.433618</td>\n",
       "    </tr>\n",
       "    <tr>\n",
       "      <th>min</th>\n",
       "      <td>9.000000</td>\n",
       "      <td>0.0</td>\n",
       "      <td>0.009932</td>\n",
       "      <td>-0.500233</td>\n",
       "      <td>0.690000</td>\n",
       "      <td>0.249969</td>\n",
       "      <td>-0.175923</td>\n",
       "      <td>0.056111</td>\n",
       "      <td>-69.558534</td>\n",
       "    </tr>\n",
       "    <tr>\n",
       "      <th>25%</th>\n",
       "      <td>40.250000</td>\n",
       "      <td>0.0</td>\n",
       "      <td>0.579347</td>\n",
       "      <td>-0.116120</td>\n",
       "      <td>0.894077</td>\n",
       "      <td>0.886098</td>\n",
       "      <td>-0.006302</td>\n",
       "      <td>0.351216</td>\n",
       "      <td>154.164378</td>\n",
       "    </tr>\n",
       "    <tr>\n",
       "      <th>50%</th>\n",
       "      <td>60.500000</td>\n",
       "      <td>0.0</td>\n",
       "      <td>0.774878</td>\n",
       "      <td>0.037960</td>\n",
       "      <td>1.235314</td>\n",
       "      <td>1.162701</td>\n",
       "      <td>0.022667</td>\n",
       "      <td>0.479811</td>\n",
       "      <td>274.253270</td>\n",
       "    </tr>\n",
       "    <tr>\n",
       "      <th>75%</th>\n",
       "      <td>76.750000</td>\n",
       "      <td>0.0</td>\n",
       "      <td>0.958052</td>\n",
       "      <td>0.141860</td>\n",
       "      <td>3.667268</td>\n",
       "      <td>1.719463</td>\n",
       "      <td>0.054714</td>\n",
       "      <td>0.531391</td>\n",
       "      <td>392.671984</td>\n",
       "    </tr>\n",
       "    <tr>\n",
       "      <th>max</th>\n",
       "      <td>98.000000</td>\n",
       "      <td>0.0</td>\n",
       "      <td>1.595219</td>\n",
       "      <td>0.722031</td>\n",
       "      <td>6.000000</td>\n",
       "      <td>2.816976</td>\n",
       "      <td>0.166068</td>\n",
       "      <td>1.057907</td>\n",
       "      <td>669.797428</td>\n",
       "    </tr>\n",
       "  </tbody>\n",
       "</table>\n",
       "</div>"
      ],
      "text/plain": [
       "        subjects   age      drift  driftbias   boundary        tau  startbias  \\\n",
       "count  42.000000  42.0  42.000000  42.000000  42.000000  42.000000  42.000000   \n",
       "mean   57.738095   0.0   0.770661   0.028432   2.243214   1.279526   0.022822   \n",
       "std    25.922078   0.0   0.312420   0.234021   1.886364   0.632679   0.077195   \n",
       "min     9.000000   0.0   0.009932  -0.500233   0.690000   0.249969  -0.175923   \n",
       "25%    40.250000   0.0   0.579347  -0.116120   0.894077   0.886098  -0.006302   \n",
       "50%    60.500000   0.0   0.774878   0.037960   1.235314   1.162701   0.022667   \n",
       "75%    76.750000   0.0   0.958052   0.141860   3.667268   1.719463   0.054714   \n",
       "max    98.000000   0.0   1.595219   0.722031   6.000000   2.816976   0.166068   \n",
       "\n",
       "          nondec         fit  \n",
       "count  42.000000   42.000000  \n",
       "mean    0.452177  263.934539  \n",
       "std     0.191148  170.433618  \n",
       "min     0.056111  -69.558534  \n",
       "25%     0.351216  154.164378  \n",
       "50%     0.479811  274.253270  \n",
       "75%     0.531391  392.671984  \n",
       "max     1.057907  669.797428  "
      ]
     },
     "execution_count": 170,
     "metadata": {},
     "output_type": "execute_result"
    }
   ],
   "source": [
    "ya_df.describe()"
   ]
  },
  {
   "cell_type": "code",
   "execution_count": 171,
   "metadata": {},
   "outputs": [
    {
     "data": {
      "text/html": [
       "<div>\n",
       "<style scoped>\n",
       "    .dataframe tbody tr th:only-of-type {\n",
       "        vertical-align: middle;\n",
       "    }\n",
       "\n",
       "    .dataframe tbody tr th {\n",
       "        vertical-align: top;\n",
       "    }\n",
       "\n",
       "    .dataframe thead th {\n",
       "        text-align: right;\n",
       "    }\n",
       "</style>\n",
       "<table border=\"1\" class=\"dataframe\">\n",
       "  <thead>\n",
       "    <tr style=\"text-align: right;\">\n",
       "      <th></th>\n",
       "      <th>subjects</th>\n",
       "      <th>age</th>\n",
       "      <th>drift</th>\n",
       "      <th>driftbias</th>\n",
       "      <th>boundary</th>\n",
       "      <th>tau</th>\n",
       "      <th>startbias</th>\n",
       "      <th>nondec</th>\n",
       "      <th>fit</th>\n",
       "    </tr>\n",
       "  </thead>\n",
       "  <tbody>\n",
       "    <tr>\n",
       "      <th>count</th>\n",
       "      <td>42.000000</td>\n",
       "      <td>42.0</td>\n",
       "      <td>42.000000</td>\n",
       "      <td>42.000000</td>\n",
       "      <td>42.000000</td>\n",
       "      <td>42.000000</td>\n",
       "      <td>42.000000</td>\n",
       "      <td>42.000000</td>\n",
       "      <td>42.000000</td>\n",
       "    </tr>\n",
       "    <tr>\n",
       "      <th>mean</th>\n",
       "      <td>54.119048</td>\n",
       "      <td>1.0</td>\n",
       "      <td>0.590652</td>\n",
       "      <td>-0.023048</td>\n",
       "      <td>1.420972</td>\n",
       "      <td>1.206310</td>\n",
       "      <td>0.022307</td>\n",
       "      <td>0.465631</td>\n",
       "      <td>251.030463</td>\n",
       "    </tr>\n",
       "    <tr>\n",
       "      <th>std</th>\n",
       "      <td>29.204245</td>\n",
       "      <td>0.0</td>\n",
       "      <td>0.280492</td>\n",
       "      <td>0.193372</td>\n",
       "      <td>1.144513</td>\n",
       "      <td>0.630934</td>\n",
       "      <td>0.054410</td>\n",
       "      <td>0.134008</td>\n",
       "      <td>137.534264</td>\n",
       "    </tr>\n",
       "    <tr>\n",
       "      <th>min</th>\n",
       "      <td>12.000000</td>\n",
       "      <td>1.0</td>\n",
       "      <td>0.078782</td>\n",
       "      <td>-0.446324</td>\n",
       "      <td>0.611664</td>\n",
       "      <td>0.455202</td>\n",
       "      <td>-0.101896</td>\n",
       "      <td>0.083440</td>\n",
       "      <td>19.064289</td>\n",
       "    </tr>\n",
       "    <tr>\n",
       "      <th>25%</th>\n",
       "      <td>28.250000</td>\n",
       "      <td>1.0</td>\n",
       "      <td>0.378131</td>\n",
       "      <td>-0.149736</td>\n",
       "      <td>0.836243</td>\n",
       "      <td>0.780875</td>\n",
       "      <td>-0.013199</td>\n",
       "      <td>0.409481</td>\n",
       "      <td>155.789346</td>\n",
       "    </tr>\n",
       "    <tr>\n",
       "      <th>50%</th>\n",
       "      <td>44.500000</td>\n",
       "      <td>1.0</td>\n",
       "      <td>0.596058</td>\n",
       "      <td>-0.037871</td>\n",
       "      <td>0.982014</td>\n",
       "      <td>1.049752</td>\n",
       "      <td>0.032667</td>\n",
       "      <td>0.490658</td>\n",
       "      <td>237.560077</td>\n",
       "    </tr>\n",
       "    <tr>\n",
       "      <th>75%</th>\n",
       "      <td>83.500000</td>\n",
       "      <td>1.0</td>\n",
       "      <td>0.756416</td>\n",
       "      <td>0.112345</td>\n",
       "      <td>1.334233</td>\n",
       "      <td>1.453011</td>\n",
       "      <td>0.057638</td>\n",
       "      <td>0.562186</td>\n",
       "      <td>326.724778</td>\n",
       "    </tr>\n",
       "    <tr>\n",
       "      <th>max</th>\n",
       "      <td>101.000000</td>\n",
       "      <td>1.0</td>\n",
       "      <td>1.130524</td>\n",
       "      <td>0.505930</td>\n",
       "      <td>5.929932</td>\n",
       "      <td>3.578665</td>\n",
       "      <td>0.129782</td>\n",
       "      <td>0.664007</td>\n",
       "      <td>584.078633</td>\n",
       "    </tr>\n",
       "  </tbody>\n",
       "</table>\n",
       "</div>"
      ],
      "text/plain": [
       "         subjects   age      drift  driftbias   boundary        tau  \\\n",
       "count   42.000000  42.0  42.000000  42.000000  42.000000  42.000000   \n",
       "mean    54.119048   1.0   0.590652  -0.023048   1.420972   1.206310   \n",
       "std     29.204245   0.0   0.280492   0.193372   1.144513   0.630934   \n",
       "min     12.000000   1.0   0.078782  -0.446324   0.611664   0.455202   \n",
       "25%     28.250000   1.0   0.378131  -0.149736   0.836243   0.780875   \n",
       "50%     44.500000   1.0   0.596058  -0.037871   0.982014   1.049752   \n",
       "75%     83.500000   1.0   0.756416   0.112345   1.334233   1.453011   \n",
       "max    101.000000   1.0   1.130524   0.505930   5.929932   3.578665   \n",
       "\n",
       "       startbias     nondec         fit  \n",
       "count  42.000000  42.000000   42.000000  \n",
       "mean    0.022307   0.465631  251.030463  \n",
       "std     0.054410   0.134008  137.534264  \n",
       "min    -0.101896   0.083440   19.064289  \n",
       "25%    -0.013199   0.409481  155.789346  \n",
       "50%     0.032667   0.490658  237.560077  \n",
       "75%     0.057638   0.562186  326.724778  \n",
       "max     0.129782   0.664007  584.078633  "
      ]
     },
     "execution_count": 171,
     "metadata": {},
     "output_type": "execute_result"
    }
   ],
   "source": [
    "oa_df.describe()"
   ]
  },
  {
   "cell_type": "code",
   "execution_count": 128,
   "metadata": {},
   "outputs": [],
   "source": [
    "def two_sample_t_test(a,b, N):\n",
    "    \n",
    "## Calculate the Standard Deviation\n",
    "#Calculate the variance to get the standard deviation\n",
    "\n",
    "    #For unbiased max likelihood estimate we have to divide the var by N-1, and therefore the parameter ddof = 1\n",
    "    var_oa = a.var(ddof=1)\n",
    "    var_ya = b.var(ddof=1)\n",
    "\n",
    "    #std deviation\n",
    "    s = np.sqrt((var_oa + var_ya)/2)\n",
    "    #print(s)\n",
    "\n",
    "    \n",
    "\n",
    "    ## Calculate the t-statistics\n",
    "    t = (a.mean() - b.mean())/(s*np.sqrt(2/N))\n",
    "\n",
    "\n",
    "\n",
    "    ## Compare with the critical t-value\n",
    "    #Degrees of freedom\n",
    "    df = 2*N - 2\n",
    "\n",
    "    #p-value after comparison with the t \n",
    "    p = 1 - stats.t.cdf(t,df=df) #1- for negative t-values!\n",
    "\n",
    "\n",
    "    print(\"t = \" + str(t))\n",
    "    print(\"p = \" + str(2*p))\n",
    "  \n",
    "\n",
    "\n",
    "    ## Cross Checking with the internal scipy function\n",
    "    t2, p2 = stats.ttest_ind(a,b)\n",
    "    print(\"t = \" + str(t2))\n",
    "    print(\"p = \" + str(p2))\n",
    "    return t, 2*p"
   ]
  },
  {
   "cell_type": "code",
   "execution_count": 176,
   "metadata": {},
   "outputs": [
    {
     "data": {
      "text/plain": [
       "42.0"
      ]
     },
     "execution_count": 176,
     "metadata": {},
     "output_type": "execute_result"
    }
   ],
   "source": [
    "N"
   ]
  },
  {
   "cell_type": "code",
   "execution_count": 175,
   "metadata": {},
   "outputs": [
    {
     "name": "stdout",
     "output_type": "stream",
     "text": [
      "t = 2.7378099193243832\n",
      "p = 0.0075835247060032085\n",
      "t = 2.7378099193243806\n",
      "p = 0.007583524706003263\n",
      "Drift (2.7378099193243832, 0.0075835247060032085)\n",
      "t = 2.256739120523007\n",
      "p = 0.026684787902144347\n",
      "t = 2.2567391205230085\n",
      "p = 0.026684787902144277\n",
      "Boundary (2.256739120523007, 0.026684787902144347)\n",
      "t = 1.651109600435112\n",
      "p = 0.10254120070480477\n",
      "t = 1.6511096004351102\n",
      "p = 0.10254120070480512\n",
      "IC Bias (1.651109600435112, 0.10254120070480477)\n",
      "t = 0.4109148056357535\n",
      "p = 0.6822068739402485\n",
      "t = 0.4109148056357535\n",
      "p = 0.6822068739402487\n",
      "TAU (0.4109148056357535, 0.6822068739402485)\n",
      "t = -0.3325033185362104\n",
      "p = 1.259642241620635\n",
      "t = -0.3325033185362104\n",
      "p = 0.740357758379365\n",
      "Nondectime (-0.3325033185362104, 1.259642241620635)\n",
      "t = 0.36539179137717753\n",
      "p = 0.7157598010277701\n",
      "t = 0.36539179137718003\n",
      "p = 0.7157598010277686\n",
      "FIT (0.36539179137717753, 0.7157598010277701)\n"
     ]
    }
   ],
   "source": [
    "print(\"Drift\", two_sample_t_test(ya_df['drift'],oa_df['drift'], N))\n",
    "print(\"Boundary\", two_sample_t_test(ya_df['boundary'],oa_df['boundary'], N))\n",
    "print(\"IC Bias\", two_sample_t_test(ya_df['startbias'],oa_df['startbias'], N))\n",
    "print(\"TAU\", two_sample_t_test(ya_df['tau'],oa_df['tau'], N))\n",
    "print(\"Nondectime\", two_sample_t_test(ya_df['nondec'],oa_df['nondec'], N))\n",
    "#print(\"Drift bias\", two_sample_t_test(ya_df['driftbias'],oa_df['driftbias'], N))\n",
    "print(\"FIT\", two_sample_t_test(ya_df['fit'],oa_df['fit'], N))"
   ]
  },
  {
   "cell_type": "code",
   "execution_count": 8,
   "metadata": {},
   "outputs": [],
   "source": [
    "def plot_bar(df, parameter, p_val, model_type):\n",
    "    \n",
    "    fig, ax = plt.subplots(figsize=(8,6))\n",
    "\n",
    "    sns.set(style=\"whitegrid\")\n",
    "\n",
    "\n",
    "    sns.barplot(x=\"age\", y=parameter, data=df,  capsize=.1, color='lightblue') # ci=\"sd\"\n",
    "    sns.swarmplot(x=\"age\", y=parameter, data=df, color=\"0\", alpha=.35)\n",
    "    # show the mean\n",
    "    for p in ax.patches:\n",
    "        h, w, x = p.get_height(), p.get_width(), p.get_x()\n",
    "        xy = (x + w / 2., h / 2)\n",
    "        text = f'Mean:\\n{h:0.2f}'\n",
    "        ax.annotate(text=text, xy=xy, ha='center', va='center')\n",
    "\n",
    "    # statistical annotation\n",
    "    x1, x2 = 0, 1   \n",
    "    y, h, col = df[parameter].max()+0.09,0.09, 'k'\n",
    "    plt.plot([x1, x1, x2, x2], [y, y+h, y+h, y], lw=1, c=col)\n",
    "    plt.text((x1+x2)*.5, y+h, p_val, ha='center', va='bottom', color=col)\n",
    "    plt.title(\"Simple PyDDM {} OA vs YA {}\".format(model_type, parameter))\n",
    "    plt.savefig('/Users/terlau/ddm_plots/{}_test1_eyemem1_{}.png'.format(model_type, parameter))\n",
    "    plt.show()\n",
    "    plt.close()"
   ]
  },
  {
   "cell_type": "code",
   "execution_count": 158,
   "metadata": {},
   "outputs": [
    {
     "data": {
      "image/png": "[encoded data removed]",
      "text/plain": [
       "<Figure size 576x432 with 1 Axes>"
      ]
     },
     "metadata": {},
     "output_type": "display_data"
    }
   ],
   "source": [
    "plot_bar(df_9, 'drift', '0.007', 'cb_9')"
   ]
  },
  {
   "cell_type": "code",
   "execution_count": 146,
   "metadata": {},
   "outputs": [
    {
     "data": {
      "image/png": "[encoded data removed]",
      "text/plain": [
       "<Figure size 576x432 with 1 Axes>"
      ]
     },
     "metadata": {},
     "output_type": "display_data"
    }
   ],
   "source": [
    "plot_bar(df_10, 'driftbias', '0.274', 'cb_10')"
   ]
  },
  {
   "cell_type": "code",
   "execution_count": 147,
   "metadata": {},
   "outputs": [
    {
     "data": {
      "image/png": "[encoded data removed]",
      "text/plain": [
       "<Figure size 576x432 with 1 Axes>"
      ]
     },
     "metadata": {},
     "output_type": "display_data"
    }
   ],
   "source": [
    "plot_bar(df_10, 'boundary', '0.017', 'cb_10')"
   ]
  },
  {
   "cell_type": "code",
   "execution_count": 148,
   "metadata": {},
   "outputs": [
    {
     "data": {
      "image/png": "[encoded data removed]",
      "text/plain": [
       "<Figure size 576x432 with 1 Axes>"
      ]
     },
     "metadata": {},
     "output_type": "display_data"
    }
   ],
   "source": [
    "plot_bar(df_10, 'tau', '0.596', 'cb_10')"
   ]
  },
  {
   "cell_type": "code",
   "execution_count": 159,
   "metadata": {},
   "outputs": [
    {
     "data": {
      "image/png": "[encoded data removed]",
      "text/plain": [
       "<Figure size 576x432 with 1 Axes>"
      ]
     },
     "metadata": {},
     "output_type": "display_data"
    }
   ],
   "source": [
    "plot_bar(df_9, 'startbias', '0.102', 'cb_9')"
   ]
  },
  {
   "cell_type": "code",
   "execution_count": 150,
   "metadata": {},
   "outputs": [
    {
     "data": {
      "image/png": "[encoded data removed]",
      "text/plain": [
       "<Figure size 576x432 with 1 Axes>"
      ]
     },
     "metadata": {},
     "output_type": "display_data"
    }
   ],
   "source": [
    "plot_bar(df_10, 'nondec', '0.709', 'cb_10')"
   ]
  },
  {
   "cell_type": "code",
   "execution_count": 177,
   "metadata": {},
   "outputs": [
    {
     "data": {
      "image/png": "[encoded data removed]",
      "text/plain": [
       "<Figure size 576x432 with 1 Axes>"
      ]
     },
     "metadata": {},
     "output_type": "display_data"
    }
   ],
   "source": [
    "plot_bar(df_9, 'fit', '0.715', 'cb_9')"
   ]
  },
  {
   "cell_type": "code",
   "execution_count": null,
   "metadata": {},
   "outputs": [],
   "source": []
  }
 ],
 "metadata": {
  "kernelspec": {
   "display_name": "Python 3",
   "language": "python",
   "name": "python3"
  },
  "language_info": {
   "codemirror_mode": {
    "name": "ipython",
    "version": 3
   },
   "file_extension": ".py",
   "mimetype": "text/x-python",
   "name": "python",
   "nbconvert_exporter": "python",
   "pygments_lexer": "ipython3",
   "version": "3.8.3"
  }
 },
 "nbformat": 4,
 "nbformat_minor": 4
}
