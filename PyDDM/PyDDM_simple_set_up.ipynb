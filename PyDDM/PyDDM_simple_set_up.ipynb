{
 "cells": [
  {
   "cell_type": "code",
   "execution_count": null,
   "metadata": {},
   "outputs": [],
   "source": [
    "# Load all requirements, packages\n",
    "import scipy.io\n",
    "import seaborn as sns\n",
    "import numpy as np\n",
    "import ddm.plot # needs to be imported before matplotlib\n",
    "import matplotlib.pyplot as plt\n",
    "import pandas as pd\n",
    "import os, sys \n",
    "import ddm.models\n",
    "from itertools import product\n",
    "from ddm import Sample, Model, Fittable, Solution, Fitted, InitialCondition, Drift\n",
    "from ddm.functions import fit_adjust_model, display_model, fit_model, dependence_hit_boundary\n",
    "from ddm.models import DriftConstant, NoiseConstant,  BoundCollapsingExponential, LossRobustBIC, OverlayNonDecision,  ICRange\n",
    "from scipy import stats\n",
    "from scipy.stats import zscore\n",
    "from scipy.stats import ttest_ind\n",
    "from ddm.fitresult import FitResult, FitResultEmpty"
   ]
  },
  {
   "cell_type": "code",
   "execution_count": null,
   "metadata": {},
   "outputs": [],
   "source": [
    "# load behavioral data as pandas dataframe\n",
    "df = pd.read_csv(\"path/to/your/datafile\") # format should be the same as for hddm\n",
    "# Clean from Invalid Reaction Times \n",
    "data=df.loc[~df['rt'].isnull()]\n",
    "# remove trials with RTs faster than 0.2 seconds\n",
    "data = data[~(data['rt'] < 0.2)]  \n",
    "#data['rt'] = data[data[\"rt\"] > 1.65] # Remove trials greater than 1650ms\n",
    "data['z_rt'] = stats.zscore(data['rt'])\n",
    "# keep only trials within +3 to -3 standard deviations\n",
    "data = data[np.abs(data['z_rt']) < 3]\n",
    "#data = data[np.abs(data['rt']-data['rt'].mean()) <= (3*data['rt'].std())]\n",
    "\n",
    "# create a lst with unique sub ids\n",
    "SubjectList = np.unique(data['subj_idx'])\n",
    "data"
   ]
  },
  {
   "cell_type": "code",
   "execution_count": null,
   "metadata": {},
   "outputs": [],
   "source": [
    "#check to make sure no nan values are left\n",
    "data.isnull().sum()"
   ]
  },
  {
   "cell_type": "code",
   "execution_count": null,
   "metadata": {},
   "outputs": [],
   "source": [
    "# compute your own Drift Bias class\n",
    "class DriftRespBias(Drift):\n",
    "    name = \"Drift bias\"\n",
    "    required_parameters = [\"drift\", \"respbias\"] # <-- Parameters we want to include in the model\n",
    "    required_conditions = [\"resp\"] # <-- Task parameters (\"conditions\"). Should be the same name as in the sample.\n",
    "    \n",
    "    # We must always define the get_drift function, which is used to compute the instantaneous value of drift.\n",
    "    def get_drift(self, conditions, **kwargs):\n",
    "        # respbias is the fittable object (-1 to 1) multiplied with 1 or -1 dependent on \"yes\" or \"no\"\n",
    "        resp_bias = self.respbias * (1 if conditions['resp'] == 1 else -1)\n",
    "        #the fitted drift rate with the added resp_bias\n",
    "        return self.drift + resp_bias\n"
   ]
  },
  {
   "cell_type": "markdown",
   "metadata": {},
   "source": [
    "When fitting both the initial condition and the bound height, it can be preferable to express the initial condition as a proportion of the total distance between the bounds. This ensures that the initial condition will always stay within the bounds, preventing errors in fitting.\n"
   ]
  },
  {
   "cell_type": "code",
   "execution_count": null,
   "metadata": {},
   "outputs": [],
   "source": [
    "# implement your own starting point bias\n",
    "class ICPointRespRatio(InitialCondition):\n",
    "    name = \"A response-biased starting point expressed as a proportion of the distance between the bounds.\"\n",
    "    required_parameters = [\"x0\"]\n",
    "    required_conditions = [\"resp\"]\n",
    "    def get_IC(self, x, dx, conditions):\n",
    "        x0 = self.x0/2 + .5 #rescale to between 0 and 1\n",
    "        # resp bias > .5 for yes, resp bias < .5 for no response. \n",
    "        # positive bias for \"yes\" response conditions, negative for \"no\" \n",
    "        if not conditions['resp'] == 1:\n",
    "            x0 = 1-x0\n",
    "       \n",
    "        shift_i = int((len(x)-1)*x0)\n",
    "        assert shift_i >= 0 and shift_i < len(x), \"Invalid initial conditions\"\n",
    "        pdf = np.zeros(len(x))\n",
    "        pdf[shift_i] = 1. # Initial condition at x=x0*2*B.\n",
    "        return pdf "
   ]
  },
  {
   "cell_type": "markdown",
   "metadata": {},
   "source": [
    "Analytic solutions are only possible in a select number of special cases; in particular, it works for simple DDM and for linearly collapsing bounds and arbitrary single-point initial conditions. (See Anderson (1960) for implementation details.) For most reasonably complex models, the method will fail. Check whether a solution is possible with has_analytic_solution()\n"
   ]
  },
  {
   "cell_type": "code",
   "execution_count": null,
   "metadata": {},
   "outputs": [],
   "source": [
    "def setup_model():\n",
    "    \"\"\"\n",
    "    Function to setup model. \n",
    "    \"\"\"\n",
    "    model = Model(name='IC Bias model',\n",
    "            #drift=DriftConstant(drift=1),#Fittable(minval=0, maxval=4)\n",
    "            drift=DriftRespBias(drift=Fittable(minval=0, maxval=4),respbias=Fittable(minval=-1, maxval=1)),\n",
    "            noise=NoiseConstant(noise=1),\n",
    "            bound = BoundCollapsingExponential(B=Fittable(minval=0, maxval=6),tau=Fittable(minval=0.001,maxval=5)),\n",
    "            #bound=BoundConstant(B=Fittable(minval=0, maxval=2)),\n",
    "            IC=ICPointRespRatio(x0=Fittable(minval=-1, maxval=1)),\n",
    "            #IC = ICPointResp(x0=0)\n",
    "            overlay=OverlayNonDecision(nondectime=Fittable(minval=0, maxval=2)),\n",
    "            dx=.01, dt=.01, T_dur=2.5)      \n",
    "      \n",
    "    return model"
   ]
  },
  {
   "cell_type": "code",
   "execution_count": null,
   "metadata": {},
   "outputs": [],
   "source": [
    "subjects = []\n",
    "drift = []\n",
    "driftbias = []\n",
    "boundary = []\n",
    "nondectime = []\n",
    "ICbias = []\n",
    "fit = []\n",
    "loss = []\n",
    "age = []\n",
    "tau = []\n",
    "\n",
    "    \n",
    "for sub in SubjectList:\n",
    "   \n",
    "    sub_df = data[data['subj_idx'] == sub]\n",
    "    if sub in [40, 45, 48, 56]:\n",
    "        print(np.unique(sub_df['stim']))\n",
    "        continue\n",
    "    else:\n",
    "        resp = np.unique(sub_df[\"response\"][(sub_df[\"stim\"] == 1) & (sub_df[\"accuracy\"] == 1)])\n",
    "        print(resp[0])\n",
    "        sub_df['resp']=np.where(sub_df[\"response\"] == resp[0],1,0)\n",
    "\n",
    "    #Load Data\n",
    "    sample = Sample.from_pandas_dataframe(sub_df, rt_column_name=\"rt\", correct_column_name=\"accuracy\")\n",
    "    print(\"mean decision time\", sample.mean_decision_time())\n",
    "    print(\"condition names\", sample.condition_names())\n",
    "    print(\"probability of correct and error trials\", sample.prob_correct(), sample.prob_error())\n",
    "    print(\"probability of undecided trials\", sample.prob_undecided())\n",
    "    #print(sample.corr) # RT for correct trials\n",
    "    #plt.plot(sample.corr)\n",
    "    #plt.plot(sample.err)\n",
    "    #plt.show()\n",
    "   \n",
    "    #print(\"correct + error component of the joint CDF\")\n",
    "    #plt.plot(sample.cdf_corr())\n",
    "    #plt.plot(sample.cdf_err())\n",
    "    #plt.show()\n",
    "    \n",
    "    \n",
    " \n",
    "    #Set up and fit ddm model\n",
    "    simple_model = setup_model()\n",
    "    print(simple_model.has_analytical_solution()) #False if collapsing bounds, can't apply solve function to this model then\n",
    "    print(simple_model.can_solve_cn()) # False if collapsing bounds, solving numerically with Crank-Nicolson won't work then\n",
    "    \n",
    "    \n",
    "    fit_model = fit_adjust_model(sample=sample, model=simple_model, lossfunction=LossRobustBIC, verbose=False)\n",
    "    print(\"Fitted\", fit_model.get_fit_result())\n",
    "\n",
    "\n",
    "    print(sub)\n",
    "    #print(simple_model.get_model_parameters())\n",
    "    #display_model(fit_model)\n",
    "\n",
    "    \n",
    "    age.append(np.unique(sub_df['age'])[0])\n",
    "    subjects.append(np.unique(sub_df['subj_idx'])[0])\n",
    "    drift.append(float(simple_model.get_model_parameters()[0]))\n",
    "    driftbias.append(float(simple_model.get_model_parameters()[1])) \n",
    "    boundary.append(float(simple_model.get_model_parameters()[2]))\n",
    "    tau.append(float(simple_model.get_model_parameters()[3])) \n",
    "    ICbias.append(float(simple_model.get_model_parameters()[4])) \n",
    "    nondectime.append(float(simple_model.get_model_parameters()[5]))\n",
    "    fit.append(simple_model.fitresult.value())\n",
    "    loss.append(simple_model.fitresult.loss)\n",
    "   # s = fit_model.solve()\n",
    "   # print(\"correct RTs prob\", s.prob_correct()) \n",
    "   \n",
    "\n",
    "    ddm.plot.plot_fit_diagnostics(model=fit_model, sample=sample)\n",
    "    plt.title(\"Drift {}, driftbias {}, Bound {}, tau {}, \\n startbias {}, nondectime {}, fit {}\".format(float(simple_model.get_model_parameters()[0]),\n",
    "                                                                                                 float(simple_model.get_model_parameters()[1]),\n",
    "                                                                                                 float(simple_model.get_model_parameters()[2]),\n",
    "                                                                                                 float(simple_model.get_model_parameters()[3]),\n",
    "                                                                                                 float(simple_model.get_model_parameters()[4]),\n",
    "                                                                                                 float(simple_model.get_model_parameters()[5]),\n",
    "                                                                                                 simple_model.fitresult.value()), y=2)\n",
    "\n",
    "    \n",
    "       \n",
    "    plt.savefig('path/where/you/want/to/save/figure/modelName_studyName_sub_{}.png'.format(sub), bbox_inches='tight')\n",
    "    #plt.show()\n",
    "    plt.close()\n",
    "    #ddm.plot.model_gui_jupyter(model=fit_model, sample=sample)"
   ]
  },
  {
   "cell_type": "code",
   "execution_count": null,
   "metadata": {},
   "outputs": [],
   "source": [
    "# create dictonary from the lists of fitted model parameters\n",
    "fit_dict= {'subjects': subjects, 'age': age, 'drift': drift, 'driftbias': driftbias, 'boundary': boundary, 'tau': tau, 'startbias': ICbias, 'nondec': nondectime, 'fit': fit, 'loss': loss}\n",
    "# create dataframe from dictonary\n",
    "fit_df = pd.DataFrame(fit_dict)\n"
   ]
  },
  {
   "cell_type": "code",
   "execution_count": null,
   "metadata": {},
   "outputs": [],
   "source": [
    "# save df \n",
    "fit_df.to_pickle('fitted_df_filename') \n",
    "fit_df"
   ]
  },
  {
   "cell_type": "code",
   "execution_count": null,
   "metadata": {},
   "outputs": [],
   "source": [
    "# read in saved df\n",
    "df_10 = pd.read_pickle('fitted_df_filename')\n",
    "print(df_10.describe())"
   ]
  },
  {
   "cell_type": "code",
   "execution_count": null,
   "metadata": {},
   "outputs": [],
   "source": [
    "def age_grouping(df):\n",
    "    \n",
    "    \"\"\"\n",
    "    function to divide one df into two based on age\n",
    "    returns one df for OA and one for YA\n",
    "    \"\"\"\n",
    "    ya_df = df.loc[df['age'] == 0]\n",
    "    oa_df = df.loc[df['age'] == 1]\n",
    "    print(ya_df.describe())\n",
    "    print(oa_df.describe()) \n",
    "    #print(ya_df.head())\n",
    "    #print(oa_df.head())\n",
    "    return ya_df, oa_df"
   ]
  },
  {
   "cell_type": "code",
   "execution_count": null,
   "metadata": {},
   "outputs": [],
   "source": [
    "ya_df, oa_df = age_grouping(df_10)"
   ]
  }
 ],
 "metadata": {
  "kernelspec": {
   "display_name": "Python 3",
   "language": "python",
   "name": "python3"
  },
  "language_info": {
   "codemirror_mode": {
    "name": "ipython",
    "version": 3
   },
   "file_extension": ".py",
   "mimetype": "text/x-python",
   "name": "python",
   "nbconvert_exporter": "python",
   "pygments_lexer": "ipython3",
   "version": "3.8.3"
  }
 },
 "nbformat": 4,
 "nbformat_minor": 4
}
