{
 "cells": [
  {
   "cell_type": "code",
   "execution_count": 26,
   "metadata": {},
   "outputs": [],
   "source": [
    "import pandas as pd\n",
    "df = pd.read_csv(\"/Users/terlau/LNDG/EyeMem/EyeMem_1/DDM/EyeMem_hddm_study.csv\")"
   ]
  },
  {
   "cell_type": "code",
   "execution_count": 27,
   "metadata": {},
   "outputs": [
    {
     "name": "stdout",
     "output_type": "stream",
     "text": [
      "       subj_idx  category  stim  response  accuracy     rt  age\n",
      "0             9         3     1       2.0         1  0.971    0\n",
      "1             9         3     1       1.0         0  1.367    0\n",
      "2             9         3     0       1.0         1  0.989    0\n",
      "3             9         3     1       2.0         1  0.692    0\n",
      "4             9         3     0       1.0         1  0.806    0\n",
      "...         ...       ...   ...       ...       ...    ...  ...\n",
      "12366       101         3     1       1.0         1  0.645    1\n",
      "12367       101         3     1       1.0         1  1.858    1\n",
      "12368       101         3     0       2.0         1  0.759    1\n",
      "12369       101         3     1       1.0         1  0.584    1\n",
      "12370       101         3     0       2.0         1  0.770    1\n",
      "\n",
      "[12371 rows x 7 columns]\n"
     ]
    },
    {
     "data": {
      "text/html": [
       "<div>\n",
       "<style scoped>\n",
       "    .dataframe tbody tr th:only-of-type {\n",
       "        vertical-align: middle;\n",
       "    }\n",
       "\n",
       "    .dataframe tbody tr th {\n",
       "        vertical-align: top;\n",
       "    }\n",
       "\n",
       "    .dataframe thead th {\n",
       "        text-align: right;\n",
       "    }\n",
       "</style>\n",
       "<table border=\"1\" class=\"dataframe\">\n",
       "  <thead>\n",
       "    <tr style=\"text-align: right;\">\n",
       "      <th></th>\n",
       "      <th>subj_idx</th>\n",
       "      <th>category</th>\n",
       "      <th>stim</th>\n",
       "      <th>response</th>\n",
       "      <th>accuracy</th>\n",
       "      <th>rt</th>\n",
       "      <th>age</th>\n",
       "    </tr>\n",
       "  </thead>\n",
       "  <tbody>\n",
       "    <tr>\n",
       "      <th>0</th>\n",
       "      <td>9</td>\n",
       "      <td>3</td>\n",
       "      <td>1</td>\n",
       "      <td>2.0</td>\n",
       "      <td>1</td>\n",
       "      <td>0.971</td>\n",
       "      <td>0</td>\n",
       "    </tr>\n",
       "    <tr>\n",
       "      <th>1</th>\n",
       "      <td>9</td>\n",
       "      <td>3</td>\n",
       "      <td>1</td>\n",
       "      <td>1.0</td>\n",
       "      <td>0</td>\n",
       "      <td>1.367</td>\n",
       "      <td>0</td>\n",
       "    </tr>\n",
       "    <tr>\n",
       "      <th>2</th>\n",
       "      <td>9</td>\n",
       "      <td>3</td>\n",
       "      <td>0</td>\n",
       "      <td>1.0</td>\n",
       "      <td>1</td>\n",
       "      <td>0.989</td>\n",
       "      <td>0</td>\n",
       "    </tr>\n",
       "    <tr>\n",
       "      <th>3</th>\n",
       "      <td>9</td>\n",
       "      <td>3</td>\n",
       "      <td>1</td>\n",
       "      <td>2.0</td>\n",
       "      <td>1</td>\n",
       "      <td>0.692</td>\n",
       "      <td>0</td>\n",
       "    </tr>\n",
       "    <tr>\n",
       "      <th>4</th>\n",
       "      <td>9</td>\n",
       "      <td>3</td>\n",
       "      <td>0</td>\n",
       "      <td>1.0</td>\n",
       "      <td>1</td>\n",
       "      <td>0.806</td>\n",
       "      <td>0</td>\n",
       "    </tr>\n",
       "    <tr>\n",
       "      <th>...</th>\n",
       "      <td>...</td>\n",
       "      <td>...</td>\n",
       "      <td>...</td>\n",
       "      <td>...</td>\n",
       "      <td>...</td>\n",
       "      <td>...</td>\n",
       "      <td>...</td>\n",
       "    </tr>\n",
       "    <tr>\n",
       "      <th>144</th>\n",
       "      <td>9</td>\n",
       "      <td>4</td>\n",
       "      <td>0</td>\n",
       "      <td>1.0</td>\n",
       "      <td>1</td>\n",
       "      <td>0.915</td>\n",
       "      <td>0</td>\n",
       "    </tr>\n",
       "    <tr>\n",
       "      <th>145</th>\n",
       "      <td>9</td>\n",
       "      <td>4</td>\n",
       "      <td>0</td>\n",
       "      <td>1.0</td>\n",
       "      <td>1</td>\n",
       "      <td>0.717</td>\n",
       "      <td>0</td>\n",
       "    </tr>\n",
       "    <tr>\n",
       "      <th>146</th>\n",
       "      <td>9</td>\n",
       "      <td>4</td>\n",
       "      <td>1</td>\n",
       "      <td>2.0</td>\n",
       "      <td>1</td>\n",
       "      <td>0.649</td>\n",
       "      <td>0</td>\n",
       "    </tr>\n",
       "    <tr>\n",
       "      <th>147</th>\n",
       "      <td>9</td>\n",
       "      <td>4</td>\n",
       "      <td>1</td>\n",
       "      <td>2.0</td>\n",
       "      <td>1</td>\n",
       "      <td>0.667</td>\n",
       "      <td>0</td>\n",
       "    </tr>\n",
       "    <tr>\n",
       "      <th>148</th>\n",
       "      <td>9</td>\n",
       "      <td>4</td>\n",
       "      <td>1</td>\n",
       "      <td>2.0</td>\n",
       "      <td>1</td>\n",
       "      <td>0.718</td>\n",
       "      <td>0</td>\n",
       "    </tr>\n",
       "  </tbody>\n",
       "</table>\n",
       "<p>149 rows × 7 columns</p>\n",
       "</div>"
      ],
      "text/plain": [
       "     subj_idx  category  stim  response  accuracy     rt  age\n",
       "0           9         3     1       2.0         1  0.971    0\n",
       "1           9         3     1       1.0         0  1.367    0\n",
       "2           9         3     0       1.0         1  0.989    0\n",
       "3           9         3     1       2.0         1  0.692    0\n",
       "4           9         3     0       1.0         1  0.806    0\n",
       "..        ...       ...   ...       ...       ...    ...  ...\n",
       "144         9         4     0       1.0         1  0.915    0\n",
       "145         9         4     0       1.0         1  0.717    0\n",
       "146         9         4     1       2.0         1  0.649    0\n",
       "147         9         4     1       2.0         1  0.667    0\n",
       "148         9         4     1       2.0         1  0.718    0\n",
       "\n",
       "[149 rows x 7 columns]"
      ]
     },
     "execution_count": 27,
     "metadata": {},
     "output_type": "execute_result"
    }
   ],
   "source": [
    "print(df)\n",
    "behav_1_sub9 = df[df[\"subj_idx\"] == 9]\n",
    "behav_1_sub9"
   ]
  },
  {
   "cell_type": "code",
   "execution_count": 14,
   "metadata": {},
   "outputs": [
    {
     "data": {
      "text/html": [
       "<div>\n",
       "<style scoped>\n",
       "    .dataframe tbody tr th:only-of-type {\n",
       "        vertical-align: middle;\n",
       "    }\n",
       "\n",
       "    .dataframe tbody tr th {\n",
       "        vertical-align: top;\n",
       "    }\n",
       "\n",
       "    .dataframe thead th {\n",
       "        text-align: right;\n",
       "    }\n",
       "</style>\n",
       "<table border=\"1\" class=\"dataframe\">\n",
       "  <thead>\n",
       "    <tr style=\"text-align: right;\">\n",
       "      <th></th>\n",
       "      <th>subj_idx</th>\n",
       "      <th>category</th>\n",
       "      <th>stim</th>\n",
       "      <th>response</th>\n",
       "      <th>accuracy</th>\n",
       "      <th>rt</th>\n",
       "      <th>age</th>\n",
       "    </tr>\n",
       "  </thead>\n",
       "  <tbody>\n",
       "    <tr>\n",
       "      <th>0</th>\n",
       "      <td>9</td>\n",
       "      <td>3</td>\n",
       "      <td>1</td>\n",
       "      <td>2.0</td>\n",
       "      <td>1</td>\n",
       "      <td>0.971</td>\n",
       "      <td>0</td>\n",
       "    </tr>\n",
       "    <tr>\n",
       "      <th>1</th>\n",
       "      <td>9</td>\n",
       "      <td>3</td>\n",
       "      <td>1</td>\n",
       "      <td>1.0</td>\n",
       "      <td>0</td>\n",
       "      <td>1.367</td>\n",
       "      <td>0</td>\n",
       "    </tr>\n",
       "    <tr>\n",
       "      <th>2</th>\n",
       "      <td>9</td>\n",
       "      <td>3</td>\n",
       "      <td>0</td>\n",
       "      <td>1.0</td>\n",
       "      <td>1</td>\n",
       "      <td>0.989</td>\n",
       "      <td>0</td>\n",
       "    </tr>\n",
       "    <tr>\n",
       "      <th>3</th>\n",
       "      <td>9</td>\n",
       "      <td>3</td>\n",
       "      <td>1</td>\n",
       "      <td>2.0</td>\n",
       "      <td>1</td>\n",
       "      <td>0.692</td>\n",
       "      <td>0</td>\n",
       "    </tr>\n",
       "    <tr>\n",
       "      <th>4</th>\n",
       "      <td>9</td>\n",
       "      <td>3</td>\n",
       "      <td>0</td>\n",
       "      <td>1.0</td>\n",
       "      <td>1</td>\n",
       "      <td>0.806</td>\n",
       "      <td>0</td>\n",
       "    </tr>\n",
       "    <tr>\n",
       "      <th>...</th>\n",
       "      <td>...</td>\n",
       "      <td>...</td>\n",
       "      <td>...</td>\n",
       "      <td>...</td>\n",
       "      <td>...</td>\n",
       "      <td>...</td>\n",
       "      <td>...</td>\n",
       "    </tr>\n",
       "    <tr>\n",
       "      <th>144</th>\n",
       "      <td>9</td>\n",
       "      <td>4</td>\n",
       "      <td>0</td>\n",
       "      <td>1.0</td>\n",
       "      <td>1</td>\n",
       "      <td>0.915</td>\n",
       "      <td>0</td>\n",
       "    </tr>\n",
       "    <tr>\n",
       "      <th>145</th>\n",
       "      <td>9</td>\n",
       "      <td>4</td>\n",
       "      <td>0</td>\n",
       "      <td>1.0</td>\n",
       "      <td>1</td>\n",
       "      <td>0.717</td>\n",
       "      <td>0</td>\n",
       "    </tr>\n",
       "    <tr>\n",
       "      <th>146</th>\n",
       "      <td>9</td>\n",
       "      <td>4</td>\n",
       "      <td>1</td>\n",
       "      <td>2.0</td>\n",
       "      <td>1</td>\n",
       "      <td>0.649</td>\n",
       "      <td>0</td>\n",
       "    </tr>\n",
       "    <tr>\n",
       "      <th>147</th>\n",
       "      <td>9</td>\n",
       "      <td>4</td>\n",
       "      <td>1</td>\n",
       "      <td>2.0</td>\n",
       "      <td>1</td>\n",
       "      <td>0.667</td>\n",
       "      <td>0</td>\n",
       "    </tr>\n",
       "    <tr>\n",
       "      <th>148</th>\n",
       "      <td>9</td>\n",
       "      <td>4</td>\n",
       "      <td>1</td>\n",
       "      <td>2.0</td>\n",
       "      <td>1</td>\n",
       "      <td>0.718</td>\n",
       "      <td>0</td>\n",
       "    </tr>\n",
       "  </tbody>\n",
       "</table>\n",
       "<p>149 rows × 7 columns</p>\n",
       "</div>"
      ],
      "text/plain": [
       "     subj_idx  category  stim  response  accuracy     rt  age\n",
       "0           9         3     1       2.0         1  0.971    0\n",
       "1           9         3     1       1.0         0  1.367    0\n",
       "2           9         3     0       1.0         1  0.989    0\n",
       "3           9         3     1       2.0         1  0.692    0\n",
       "4           9         3     0       1.0         1  0.806    0\n",
       "..        ...       ...   ...       ...       ...    ...  ...\n",
       "144         9         4     0       1.0         1  0.915    0\n",
       "145         9         4     0       1.0         1  0.717    0\n",
       "146         9         4     1       2.0         1  0.649    0\n",
       "147         9         4     1       2.0         1  0.667    0\n",
       "148         9         4     1       2.0         1  0.718    0\n",
       "\n",
       "[149 rows x 7 columns]"
      ]
     },
     "execution_count": 14,
     "metadata": {},
     "output_type": "execute_result"
    }
   ],
   "source": [
    "# Remove short and long RTs, as in 10.1523/JNEUROSCI.4684-04.2005.\n",
    "# This is not strictly necessary, but is performed here for\n",
    "# compatibility with this study.\n",
    "df_rt = behav_1_sub9[behav_1_sub9[\"rt\"] > .1] # Remove trials less than 100ms\n",
    "df_rt = df_rt[df_rt[\"rt\"] < 1.65] # Remove trials greater than 1650ms\n",
    "df_rt"
   ]
  },
  {
   "cell_type": "code",
   "execution_count": 17,
   "metadata": {},
   "outputs": [
    {
     "data": {
      "text/plain": [
       "<ddm.sample.Sample at 0x122e983d0>"
      ]
     },
     "execution_count": 17,
     "metadata": {},
     "output_type": "execute_result"
    }
   ],
   "source": [
    "from ddm import Sample\n",
    "# Create a sample object from our data.  This is the standard input\n",
    "# format for fitting procedures.  Since RT and correct/error are\n",
    "# both mandatory columns, their names are specified by command line\n",
    "# arguments.\n",
    "test_sample = Sample.from_pandas_dataframe(df_rt, rt_column_name=\"rt\", correct_column_name=\"accuracy\")"
   ]
  },
  {
   "cell_type": "code",
   "execution_count": 18,
   "metadata": {},
   "outputs": [],
   "source": [
    "import ddm.models\n",
    "#drift rate vary with the stim (ie if target present or not) as drift represents evidence and this differes dependent on stim\n",
    "#how do we include age or category?\n",
    "class DriftCoherence(ddm.models.Drift):\n",
    "    name = \"Drift depends linearly on coherence\"\n",
    "    required_parameters = [\"driftcoh\"] # <-- Parameters we want to include in the model\n",
    "    required_conditions = [\"stim\"] # <-- Task parameters (\"conditions\"). Should be the same name as in the sample.\n",
    "    \n",
    "    # We must always define the get_drift function, which is used to compute the instantaneous value of drift.\n",
    "    def get_drift(self, conditions, **kwargs):\n",
    "        return self.driftcoh * conditions['stim']\n"
   ]
  },
  {
   "cell_type": "code",
   "execution_count": 20,
   "metadata": {},
   "outputs": [
    {
     "name": "stdout",
     "output_type": "stream",
     "text": [
      "Params [1.93941697 0.76928782 0.3919448 ] gave 32.26820396817868\n"
     ]
    }
   ],
   "source": [
    "from ddm import Model, Fittable\n",
    "from ddm.functions import fit_adjust_model, display_model\n",
    "from ddm.models import NoiseConstant, BoundConstant, OverlayChain, OverlayNonDecision, OverlayPoissonMixture\n",
    "model_rs = Model(name='test data, drift varies with stim',\n",
    "                 drift=DriftCoherence(driftcoh=Fittable(minval=0, maxval=20)),\n",
    "                 noise=NoiseConstant(noise=1),\n",
    "                 bound=BoundConstant(B=Fittable(minval=.1, maxval=1.5)),\n",
    "                 # Since we can only have one overlay, we use\n",
    "                 # OverlayChain to string together multiple overlays.\n",
    "                 # They are applied sequentially in order.  OverlayNonDecision\n",
    "                 # implements a non-decision time by shifting the\n",
    "                 # resulting distribution of response times by\n",
    "                 # `nondectime` seconds.\n",
    "                 overlay=OverlayChain(overlays=[OverlayNonDecision(nondectime=Fittable(minval=0, maxval=.4)),\n",
    "                                                OverlayPoissonMixture(pmixturecoef=.02,\n",
    "                                                                      rate=1)]),\n",
    "                 dx=.001, dt=.01, T_dur=2)\n",
    "\n",
    "# Fitting this will also be fast because PyDDM can automatically\n",
    "# determine that DriftCoherence will allow an analytical solution.\n",
    "fit_model_rs = fit_adjust_model(sample=test_sample, model=model_rs, verbose=False)\n"
   ]
  },
  {
   "cell_type": "code",
   "execution_count": 21,
   "metadata": {},
   "outputs": [
    {
     "name": "stdout",
     "output_type": "stream",
     "text": [
      "Model test data, drift varies with stim information:\n",
      "Drift component DriftCoherence:\n",
      "    Drift depends linearly on coherence\n",
      "    Fitted parameters:\n",
      "    - driftcoh: 1.939417\n",
      "Noise component NoiseConstant:\n",
      "    constant\n",
      "    Fixed parameters:\n",
      "    - noise: 1.000000\n",
      "Bound component BoundConstant:\n",
      "    constant\n",
      "    Fitted parameters:\n",
      "    - B: 0.769288\n",
      "IC component ICPointSourceCenter:\n",
      "    point_source_center\n",
      "    (No parameters)\n",
      "Overlay component OverlayChain:\n",
      "    Overlay component OverlayNonDecision:\n",
      "        Add a non-decision by shifting the histogram\n",
      "        Fitted parameters:\n",
      "        - nondectime: 0.391945\n",
      "    Overlay component OverlayPoissonMixture:\n",
      "        Poisson distribution mixture model (lapse rate)\n",
      "        Fixed parameters:\n",
      "        - pmixturecoef: 0.020000\n",
      "        - rate: 1.000000\n",
      "Fit information:\n",
      "    Loss function: Negative log likelihood\n",
      "    Loss function value: 32.26820396817868\n",
      "    Fitting method: differential_evolution\n",
      "    Solver: auto\n",
      "    Other properties:\n",
      "        - nparams: 3\n",
      "        - samplesize: 149\n",
      "        - mess: ''\n",
      "\n"
     ]
    }
   ],
   "source": [
    "display_model(fit_model_rs)"
   ]
  },
  {
   "cell_type": "code",
   "execution_count": 22,
   "metadata": {},
   "outputs": [
    {
     "data": {
      "image/png": "[encoded data removed]",
      "text/plain": [
       "<Figure size 432x288 with 2 Axes>"
      ]
     },
     "metadata": {
      "needs_background": "light"
     },
     "output_type": "display_data"
    }
   ],
   "source": [
    "import ddm.plot\n",
    "import matplotlib.pyplot as plt\n",
    "ddm.plot.plot_fit_diagnostics(model=fit_model_rs, sample=test_sample)\n",
    "#plt.savefig(\"roitman-fit.png\")\n",
    "plt.show()\n"
   ]
  },
  {
   "cell_type": "code",
   "execution_count": 29,
   "metadata": {},
   "outputs": [
    {
     "data": {
      "text/html": [
       "<div>\n",
       "<style scoped>\n",
       "    .dataframe tbody tr th:only-of-type {\n",
       "        vertical-align: middle;\n",
       "    }\n",
       "\n",
       "    .dataframe tbody tr th {\n",
       "        vertical-align: top;\n",
       "    }\n",
       "\n",
       "    .dataframe thead th {\n",
       "        text-align: right;\n",
       "    }\n",
       "</style>\n",
       "<table border=\"1\" class=\"dataframe\">\n",
       "  <thead>\n",
       "    <tr style=\"text-align: right;\">\n",
       "      <th></th>\n",
       "      <th>subj_idx</th>\n",
       "      <th>category</th>\n",
       "      <th>stim</th>\n",
       "      <th>response</th>\n",
       "      <th>accuracy</th>\n",
       "      <th>rt</th>\n",
       "      <th>age</th>\n",
       "    </tr>\n",
       "  </thead>\n",
       "  <tbody>\n",
       "    <tr>\n",
       "      <th>0</th>\n",
       "      <td>9</td>\n",
       "      <td>3</td>\n",
       "      <td>1</td>\n",
       "      <td>2.0</td>\n",
       "      <td>1</td>\n",
       "      <td>0.971</td>\n",
       "      <td>0</td>\n",
       "    </tr>\n",
       "    <tr>\n",
       "      <th>1</th>\n",
       "      <td>9</td>\n",
       "      <td>3</td>\n",
       "      <td>1</td>\n",
       "      <td>1.0</td>\n",
       "      <td>0</td>\n",
       "      <td>1.367</td>\n",
       "      <td>0</td>\n",
       "    </tr>\n",
       "    <tr>\n",
       "      <th>2</th>\n",
       "      <td>9</td>\n",
       "      <td>3</td>\n",
       "      <td>0</td>\n",
       "      <td>1.0</td>\n",
       "      <td>1</td>\n",
       "      <td>0.989</td>\n",
       "      <td>0</td>\n",
       "    </tr>\n",
       "    <tr>\n",
       "      <th>3</th>\n",
       "      <td>9</td>\n",
       "      <td>3</td>\n",
       "      <td>1</td>\n",
       "      <td>2.0</td>\n",
       "      <td>1</td>\n",
       "      <td>0.692</td>\n",
       "      <td>0</td>\n",
       "    </tr>\n",
       "    <tr>\n",
       "      <th>4</th>\n",
       "      <td>9</td>\n",
       "      <td>3</td>\n",
       "      <td>0</td>\n",
       "      <td>1.0</td>\n",
       "      <td>1</td>\n",
       "      <td>0.806</td>\n",
       "      <td>0</td>\n",
       "    </tr>\n",
       "    <tr>\n",
       "      <th>...</th>\n",
       "      <td>...</td>\n",
       "      <td>...</td>\n",
       "      <td>...</td>\n",
       "      <td>...</td>\n",
       "      <td>...</td>\n",
       "      <td>...</td>\n",
       "      <td>...</td>\n",
       "    </tr>\n",
       "    <tr>\n",
       "      <th>12366</th>\n",
       "      <td>101</td>\n",
       "      <td>3</td>\n",
       "      <td>1</td>\n",
       "      <td>1.0</td>\n",
       "      <td>1</td>\n",
       "      <td>0.645</td>\n",
       "      <td>1</td>\n",
       "    </tr>\n",
       "    <tr>\n",
       "      <th>12367</th>\n",
       "      <td>101</td>\n",
       "      <td>3</td>\n",
       "      <td>1</td>\n",
       "      <td>1.0</td>\n",
       "      <td>1</td>\n",
       "      <td>1.858</td>\n",
       "      <td>1</td>\n",
       "    </tr>\n",
       "    <tr>\n",
       "      <th>12368</th>\n",
       "      <td>101</td>\n",
       "      <td>3</td>\n",
       "      <td>0</td>\n",
       "      <td>2.0</td>\n",
       "      <td>1</td>\n",
       "      <td>0.759</td>\n",
       "      <td>1</td>\n",
       "    </tr>\n",
       "    <tr>\n",
       "      <th>12369</th>\n",
       "      <td>101</td>\n",
       "      <td>3</td>\n",
       "      <td>1</td>\n",
       "      <td>1.0</td>\n",
       "      <td>1</td>\n",
       "      <td>0.584</td>\n",
       "      <td>1</td>\n",
       "    </tr>\n",
       "    <tr>\n",
       "      <th>12370</th>\n",
       "      <td>101</td>\n",
       "      <td>3</td>\n",
       "      <td>0</td>\n",
       "      <td>2.0</td>\n",
       "      <td>1</td>\n",
       "      <td>0.770</td>\n",
       "      <td>1</td>\n",
       "    </tr>\n",
       "  </tbody>\n",
       "</table>\n",
       "<p>12371 rows × 7 columns</p>\n",
       "</div>"
      ],
      "text/plain": [
       "       subj_idx  category  stim  response  accuracy     rt  age\n",
       "0             9         3     1       2.0         1  0.971    0\n",
       "1             9         3     1       1.0         0  1.367    0\n",
       "2             9         3     0       1.0         1  0.989    0\n",
       "3             9         3     1       2.0         1  0.692    0\n",
       "4             9         3     0       1.0         1  0.806    0\n",
       "...         ...       ...   ...       ...       ...    ...  ...\n",
       "12366       101         3     1       1.0         1  0.645    1\n",
       "12367       101         3     1       1.0         1  1.858    1\n",
       "12368       101         3     0       2.0         1  0.759    1\n",
       "12369       101         3     1       1.0         1  0.584    1\n",
       "12370       101         3     0       2.0         1  0.770    1\n",
       "\n",
       "[12371 rows x 7 columns]"
      ]
     },
     "execution_count": 29,
     "metadata": {},
     "output_type": "execute_result"
    }
   ],
   "source": [
    "df"
   ]
  },
  {
   "cell_type": "code",
   "execution_count": 30,
   "metadata": {},
   "outputs": [
    {
     "data": {
      "text/plain": [
       "3.497"
      ]
     },
     "execution_count": 30,
     "metadata": {},
     "output_type": "execute_result"
    }
   ],
   "source": [
    "# compute T_dur:\n",
    "T_dur = df['rt'].max()+1\n",
    "T_dur "
   ]
  },
  {
   "cell_type": "code",
   "execution_count": 34,
   "metadata": {},
   "outputs": [
    {
     "data": {
      "text/plain": [
       "'/Users/terlau/LNDG/EyeMem'"
      ]
     },
     "execution_count": 34,
     "metadata": {},
     "output_type": "execute_result"
    }
   ],
   "source": [
    "pwd"
   ]
  },
  {
   "cell_type": "code",
   "execution_count": 5,
   "metadata": {},
   "outputs": [
    {
     "data": {
      "image/png": "[encoded data removed]",
      "text/plain": [
       "<Figure size 432x288 with 1 Axes>"
      ]
     },
     "metadata": {
      "needs_background": "light"
     },
     "output_type": "display_data"
    }
   ],
   "source": [
    "import matplotlib.pyplot as plt\n",
    "from ddm import Model\n",
    "m = Model()\n",
    "s = m.solve()\n",
    "plt.plot(s.model.t_domain(), s.pdf_corr())\n",
    "#plt.savefig(\"helloworld.png\")\n",
    "plt.show()\n"
   ]
  },
  {
   "cell_type": "code",
   "execution_count": 6,
   "metadata": {},
   "outputs": [
    {
     "name": "stdout",
     "output_type": "stream",
     "text": [
      "Model Simple model information:\n",
      "Drift component DriftConstant:\n",
      "    constant\n",
      "    Fixed parameters:\n",
      "    - drift: 2.200000\n",
      "Noise component NoiseConstant:\n",
      "    constant\n",
      "    Fixed parameters:\n",
      "    - noise: 1.500000\n",
      "Bound component BoundConstant:\n",
      "    constant\n",
      "    Fixed parameters:\n",
      "    - B: 1.100000\n",
      "IC component ICPointSourceCenter:\n",
      "    point_source_center\n",
      "    (No parameters)\n",
      "Overlay component OverlayNonDecision:\n",
      "    Add a non-decision by shifting the histogram\n",
      "    Fixed parameters:\n",
      "    - nondectime: 0.100000\n",
      "\n"
     ]
    }
   ],
   "source": [
    "from ddm.models import DriftConstant, NoiseConstant, BoundConstant, OverlayNonDecision\n",
    "from ddm.functions import fit_adjust_model, display_model\n",
    "\n",
    "model = Model(name='Simple model',\n",
    "              drift=DriftConstant(drift=2.2),\n",
    "              noise=NoiseConstant(noise=1.5),\n",
    "              bound=BoundConstant(B=1.1),\n",
    "              overlay=OverlayNonDecision(nondectime=.1),\n",
    "              dx=.001, dt=.01, T_dur=2)\n",
    "display_model(model)\n",
    "sol = model.solve()"
   ]
  },
  {
   "cell_type": "code",
   "execution_count": 7,
   "metadata": {},
   "outputs": [],
   "source": [
    "#generate psuedo-data from this solved model with the resample() function\n",
    "samp = sol.resample(1000)"
   ]
  },
  {
   "cell_type": "code",
   "execution_count": 9,
   "metadata": {},
   "outputs": [
    {
     "name": "stdout",
     "output_type": "stream",
     "text": [
      "Params [2.20536714 1.45855076 0.10962332] gave 486.85170512403204\n"
     ]
    },
    {
     "data": {
      "text/plain": [
       "Model(name='Simple model (fitted)', drift=DriftConstant(drift=Fitted(2.2053671404674007, minval=0, maxval=4)), noise=NoiseConstant(noise=Fitted(1.4585507576422734, minval=0.5, maxval=4)), bound=BoundConstant(B=1.1), IC=ICPointSourceCenter(), overlay=OverlayNonDecision(nondectime=Fitted(0.10962331623309463, minval=0, maxval=1)), dx=0.001, dt=0.01, T_dur=2, fitresult=FitResult(fitting_method='differential_evolution', method='auto', loss='BIC', value=486.85170512403204, nparams=3, samplesize=1000, mess=''))"
      ]
     },
     "execution_count": 9,
     "metadata": {},
     "output_type": "execute_result"
    }
   ],
   "source": [
    "from ddm import Fittable\n",
    "from ddm.models import LossRobustBIC\n",
    "from ddm.functions import fit_adjust_model\n",
    "model_fit = Model(name='Simple model (fitted)',\n",
    "                  drift=DriftConstant(drift=Fittable(minval=0, maxval=4)),\n",
    "                  noise=NoiseConstant(noise=Fittable(minval=.5, maxval=4)),\n",
    "                  bound=BoundConstant(B=1.1),\n",
    "                  overlay=OverlayNonDecision(nondectime=Fittable(minval=0, maxval=1)),\n",
    "                  dx=.001, dt=.01, T_dur=2)\n",
    "\n",
    "fit_adjust_model(samp, model_fit,\n",
    "                 fitting_method=\"differential_evolution\",\n",
    "                 lossfunction=LossRobustBIC, verbose=False)"
   ]
  },
  {
   "cell_type": "code",
   "execution_count": 10,
   "metadata": {},
   "outputs": [
    {
     "name": "stdout",
     "output_type": "stream",
     "text": [
      "Model Simple model (fitted) information:\n",
      "Drift component DriftConstant:\n",
      "    constant\n",
      "    Fitted parameters:\n",
      "    - drift: 2.205367\n",
      "Noise component NoiseConstant:\n",
      "    constant\n",
      "    Fitted parameters:\n",
      "    - noise: 1.458551\n",
      "Bound component BoundConstant:\n",
      "    constant\n",
      "    Fixed parameters:\n",
      "    - B: 1.100000\n",
      "IC component ICPointSourceCenter:\n",
      "    point_source_center\n",
      "    (No parameters)\n",
      "Overlay component OverlayNonDecision:\n",
      "    Add a non-decision by shifting the histogram\n",
      "    Fitted parameters:\n",
      "    - nondectime: 0.109623\n",
      "Fit information:\n",
      "    Loss function: BIC\n",
      "    Loss function value: 486.85170512403204\n",
      "    Fitting method: differential_evolution\n",
      "    Solver: auto\n",
      "    Other properties:\n",
      "        - nparams: 3\n",
      "        - samplesize: 1000\n",
      "        - mess: ''\n",
      "\n"
     ]
    }
   ],
   "source": [
    "display_model(model_fit)"
   ]
  },
  {
   "cell_type": "code",
   "execution_count": 11,
   "metadata": {},
   "outputs": [
    {
     "name": "stdout",
     "output_type": "stream",
     "text": [
      "Warning: model_gui funciton unavailable.  To use model_gui, please import ddm.plot before matplotlib.pyplot.\n"
     ]
    },
    {
     "data": {
      "image/png": "[encoded data removed]",
      "text/plain": [
       "<Figure size 432x288 with 2 Axes>"
      ]
     },
     "metadata": {
      "needs_background": "light"
     },
     "output_type": "display_data"
    }
   ],
   "source": [
    "import ddm.plot\n",
    "ddm.plot.plot_fit_diagnostics(model=model_fit, sample=samp)\n",
    "#plt.savefig(\"simple-fit.png\")\n",
    "plt.show()\n",
    "\n"
   ]
  },
  {
   "cell_type": "code",
   "execution_count": 12,
   "metadata": {},
   "outputs": [
    {
     "name": "stdout",
     "output_type": "stream",
     "text": [
      "0.8937015385162344\n",
      "[0.00000000e+00 0.00000000e+00 0.00000000e+00 0.00000000e+00\n",
      " 0.00000000e+00 0.00000000e+00 0.00000000e+00 0.00000000e+00\n",
      " 0.00000000e+00 0.00000000e+00 0.00000000e+00 2.07365499e-10\n",
      " 5.00458955e-05 2.38145936e-03 1.43848498e-02 3.90619605e-02\n",
      " 7.20389916e-02 1.07279501e-01 1.40406765e-01 1.69113545e-01\n",
      " 1.92585355e-01 2.10874478e-01 2.24459235e-01 2.33980790e-01\n",
      " 2.40101611e-01 2.43437087e-01 2.44527962e-01 2.43834117e-01\n",
      " 2.41738697e-01 2.38556580e-01 2.34544091e-01 2.29908443e-01\n",
      " 2.24816229e-01 2.19400774e-01 2.13768322e-01 2.08003174e-01\n",
      " 2.02171914e-01 1.96326847e-01 1.90508801e-01 1.84749393e-01\n",
      " 1.79072854e-01 1.73497511e-01 1.68036971e-01 1.62701084e-01\n",
      " 1.57496705e-01 1.52428321e-01 1.47498541e-01 1.42708501e-01\n",
      " 1.38058181e-01 1.33546658e-01 1.29172320e-01 1.24933024e-01\n",
      " 1.20826228e-01 1.16849097e-01 1.12998587e-01 1.09271511e-01\n",
      " 1.05664589e-01 1.02174491e-01 9.87978738e-02 9.55313982e-02\n",
      " 9.23717551e-02 8.93156782e-02 8.63599563e-02 8.35014413e-02\n",
      " 8.07370549e-02 7.80637930e-02 7.54787285e-02 7.29790134e-02\n",
      " 7.05618794e-02 6.82246385e-02 6.59646820e-02 6.37794804e-02\n",
      " 6.16665817e-02 5.96236104e-02 5.76482658e-02 5.57383200e-02\n",
      " 5.38916167e-02 5.21060687e-02 5.03796566e-02 4.87104263e-02\n",
      " 4.70964875e-02 4.55360117e-02 4.40272304e-02 4.25684328e-02\n",
      " 4.11579646e-02 3.97942261e-02 3.84756698e-02 3.72007998e-02\n",
      " 3.59681692e-02 3.47763792e-02 3.36240768e-02 3.25099542e-02\n",
      " 3.14327466e-02 3.03912310e-02 2.93842250e-02 2.84105853e-02\n",
      " 2.74692065e-02 2.65590197e-02 2.56789915e-02 2.48281226e-02\n",
      " 2.40054469e-02 2.32100303e-02 2.24409695e-02 2.16973914e-02\n",
      " 2.09784515e-02 2.02833335e-02 1.96112481e-02 1.89614321e-02\n",
      " 1.83331477e-02 1.77256813e-02 1.71383432e-02 1.65704665e-02\n",
      " 1.60214063e-02 1.54905391e-02 1.49772621e-02 1.44809925e-02\n",
      " 1.40011666e-02 1.35372398e-02 1.30886851e-02 1.26549932e-02\n",
      " 1.22356716e-02 1.18302442e-02 1.14382506e-02 1.10592456e-02\n",
      " 1.06927990e-02 1.03384944e-02 9.99592974e-03 9.66471589e-03\n",
      " 9.34447676e-03 9.03484872e-03 8.73548016e-03 8.44603115e-03\n",
      " 8.16617298e-03 7.89558788e-03 7.63396859e-03 7.38101801e-03\n",
      " 7.13644892e-03 6.89998360e-03 6.67135353e-03 6.45029908e-03\n",
      " 6.23656924e-03 6.02992132e-03 5.83012064e-03 5.63694034e-03\n",
      " 5.45016104e-03 5.26957065e-03 5.09496410e-03 4.92614312e-03\n",
      " 4.76291599e-03 4.60509738e-03 4.45250807e-03 4.30497478e-03\n",
      " 4.16232999e-03 4.02441172e-03 3.89106335e-03 3.76213346e-03\n",
      " 3.63747565e-03 3.51694836e-03 3.40041472e-03 3.28774242e-03\n",
      " 3.17880349e-03 3.07347424e-03 2.97163507e-03 2.87317032e-03\n",
      " 2.77796819e-03 2.68592056e-03 2.59692293e-03 2.51087422e-03\n",
      " 2.42767672e-03 2.34723596e-03 2.26946060e-03 2.19426231e-03\n",
      " 2.12155571e-03 2.05125823e-03 1.98329005e-03 1.91757399e-03\n",
      " 1.85403542e-03 1.79260220e-03 1.73320455e-03 1.67577504e-03\n",
      " 1.62024845e-03 1.56656172e-03 1.51465390e-03 1.46446604e-03\n",
      " 1.41594114e-03 1.36902411e-03 1.32366167e-03 1.27980231e-03\n",
      " 1.23739623e-03 1.19639526e-03 1.15675286e-03 1.11842400e-03\n",
      " 1.08136516e-03 1.04553426e-03 1.01089062e-03 9.77394888e-04\n",
      " 9.45009033e-04 9.13696280e-04 8.83421070e-04 8.54149026e-04\n",
      " 8.25846907e-04]\n"
     ]
    }
   ],
   "source": [
    "print(sol.prob_correct())\n",
    "print(sol.pdf_err())"
   ]
  },
  {
   "cell_type": "code",
   "execution_count": null,
   "metadata": {},
   "outputs": [],
   "source": []
  }
 ],
 "metadata": {
  "kernelspec": {
   "display_name": "Python 3",
   "language": "python",
   "name": "python3"
  },
  "language_info": {
   "codemirror_mode": {
    "name": "ipython",
    "version": 3
   },
   "file_extension": ".py",
   "mimetype": "text/x-python",
   "name": "python",
   "nbconvert_exporter": "python",
   "pygments_lexer": "ipython3",
   "version": "3.8.3"
  }
 },
 "nbformat": 4,
 "nbformat_minor": 4
}
