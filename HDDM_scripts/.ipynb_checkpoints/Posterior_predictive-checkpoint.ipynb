{
 "cells": [
  {
   "cell_type": "code",
   "execution_count": null,
   "id": "84559bed",
   "metadata": {},
   "outputs": [],
   "source": [
    "import pandas as pd\n",
    "import numpy as np\n",
    "import matplotlib.pyplot as plt\n",
    "import kabuki\n",
    "import platform\n",
    "from kabuki.analyze import gelman_rubin"
   ]
  },
  {
   "cell_type": "code",
   "execution_count": null,
   "id": "271cd0bb",
   "metadata": {},
   "outputs": [],
   "source": [
    "# Load data from csv file into a NumPy structured array\n",
    "data = hddm.load_csv('/Users/terlau/LNDG/EyeMem/EyeMem_1/HDDM/EyeMem_hddm_test.csv')\n",
    "#data = hddm.load_csv(\"/Users/terlau/LNDG/EyeMem/EyeMem_2/behavior/plotting/EyeMem_hddm_test.csv\")\n",
    "data"
   ]
  },
  {
   "cell_type": "code",
   "execution_count": null,
   "id": "51fc2f3a",
   "metadata": {},
   "outputs": [],
   "source": [
    "import warnings\n",
    "warnings.filterwarnings('ignore')"
   ]
  },
  {
   "cell_type": "code",
   "execution_count": null,
   "id": "de4e6b7e",
   "metadata": {},
   "outputs": [],
   "source": [
    "appended_data = []\n",
    "# create a lst with unique sub ids\n",
    "SubjectList = np.unique(data['subj_idx'])\n",
    "data.rename(columns={'response':'key'}, inplace=True)\n",
    "\n",
    "for sub in SubjectList:\n",
    "    \n",
    "    print(\"Subject\", sub)\n",
    "   \n",
    "    sub_df = data[data['subj_idx'] == sub]\n",
    "    # correct & stim was present, hit --> finding response key corresponding to \"old\"\n",
    "    resp = np.unique(sub_df[\"key\"][(sub_df[\"stim\"] == 1) & (sub_df[\"accuracy\"] == 1)])\n",
    "    print(resp[0])\n",
    "    # 1 where response key was indicating presence of stim, so subject said \"yes I've seen this\", i.e. old, 0 (new) otherwise\n",
    "    sub_df['response']=np.where(sub_df[\"key\"] == resp[0],1,0)\n",
    "   # print(sub_df['response'].unique())\n",
    "   # print(sub_df.head())\n",
    "    # store DataFrame in list\n",
    "    appended_data.append(sub_df)\n",
    "    \n",
    "\n",
    "final_data = pd.concat(appended_data)\n",
    "final_data"
   ]
  },
  {
   "cell_type": "code",
   "execution_count": null,
   "id": "fb19992c",
   "metadata": {},
   "outputs": [],
   "source": [
    "#convert stim column from int to bool\n",
    "final_data['stim'] = final_data['stim'].astype(bool)"
   ]
  },
  {
   "cell_type": "code",
   "execution_count": null,
   "id": "4f131df0",
   "metadata": {},
   "outputs": [],
   "source": [
    "dfs = [x for _, x in final_data.groupby('age')]\n",
    "YA = dfs[0]\n",
    "OA = dfs[1]\n",
    "print(YA)\n",
    "print(OA)"
   ]
  },
  {
   "cell_type": "code",
   "execution_count": null,
   "id": "e487a2bd",
   "metadata": {},
   "outputs": [],
   "source": [
    "# Instantiate model object passing it our data (no need to call flip_errors() before passing it).\n",
    "# This will tailor an individual hierarchical DDM around your dataset.\n",
    "\n",
    "#m = hddm.HDDM(OA)\n",
    "\n",
    "# bias only possible for stim coding\n",
    "# response column represent the choice, old or 23new\n",
    "m = hddm.HDDMStimCoding(OA, stim_col='stim', split_param='v', bias=True, drift_criterion=True)\n",
    "\n",
    "#m = hddm.HDDM(YA,  depends_on={'v':'stim', 'a':'stim', 't':'stim'})\n",
    "# find a good starting point which helps with the convergence.\n",
    "m.find_starting_values()\n",
    "#5000, burn=2500 is more sensible\n",
    "m.sample(5000, burn=2500, dbname='eyemem1_bias_model_OA', db='pickle')\n",
    "#m.save('/Users/terlau/LNDG/EyeMem/HDDM/eyemem1_bias_model_OA')"
   ]
  }
 ],
 "metadata": {
  "kernelspec": {
   "display_name": "Python 3.6",
   "language": "python",
   "name": "py36"
  }
 },
 "nbformat": 4,
 "nbformat_minor": 5
}
